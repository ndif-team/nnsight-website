{
 "cells": [
  {
   "cell_type": "markdown",
   "metadata": {
    "id": "54SE5PC6Ny1v"
   },
   "source": [
    "# Early Stopping"
   ]
  },
  {
   "cell_type": "markdown",
   "metadata": {
    "id": "TaTU40s3N1xg"
   },
   "source": [
    "## Summary"
   ]
  },
  {
   "cell_type": "markdown",
   "metadata": {
    "id": "3kgehdYcOE1T"
   },
   "source": [
    "You can implement more efficient experiments with `nnsight` by halting a model's forward pass run early after accessing your values of interest. Calling `tracer.stop()` will interrup model execution and terminate tracing without going through the rest of the model's execution."
   ]
  },
  {
   "cell_type": "markdown",
   "metadata": {
    "id": "1Qi-UotZqaNV"
   },
   "source": [
    "```python\n",
    "with model.trace(prompt) as tracer:\n",
    "   lk_out = model.layer[k].output.save()\n",
    "\n",
    "   # stop after layer k\n",
    "   tracer.stop()\n",
    "```"
   ]
  },
  {
   "cell_type": "markdown",
   "metadata": {
    "id": "MBVQWWq6N3TO"
   },
   "source": [
    "## When to Use"
   ]
  },
  {
   "cell_type": "markdown",
   "metadata": {
    "id": "wh4UQIRjN9VH"
   },
   "source": [
    "Early stopping makes targeted experiments more efficient! You can break tracing early if you don't need to complete the full forward pass or want to control the stopping point of multi-token generation.\n",
    "\n",
    "It can be particularly helpful for intensive interventions that only need to occur up to a certain layer, like training SAEs for a given layer of a model."
   ]
  },
  {
   "cell_type": "markdown",
   "metadata": {
    "id": "ssAE4poAN8BB"
   },
   "source": [
    "## How to Use"
   ]
  },
  {
   "cell_type": "markdown",
   "metadata": {
    "id": "pOGhGBBdNy1w"
   },
   "source": [
    "Calling `tracer.stop()` will interrupt tracing immediately at the most recent point of the model's execution, which will be defined by the latest module being accessed above the stop call."
   ]
  },
  {
   "cell_type": "markdown",
   "metadata": {
    "id": "hBI4EBPQxSwj"
   },
   "source": [
    "Let's try it out! We'll save the output of layer 5 and then halt the execution."
   ]
  },
  {
   "cell_type": "code",
   "execution_count": 14,
   "metadata": {
    "colab": {
     "base_uri": "https://localhost:8080/"
    },
    "executionInfo": {
     "elapsed": 6,
     "status": "ok",
     "timestamp": 1755287988326,
     "user": {
      "displayName": "Adam Belfki",
      "userId": "04185562616023439265"
     },
     "user_tz": 240
    },
    "id": "sv5zNbr5w78v",
    "outputId": "469d68bb-24de-40e7-9386-5b989535f490"
   },
   "outputs": [
    {
     "name": "stdout",
     "output_type": "stream",
     "text": [
      "(tensor([[[ 0.1408, -1.4999,  0.9446,  ..., -1.5783, -0.6470, -0.1584],\n",
      "         [ 0.8697,  0.3205,  2.2336,  ..., -2.1563, -1.1537, -2.0113],\n",
      "         [ 1.4215,  2.9198, -0.3065,  ..., -1.1516, -0.2206,  3.1634],\n",
      "         ...,\n",
      "         [ 0.0068,  2.2785, -0.7487,  ...,  0.2559,  0.7301,  0.6825],\n",
      "         [-2.4241,  1.7621, -5.4071,  ...,  3.3570, -0.6088, -0.2757],\n",
      "         [ 3.7067,  2.9246, -0.8595,  ...,  2.0726, -0.2367,  4.0470]]],\n",
      "       device='cuda:0', grad_fn=<AddBackward0>),)\n"
     ]
    }
   ],
   "source": [
    "with model.trace(prompt) as tracer:\n",
    "\n",
    "  hs = model.transformer.h[5].output.save()\n",
    "\n",
    "  # stop after layer 5\n",
    "  tracer.stop()\n",
    "\n",
    "print(hs)"
   ]
  },
  {
   "cell_type": "markdown",
   "metadata": {
    "id": "k1Q94ycJNy1x"
   },
   "source": [
    "Keep in mind that **Early Stopping** means all subsequently defined interventions will never run.\n"
   ]
  },
  {
   "cell_type": "code",
   "execution_count": 15,
   "metadata": {
    "colab": {
     "base_uri": "https://localhost:8080/",
     "height": 173
    },
    "executionInfo": {
     "elapsed": 20,
     "status": "error",
     "timestamp": 1755287988347,
     "user": {
      "displayName": "Adam Belfki",
      "userId": "04185562616023439265"
     },
     "user_tz": 240
    },
    "id": "TVXHDWgbNy1y",
    "outputId": "1cc37b4f-7ff1-48ef-c2f6-aab4fc52f78c"
   },
   "outputs": [
    {
     "ename": "NameError",
     "evalue": "name 'hs_1' is not defined",
     "output_type": "error",
     "traceback": [
      "\u001b[0;31m---------------------------------------------------------------------------\u001b[0m",
      "\u001b[0;31mNameError\u001b[0m                                 Traceback (most recent call last)",
      "\u001b[0;32m/tmp/ipython-input-3130486789.py\u001b[0m in \u001b[0;36m<cell line: 0>\u001b[0;34m()\u001b[0m\n\u001b[1;32m      6\u001b[0m   \u001b[0mhs_1\u001b[0m \u001b[0;34m=\u001b[0m \u001b[0mmodel\u001b[0m\u001b[0;34m.\u001b[0m\u001b[0mtransformer\u001b[0m\u001b[0;34m.\u001b[0m\u001b[0mh\u001b[0m\u001b[0;34m[\u001b[0m\u001b[0;36m1\u001b[0m\u001b[0;34m]\u001b[0m\u001b[0;34m.\u001b[0m\u001b[0moutput\u001b[0m\u001b[0;34m.\u001b[0m\u001b[0msave\u001b[0m\u001b[0;34m(\u001b[0m\u001b[0;34m)\u001b[0m\u001b[0;34m\u001b[0m\u001b[0;34m\u001b[0m\u001b[0m\n\u001b[1;32m      7\u001b[0m \u001b[0;34m\u001b[0m\u001b[0m\n\u001b[0;32m----> 8\u001b[0;31m \u001b[0mprint\u001b[0m\u001b[0;34m(\u001b[0m\u001b[0;34m\"L2 - Output: \"\u001b[0m\u001b[0;34m,\u001b[0m \u001b[0mhs_1\u001b[0m\u001b[0;34m)\u001b[0m\u001b[0;34m\u001b[0m\u001b[0;34m\u001b[0m\u001b[0m\n\u001b[0m",
      "\u001b[0;31mNameError\u001b[0m: name 'hs_1' is not defined"
     ]
    }
   ],
   "source": [
    "with model.trace(prompt) as tracer:\n",
    "  model.transformer.h[0].output\n",
    "\n",
    "  tracer.stop()\n",
    "\n",
    "  hs_1 = model.transformer.h[1].output.save()\n",
    "\n",
    "print(\"L2 - Output: \", hs_1)"
   ]
  },
  {
   "cell_type": "markdown",
   "metadata": {
    "id": "gT6tYj2gz95q"
   },
   "source": [
    "In the example above, the model's execution was stopped at layer 1, so the output of layer 2 was never defined."
   ]
  },
  {
   "cell_type": "markdown",
   "metadata": {
    "id": "4Xbojm64ziwq"
   },
   "source": [
    "### Time Saving"
   ]
  },
  {
   "cell_type": "markdown",
   "metadata": {
    "id": "-8G7QScH0fwb"
   },
   "source": [
    "Early Stopping interrupts the model execution early, and hence, renders experiments more time-efficient.\n",
    "\n",
    "Let's verify that the model is actually being interrupted and that the time gain is real."
   ]
  },
  {
   "cell_type": "code",
   "execution_count": 16,
   "metadata": {
    "colab": {
     "base_uri": "https://localhost:8080/"
    },
    "executionInfo": {
     "elapsed": 45,
     "status": "ok",
     "timestamp": 1755287992727,
     "user": {
      "displayName": "Adam Belfki",
      "userId": "04185562616023439265"
     },
     "user_tz": 240
    },
    "id": "zloSqaC2nV9u",
    "outputId": "97ff7ea1-0eff-408b-cc96-ea33232703ef"
   },
   "outputs": [
    {
     "name": "stdout",
     "output_type": "stream",
     "text": [
      "Execution Time w/o Stop: 0.0295\n",
      "Execution Time w/ Early Stop: 0.0150\n"
     ]
    }
   ],
   "source": [
    "import time\n",
    "\n",
    "# no stop tun\n",
    "start_time = time.perf_counter()\n",
    "with model.trace(prompt):\n",
    "   hs = model.transformer.h[5].output.save()\n",
    "\n",
    "no_stop_exc_time = time.perf_counter() - start_time\n",
    "\n",
    "\n",
    "# early stop run\n",
    "start_time = time.perf_counter()\n",
    "with model.trace(prompt) as tracer:\n",
    "   hs = model.transformer.h[5].output.save()\n",
    "\n",
    "   # stop after layer 5\n",
    "   tracer.stop()\n",
    "\n",
    "stop_exc_time = time.perf_counter() - start_time\n",
    "\n",
    "print(f\"Execution Time w/o Stop: {no_stop_exc_time:.4f}\")\n",
    "print(f\"Execution Time w/ Early Stop: {stop_exc_time:.4f}\")"
   ]
  }
 ],
 "metadata": {
  "accelerator": "GPU",
  "colab": {
   "collapsed_sections": [
    "Jr72W_b2mmY8",
    "4Xbojm64ziwq"
   ],
   "gpuType": "T4",
   "provenance": []
  },
  "kernelspec": {
   "display_name": "Python 3",
   "name": "python3"
  },
  "language_info": {
   "codemirror_mode": {
    "name": "ipython",
    "version": 3
   },
   "file_extension": ".py",
   "mimetype": "text/x-python",
   "name": "python",
   "nbconvert_exporter": "python",
   "pygments_lexer": "ipython3",
   "version": "3.10.13"
  }
 },
 "nbformat": 4,
 "nbformat_minor": 0
}
