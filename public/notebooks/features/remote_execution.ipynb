{
 "cells": [
  {
   "cell_type": "markdown",
   "metadata": {
    "id": "hp69qF55rYhh"
   },
   "source": [
    "# Remote Execution"
   ]
  },
  {
   "cell_type": "markdown",
   "metadata": {
    "id": "FtqFcy2fwXbZ"
   },
   "source": [
    "## Summary"
   ]
  },
  {
   "cell_type": "markdown",
   "metadata": {
    "id": "Vz7q5GHEw3UQ"
   },
   "source": [
    "NNsight is integrated with NDIF's remote backend, allowing you to run experiments on large models without needing to worry about hosting them yourself! All you need is to register for an API key (https://login.ndif.us) and ensure that your model from HuggingFace is hosted on NDIF (check out the live status of our remote models: https://nnsight.net/status/)."
   ]
  },
  {
   "cell_type": "markdown",
   "metadata": {
    "id": "R8lFJzr0YZbB"
   },
   "source": [
    "Accessing models remotely in NDIF is as simple as setting `remote = True` when you enter the tracing context. You can keep the same code you use in local experiments and run them remotely instead!"
   ]
  },
  {
   "cell_type": "markdown",
   "metadata": {},
   "source": [
    "```python\n",
    "from nnsight import LanguageModel\n",
    "# We'll never actually load the parameters so no need to specify a device_map.\n",
    "model = LanguageModel(\"Model_from_HuggingFace\")\n",
    "\n",
    "# All we need to specify using NDIF vs executing locally is remote=True.\n",
    "with model.trace(\"The Eiffel Tower is in the city of\", remote=True):\n",
    "    hidden_states = model.layers[-1].output.save()\n",
    "```"
   ]
  },
  {
   "cell_type": "markdown",
   "metadata": {
    "id": "xxgGuBkNwY9T"
   },
   "source": [
    "## When to Use"
   ]
  },
  {
   "cell_type": "markdown",
   "metadata": {
    "id": "hBNzFjjYwkrY"
   },
   "source": [
    "NDIF hosts a selection of models for remote access using NNsight. If you are low on compute or would like to scale your experiment to large models like `Llama-405B`, you can run experiments on NDIF remote models!"
   ]
  },
  {
   "cell_type": "markdown",
   "metadata": {
    "id": "NMSDrsZdwaai"
   },
   "source": [
    "## How to Use"
   ]
  },
  {
   "cell_type": "markdown",
   "metadata": {
    "id": "24iSN97xdlp-"
   },
   "source": [
    "### 1. Configure NDIF API Key"
   ]
  },
  {
   "cell_type": "markdown",
   "metadata": {
    "id": "54mjgwdNrYhj"
   },
   "source": [
    "To access remote models, `NDIF` requires you to receive an API key. To get one, simply\n",
    "go to https://login.ndif.us and sign up. Because NDIF hardware resources are provided by the US NSF funding, NDIF usage is restricted to US residents and their collaborators. If you are curious about your eligibility, please email info@ndif.us.\n",
    "\n",
    "Once you have a valid NDIF API key, you then can configure `nnsight` by doing the following:"
   ]
  },
  {
   "cell_type": "code",
   "execution_count": null,
   "metadata": {
    "id": "NG5Oml_brYhj"
   },
   "outputs": [],
   "source": [
    "from nnsight import CONFIG\n",
    "\n",
    "CONFIG.set_default_api_key(\"YOUR_API_KEY\")"
   ]
  },
  {
   "cell_type": "markdown",
   "metadata": {
    "id": "BmyT0GbGrYhk"
   },
   "source": [
    "If you are running NNsight locally, this will save this API key as the default in a\n",
    "config file along with the `nnsight` installation, meaning that this command only needs to be run once.\n",
    "\n",
    "<details>\n",
    "<summary>\n",
    "Configuring NNsight API key in Google Colab\n",
    "</summary>\n",
    "\n",
    "If you are running in Google Colab, you will need to configure your workspace every time, so we recommend adding your API key as a Colab Secret. Check out [this article](https://medium.com/@parthdasawant/how-to-use-secrets-in-google-colab-450c38e3ec75) on configuring secrets.\n",
    "\n",
    "Once you've saved your API key as `NDIF_API` in Colab Secrets, you can add this code to your notebooks for remote NDIF access on Colab.\n",
    "```python\n",
    "# include your NDIF API key on Colab secrets as NDIF_API\n",
    "from google.colab import userdata\n",
    "NDIF_API = userdata.get('NDIF_API')\n",
    "\n",
    "CONFIG.set_default_api_key(NDIF_API)\n",
    "```\n",
    "\n",
    "</details>"
   ]
  },
  {
   "cell_type": "markdown",
   "metadata": {
    "id": "R_w8XTj6dp7o"
   },
   "source": [
    "### 2. Access NDIF-hosted Models Remotely"
   ]
  },
  {
   "cell_type": "markdown",
   "metadata": {
    "id": "zqh_t4pAxioh"
   },
   "source": [
    "Now that our API key is configured, let's run a small experiment on `Llama-3.1-70b` remotely!"
   ]
  },
  {
   "cell_type": "code",
   "execution_count": null,
   "metadata": {
    "id": "hzU52fzwrYhk"
   },
   "outputs": [],
   "source": [
    "import os\n",
    "\n",
    "# llama3.1 70b is a gated model and you need access via your huggingface token\n",
    "os.environ['HF_TOKEN'] = \"YOUR_HUGGING_FACE_TOKEN\""
   ]
  },
  {
   "cell_type": "code",
   "execution_count": null,
   "metadata": {
    "id": "h1cW561qrYhk",
    "outputId": "74d176ae-c55d-44a1-8dea-f5bc7622ff17"
   },
   "outputs": [
    {
     "name": "stderr",
     "output_type": "stream",
     "text": [
      "2024-08-30 07:11:21,150 MainProcess nnsight_remote INFO     36ff46f0-d81a-4586-b7e7-eaf6f97d6c0b - RECEIVED: Your job has been received and is waiting approval.\n",
      "2024-08-30 07:11:21,184 MainProcess nnsight_remote INFO     36ff46f0-d81a-4586-b7e7-eaf6f97d6c0b - APPROVED: Your job was approved and is waiting to be run.\n",
      "2024-08-30 07:11:21,206 MainProcess nnsight_remote INFO     36ff46f0-d81a-4586-b7e7-eaf6f97d6c0b - RUNNING: Your job has started running.\n",
      "2024-08-30 07:11:21,398 MainProcess nnsight_remote INFO     36ff46f0-d81a-4586-b7e7-eaf6f97d6c0b - COMPLETED: Your job has been completed.\n",
      "Downloading result:   0%|          | 0.00/9.48M [00:00<?, ?B/s]huggingface/tokenizers: The current process just got forked, after parallelism has already been used. Disabling parallelism to avoid deadlocks...\n",
      "To disable this warning, you can either:\n",
      "\t- Avoid using `tokenizers` before the fork if possible\n",
      "\t- Explicitly set the environment variable TOKENIZERS_PARALLELISM=(true | false)\n",
      "Downloading result: 100%|██████████| 9.48M/9.48M [00:02<00:00, 3.21MB/s]"
     ]
    },
    {
     "name": "stdout",
     "output_type": "stream",
     "text": [
      "(tensor([[[ 5.4688, -4.9062,  2.2344,  ..., -3.6875,  0.9609,  1.2578],\n",
      "         [ 1.5469, -0.6172, -1.4531,  ..., -1.1562, -0.1406, -2.1250],\n",
      "         [ 1.7812, -1.8906, -1.1875,  ...,  0.1680,  0.9609,  0.5625],\n",
      "         ...,\n",
      "         [ 0.9453, -0.3711,  1.3516,  ...,  1.3828, -0.7969, -1.9297],\n",
      "         [-0.8906,  0.3672,  0.2617,  ...,  2.4688, -0.4414, -0.6758],\n",
      "         [-1.6094,  1.0938,  1.7031,  ...,  1.8672, -1.1328, -0.5000]]],\n",
      "       dtype=torch.bfloat16), DynamicCache())\n",
      "tensor([[[ 6.3750,  8.6250, 13.0000,  ..., -4.1562, -4.1562, -4.1562],\n",
      "         [-2.8594, -2.2344, -3.0938,  ..., -8.6250, -8.6250, -8.6250],\n",
      "         [ 8.9375,  3.5938,  4.5000,  ..., -3.9375, -3.9375, -3.9375],\n",
      "         ...,\n",
      "         [ 3.5781,  3.4531,  0.0796,  ..., -6.5625, -6.5625, -6.5625],\n",
      "         [10.8750,  6.4062,  4.9375,  ..., -4.0000, -4.0000, -3.9844],\n",
      "         [ 7.2500,  6.1562,  3.5156,  ..., -4.7188, -4.7188, -4.7188]]])\n"
     ]
    },
    {
     "name": "stderr",
     "output_type": "stream",
     "text": [
      "\n"
     ]
    }
   ],
   "source": [
    "from nnsight import LanguageModel\n",
    "# We'll never actually load the parameters so no need to specify a device_map.\n",
    "llama = LanguageModel(\"meta-llama/Meta-Llama-3.1-70B\")\n",
    "\n",
    "# All we need to specify using NDIF vs executing locally is remote=True.\n",
    "with llama.trace(\"The Eiffel Tower is in the city of\", remote=True) as tracer:\n",
    "\n",
    "    hidden_states = llama.model.layers[-1].output.save()\n",
    "\n",
    "    output = llama.output.save()\n",
    "\n",
    "print(hidden_states)\n",
    "\n",
    "print(output[\"logits\"])"
   ]
  },
  {
   "cell_type": "markdown",
   "metadata": {
    "id": "JhkrDZ0hrYhk"
   },
   "source": [
    "It really is as simple as `remote=True`! All of the techniques available in NNsight locally work just the same when running remotely."
   ]
  },
  {
   "cell_type": "markdown",
   "metadata": {
    "id": "iekMm5v7d1sx"
   },
   "source": [
    "### 3. Streamlining Remote Experiments with Sessions"
   ]
  },
  {
   "cell_type": "markdown",
   "metadata": {
    "id": "pn_EQeMIeE8j"
   },
   "source": [
    "NDIF uses a queue to handle concurrent requests from multiple users. To optimize the execution of our experiments we can use the `session` context to efficiently package multiple interventions together as one single request to the server.\n",
    "\n",
    "This offers the following benefits:\n",
    "1) All interventions within a session will be executed one after another without additional wait in the queue\n",
    "2) All intermediate outputs of each intervention are stored on the server and can be accessed by other interventions in the same session without moving the data back and forth between NDIF and the local machine.\n",
    "\n",
    "Let's take a look:"
   ]
  },
  {
   "cell_type": "code",
   "execution_count": null,
   "metadata": {
    "id": "WXXj2CgzeFnV"
   },
   "outputs": [],
   "source": [
    "with model.session(remote=True) as session:\n",
    "\n",
    "  with model.trace(\"The Eiffel Tower is in the city of\") as t1:\n",
    "    # capture the hidden state from layer 11 at the last token\n",
    "    hs_79 = model.model.layers[79].output[0][:, -1, :] # no .save()\n",
    "    t1_tokens_out = model.lm_head.output.argmax(dim=-1).save()\n",
    "\n",
    "  with model.trace(\"Buckingham Palace is in the city of\") as t2:\n",
    "    model.model.layers[1].output[0][:, -1, :] = hs_79[:]\n",
    "    t2_tokens_out = model.lm_head.output.argmax(dim=-1).save()\n",
    "\n",
    "print(\"\\nT1 - Original Prediction: \", model.tokenizer.decode(t1_tokens_out[0][-1]))\n",
    "print(\"T2 - Modified Prediction: \", model.tokenizer.decode(t2_tokens_out[0][-1]))"
   ]
  },
  {
   "cell_type": "markdown",
   "metadata": {
    "id": "ywYs8CRMeJxK"
   },
   "source": [
    "In the example above, we are interested in replacing the hidden state of a later layer with an earlier one. Since we are using a `session`, we don't have to save the hidden state from Tracer 1 to reference it in Tracer 2.\n",
    "\n",
    "It is important to note that all the traces defined within the `session` context are executed sequentially, strictly following the order of definition (i.e. `t2` being executed after `t1` and `t3` after `t2` etc.)."
   ]
  },
  {
   "cell_type": "markdown",
   "metadata": {
    "id": "DN7mkQ8seKWv"
   },
   "source": [
    "The `session` context object has its own methods to log values and be terminated early."
   ]
  },
  {
   "cell_type": "code",
   "execution_count": null,
   "metadata": {
    "id": "mTQpQlzReON6"
   },
   "outputs": [],
   "source": [
    "import nnsight\n",
    "with model.session(remote=True) as session:\n",
    "\n",
    "  nnsight.log(\"-- Early Stop --\")\n",
    "  nnsight.stop"
   ]
  },
  {
   "cell_type": "markdown",
   "metadata": {
    "id": "HBfl5djpeM2T"
   },
   "source": [
    "In addition to the benefits mentioned above, the `session` context also enables interesting experiments not possible with other `nnsight` tools - since every trace is run on its own model, it means that within one session we can run interventions between different models – for example, we can swap activations between vanilla and instruct versions of the Llama model and compare the outputs. And `session` can also be used to run experiments entirely locally!"
   ]
  },
  {
   "cell_type": "markdown",
   "metadata": {
    "id": "rzf8MX1prYhk"
   },
   "source": [
    "### 4. Remote Model Considerations & System Limits\n",
    "To view currently hosted models, please visit https://nnsight.net/status/. All models except for `meta-llama/Meta-Llama-3.1-405B` and `meta-llama/Meta-Llama-3.1-405B-Instruct` are currently available for public access. If you are interested in running an experiment on Llama 405b, please reach out to us at [info@ndif.us](mailto:info@ndif.us)\n",
    ".\n",
    "\n",
    "Our system is currently actively in development, so please be prepared for system outages, updates, and wait times. NDIF is running on [NCSA Delta](https://delta.ncsa.illinois.edu), so our services will be down during any of their planned and unplanned outages.\n",
    "\n",
    "We currently have job length timeouts in place to ensure equitable model access between users.\n",
    "\n",
    "- Maximum Job Run Time: 1 hour\n",
    "\n",
    "Jobs violating these parameters will be automatically denied or aborted. Please plan your experiments accordingly. You can also reach out to our team at [info@ndif.us](mailto:info@ndif.us) if you have a special research case and would like to request any changes!"
   ]
  }
 ],
 "metadata": {
  "colab": {
   "provenance": [],
   "toc_visible": true
  },
  "kernelspec": {
   "display_name": "nnsight",
   "language": "python",
   "name": "python3"
  },
  "language_info": {
   "codemirror_mode": {
    "name": "ipython",
    "version": 3
   },
   "file_extension": ".py",
   "mimetype": "text/x-python",
   "name": "python",
   "nbconvert_exporter": "python",
   "pygments_lexer": "ipython3",
   "version": "3.10.13"
  }
 },
 "nbformat": 4,
 "nbformat_minor": 0
}
