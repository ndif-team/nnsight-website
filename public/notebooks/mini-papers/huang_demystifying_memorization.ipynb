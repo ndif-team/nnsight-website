{
 "cells": [
  {
   "cell_type": "markdown",
   "metadata": {
    "id": "eS82JupBdHsx"
   },
   "source": [
    "# Demystifying Verbatim Memorization in Large Language Models"
   ]
  },
  {
   "cell_type": "markdown",
   "metadata": {
    "id": "PvpbfssrgNBR"
   },
   "source": [
    "Recent LLMs exhibit **verbatim memorization** - reciting text directly from their training data. Verbatim memorization may lead to unreliable evaluations of LLM capabilities, might leak sensitive information in the training data, and already has resulted in [lawsuits over copyright](https://nytco-assets.nytimes.com/2023/12/Lawsuit-Document-dkt-1-68-Ex-J.pdf)."
   ]
  },
  {
   "cell_type": "markdown",
   "metadata": {
    "id": "uKMJjbVDhO4O"
   },
   "source": [
    "How do LLMs memorize long passages? Can we edit out passages that LLMs have memorized without harming their ability to generate fluent and informative text?"
   ]
  },
  {
   "cell_type": "markdown",
   "metadata": {
    "id": "fRcRSCs2hn4N"
   },
   "source": [
    "In this tutorial, we'll follow [Huang et al. (2024)](https://arxiv.org/abs/2407.17817), which looks for tokens that trigger memorization in LLMs.\n",
    "\n",
    "Along the way, we'll cover:\n",
    "* **Which tokens trigger memorization?** Applying causal interventions, we can detect tokens that have a causal effect on the LLM's memorized completion.\n",
    "* **Is memorization a single mechanism?** Memorized information is stored in different states, and might not be separable from the LLM's language modeling capabilities.\n",
    "* **Is causal analysis predictive of model behavior?** We can test the predictions made by causal intervention experiments on whether or not the LLM will respond with a memorized answer."
   ]
  },
  {
   "cell_type": "markdown",
   "metadata": {
    "id": "ldsHI-z6kWFv"
   },
   "source": [
    "Our code will roughly recreate Figure 4 in the original paper. We also **strongly encourage** you to read the [paper's blog post](https://ai.stanford.edu/blog/verbatim-memorization/)!"
   ]
  },
  {
   "cell_type": "markdown",
   "metadata": {},
   "source": [
    "<br>\n",
    "📗 Prefer to use Colab? Follow the tutorial [here](https://colab.research.google.com/github/ndif-team/nnsight-docs/blob/mini-papers/source/notebooks/mini-papers/huang_demystifying_memorization.ipynb)!"
   ]
  },
  {
   "cell_type": "markdown",
   "metadata": {
    "id": "MCuDShMpfLSk"
   },
   "source": [
    "## 0️⃣ Setup\n"
   ]
  },
  {
   "cell_type": "markdown",
   "metadata": {
    "id": "UgODkjqwlBPA"
   },
   "source": [
    "**Device**\n",
    "\n",
    "To speed things up, switch to GPU by going to Runtime -> Change Runtime Type."
   ]
  },
  {
   "cell_type": "code",
   "execution_count": null,
   "metadata": {
    "id": "eLJmaWBeUzUZ"
   },
   "outputs": [],
   "source": [
    "# import nnsight\n",
    "from IPython.display import clear_output\n",
    "\n",
    "try:\n",
    "    import google.colab\n",
    "    is_colab = True\n",
    "except ImportError:\n",
    "    is_colab = False\n",
    "\n",
    "if is_colab:\n",
    "    !pip install nnsight\n",
    "\n",
    "clear_output()"
   ]
  },
  {
   "cell_type": "code",
   "execution_count": null,
   "metadata": {
    "id": "_6vYDTymUwC2"
   },
   "outputs": [],
   "source": [
    "# load model\n",
    "import nnsight\n",
    "\n",
    "model = nnsight.LanguageModel(\"EleutherAI/pythia-2.8b\", device_map=\"auto\")\n",
    "clear_output()"
   ]
  },
  {
   "cell_type": "markdown",
   "metadata": {
    "id": "wXLK-XilfW4t"
   },
   "source": [
    "## 1️⃣ What triggers memorization?"
   ]
  },
  {
   "cell_type": "markdown",
   "metadata": {
    "id": "s78XxTQiniTh"
   },
   "source": [
    "If you prompt an LLM to complete the sentence\n",
    "\n",
    "> Mr. and Mrs. Dursley of number four, Privet Drive, were proud to say that they were perfectly ____\n",
    "\n",
    "It will know to complete it with\n",
    "\n",
    "> Mr. and Mrs. Dursley of number four, Privet Drive, were proud to say that they were perfectly **normal, thank you very much.**\n",
    "\n",
    "(if you're a Harry Potter fan, maybe you already completed it in your mind the same way!)"
   ]
  },
  {
   "cell_type": "markdown",
   "metadata": {
    "id": "WZrqz3aAopfS"
   },
   "source": [
    "This is because the LLM has **memorized** the opening to Harry Potter. But **where** does the model store its memorized information? Can we hope to extract this memorized passage out of the model's neural representations?"
   ]
  },
  {
   "cell_type": "markdown",
   "metadata": {
    "id": "9t98LM7SpSTs"
   },
   "source": [
    "To find out where a model stores memorized text, we can look at **which tokens** in the prompt have a **causal effect** on the model's behavior. Does switching out the token for \"Dursley\" with a different token change the model's completion of the sentence?\n",
    "\n",
    "We can systematically **intervene** on the model's representation of each token in the first sentence of Harry Potter to ascertain whether that representation contributes to the model's generation of the memorized passage, hence **triggering memorization**."
   ]
  },
  {
   "cell_type": "markdown",
   "metadata": {
    "id": "OYRKI5q-k0Jc"
   },
   "source": [
    "In the original paper, the authors patched from `n = 10` random examples from the pile into the memorized text.\n",
    "\n",
    "To simplify things, we'll patch from a single \"random\" example with a bunch of punctuations (i.e., a list of \"!\"). This serves as a way to *remove* information from the memorized text.\n",
    "\n",
    "This means our signal for memorization is as follows: *if the \"removal\" patch reduces the probability of outputing the memorized text, then that token plays a causal role in triggering the memorization*.\n",
    "\n",
    "In other words, for **memorized** text, we **should see a few tokens making a big difference**. For text that the model didn't memorize, we **should not see any one token making a difference**."
   ]
  },
  {
   "cell_type": "markdown",
   "metadata": {
    "id": "8zwC3jIzqYkn"
   },
   "source": [
    "_Note: if you're unfamiliar with causal mediation analysis, we strongly encourage you to check out the tutorial on [activation patching](https://nnsight.net/notebooks/tutorials/causal_mediation_analysis/activation_patching/)!_"
   ]
  },
  {
   "cell_type": "code",
   "execution_count": null,
   "metadata": {
    "id": "BtGTjSC5U4bL"
   },
   "outputs": [],
   "source": [
    "# try out other memorized lines!\n",
    "harry = \"Mr. and Mrs. Dursley of number four, Privet Drive, were proud to say that they were perfectly normal, thank you\"\n",
    "seuss = \"Congratulations!\\nToday is your day.\\nYou\\'re off to Great Places!\\nYou\\'re off and away!\"\n",
    "yoda = \"Do or do not. There is no try\"\n",
    "\n",
    "example = harry\n",
    "example_tokens = model.tokenizer(example).input_ids"
   ]
  },
  {
   "cell_type": "code",
   "execution_count": null,
   "metadata": {
    "colab": {
     "base_uri": "https://localhost:8080/",
     "height": 35
    },
    "id": "9an1WqUBU5Fo",
    "outputId": "a787b42b-da2a-4822-fbcf-87e33a89596f"
   },
   "outputs": [
    {
     "data": {
      "application/vnd.google.colaboratory.intrinsic+json": {
       "type": "string"
      },
      "text/plain": [
       "'! ! ! ! ! ! ! ! ! ! ! ! ! ! ! ! ! ! ! ! ! ! ! ! ! ! ! !'"
      ]
     },
     "execution_count": 28,
     "metadata": {},
     "output_type": "execute_result"
    }
   ],
   "source": [
    "# this is a bit hacky, but it wil serve as our \"random\" example\n",
    "random = \" \".join([\"!\"] * len(example_tokens))\n",
    "random"
   ]
  },
  {
   "cell_type": "code",
   "execution_count": null,
   "metadata": {
    "colab": {
     "base_uri": "https://localhost:8080/"
    },
    "id": "GL4tV8-_U9AQ",
    "outputId": "39555120-36ce-4de2-aa9a-dee55aa86249"
   },
   "outputs": [
    {
     "data": {
      "text/plain": [
       "torch.Size([1, 28, 2560])"
      ]
     },
     "execution_count": 22,
     "metadata": {},
     "output_type": "execute_result"
    }
   ],
   "source": [
    "# collect activations from our random source\n",
    "import torch\n",
    "\n",
    "random_activations = []\n",
    "with torch.no_grad():\n",
    "    with model.trace(random) as trace:\n",
    "        for layer in model.gpt_neox.layers:\n",
    "            random_activations.append(layer.output[0].save())\n",
    "\n",
    "random_activations[0].shape"
   ]
  },
  {
   "cell_type": "code",
   "execution_count": null,
   "metadata": {
    "colab": {
     "base_uri": "https://localhost:8080/"
    },
    "id": "Z0Li7lcxU_Rc",
    "outputId": "d2dc44a1-9ef4-4e37-c99d-e573e47e50af"
   },
   "outputs": [
    {
     "name": "stderr",
     "output_type": "stream",
     "text": [
      "100%|██████████| 16/16 [00:47<00:00,  2.98s/it]\n"
     ]
    }
   ],
   "source": [
    "# patch from the random activations into the base prompt\n",
    "from tqdm import trange\n",
    "\n",
    "patching_results = []\n",
    "\n",
    "# iterate through layers (every other layer to save time)\n",
    "for layer_idx in trange(0, model.config.num_hidden_layers, 2):\n",
    "  patching_results_per_layer = []\n",
    "\n",
    "  # iterate through all tokens\n",
    "  for token_idx in range(len(example_tokens)):\n",
    "    with torch.no_grad():\n",
    "      with model.trace(example_tokens) as tracer:\n",
    "        # apply the patch from \"random\" hidden states to current base run\n",
    "        model.gpt_neox.layers[layer_idx].output[0][:, token_idx, :] = \\\n",
    "          random_activations[layer_idx][:, token_idx, :]\n",
    "\n",
    "        # get logits\n",
    "        patched_logits = model.output.logits[0] # (num_tokens, vocab_size)\n",
    "        patched_probs = torch.softmax(patched_logits, dim=-1)\n",
    "\n",
    "        # line up token probabilities with continuations\n",
    "        patched_probs = patched_probs[:-1, :] # (num_tokens - 1, vocab_size)\n",
    "        continuation_tokens = example_tokens[1:] # (num_tokens - 1)\n",
    "\n",
    "        patching_results_per_layer.append(patched_probs[range(len(continuation_tokens)), continuation_tokens].cpu().save())\n",
    "\n",
    "  patching_results.append(torch.stack(patching_results_per_layer))\n",
    "\n",
    "patching_results = torch.stack(patching_results)"
   ]
  },
  {
   "cell_type": "code",
   "execution_count": null,
   "metadata": {
    "id": "Kc0X0FM2VCDz"
   },
   "outputs": [],
   "source": [
    "# visualize results for different token positions\n",
    "import plotly.express as px\n",
    "\n",
    "def plot_patching_results(\n",
    "  patching_results,\n",
    "  x_labels,\n",
    "  index=-1\n",
    "):\n",
    "\n",
    "  patching_results = patching_results[:, :index, index]\n",
    "\n",
    "  fig = px.imshow(\n",
    "    patching_results,\n",
    "    color_continuous_midpoint=0.5,\n",
    "    color_continuous_scale=\"BuPu_r\",\n",
    "    labels={\"x\": \"Position\", \"y\": \"Layer\",\"color\":\"Counterfactual logit\"},\n",
    "    x=x_labels[:index]\n",
    "  )\n",
    "\n",
    "  fig.update_layout(\n",
    "    yaxis=dict(autorange=\"min\")\n",
    "  )\n",
    "\n",
    "  return fig"
   ]
  },
  {
   "cell_type": "markdown",
   "metadata": {
    "id": "JvHXUnnphQtx"
   },
   "source": [
    "### Interpreting our patching results\n",
    "\n",
    "Although we collected causal effects across the entire sentence, we'll only look at two tokens:\n",
    "\n",
    "1. What causes the model to output **\"thank\"** after \"normal,\"?\n",
    "2. What causes the model to output **you** after \"thank\"?"
   ]
  },
  {
   "cell_type": "markdown",
   "metadata": {
    "id": "oNeb4_cQrEz_"
   },
   "source": [
    "For **\"thank\"**, we see that **a few specific tokens have a big impact on the model's continuation**.\n",
    "\n",
    "Specifically, the names of the Dursley's and Harry's famous residence on Privet Drive have a causal effect on the model's output. This suggests that ending the sentence on **\"thank\"** was **memorized** by the model, and that the Dursley's names **triggered the memorization**."
   ]
  },
  {
   "cell_type": "code",
   "execution_count": null,
   "metadata": {
    "colab": {
     "base_uri": "https://localhost:8080/",
     "height": 542
    },
    "id": "bL1cRSrhVEI4",
    "outputId": "c10c67e7-8ec9-4d3c-e486-08c888df0139"
   },
   "outputs": [
    {
     "data": {
      "text/html": [
       "<html>\n",
       "<head><meta charset=\"utf-8\" /></head>\n",
       "<body>\n",
       "    <div>            <script src=\"https://cdnjs.cloudflare.com/ajax/libs/mathjax/2.7.5/MathJax.js?config=TeX-AMS-MML_SVG\"></script><script type=\"text/javascript\">if (window.MathJax && window.MathJax.Hub && window.MathJax.Hub.Config) {window.MathJax.Hub.Config({SVG: {font: \"STIX-Web\"}});}</script>                <script type=\"text/javascript\">window.PlotlyConfig = {MathJaxConfig: 'local'};</script>\n",
       "        <script charset=\"utf-8\" src=\"https://cdn.plot.ly/plotly-2.35.2.min.js\"></script>                <div id=\"acbc8d57-2454-49a4-8752-d2e8c85e35c7\" class=\"plotly-graph-div\" style=\"height:525px; width:100%;\"></div>            <script type=\"text/javascript\">                                    window.PLOTLYENV=window.PLOTLYENV || {};                                    if (document.getElementById(\"acbc8d57-2454-49a4-8752-d2e8c85e35c7\")) {                    Plotly.newPlot(                        \"acbc8d57-2454-49a4-8752-d2e8c85e35c7\",                        [{\"coloraxis\":\"coloraxis\",\"name\":\"0\",\"x\":[\"(0) Mr\",\"(1) .\",\"(2)  and\",\"(3)  Mrs\",\"(4) .\",\"(5)  D\",\"(6) urs\",\"(7) ley\",\"(8)  of\",\"(9)  number\",\"(10)  four\",\"(11) ,\",\"(12)  Priv\",\"(13) et\",\"(14)  Drive\",\"(15) ,\",\"(16)  were\",\"(17)  proud\",\"(18)  to\",\"(19)  say\",\"(20)  that\",\"(21)  they\",\"(22)  were\",\"(23)  perfectly\",\"(24)  normal\",\"(25) ,\"],\"z\":[[0.2811621,0.5376397,0.74201787,0.5486769,0.7655015,0.015375001,0.010961917,0.010110702,0.24018271,0.3700483,0.24767202,0.26817784,0.07143901,0.0733252,0.051967215,0.2770295,0.030602872,0.08163867,0.19309697,0.07064236,0.23435469,0.5357915,0.42336836,0.1819814,0.0025622193,0.00003804804],[0.84660536,0.8843117,0.6312035,0.7145651,0.8231825,0.69290525,0.22458218,0.011912942,0.29676643,0.2937851,0.3594109,0.34691486,0.3208452,0.12553003,0.060806002,0.2559075,0.25669107,0.25944018,0.2730394,0.10419808,0.3685848,0.40618858,0.5824448,0.5112376,0.0027422523,0.00004279859],[0.84911317,0.8916838,0.82843006,0.8631342,0.814536,0.7071251,0.6730112,0.014590546,0.483778,0.5642996,0.49232683,0.45872593,0.5554402,0.26184732,0.07595335,0.399307,0.51685804,0.39065328,0.3229123,0.2568257,0.37743405,0.47360498,0.6136686,0.5667787,0.0070246304,0.000055455836],[0.8468244,0.8964574,0.85038584,0.84460825,0.8259004,0.7482455,0.7507618,0.018486159,0.68606114,0.6575382,0.66628593,0.7149161,0.65592086,0.6160065,0.105872974,0.4424458,0.64102775,0.7697001,0.482521,0.52627933,0.38202035,0.51259017,0.69068545,0.70016694,0.016086325,0.00004534391],[0.8406123,0.9087848,0.851514,0.8589634,0.8055761,0.71162266,0.72193855,0.034196213,0.6188705,0.657413,0.6302397,0.7372882,0.6265692,0.6753905,0.12834817,0.43742037,0.52085096,0.73857754,0.5074698,0.54450345,0.33946073,0.5098765,0.6469967,0.65550023,0.031685255,0.00005582904],[0.84328204,0.8704067,0.8614937,0.8504009,0.82993716,0.7576939,0.76791126,0.051283564,0.7241907,0.7324522,0.6841931,0.76986855,0.731585,0.7549634,0.36743048,0.6614912,0.69955564,0.7786913,0.641744,0.62383074,0.49154854,0.6276465,0.72151566,0.7293931,0.03743764,0.00005563243],[0.82846344,0.8952825,0.8609624,0.8128774,0.8016915,0.7303109,0.71786493,0.05332848,0.70682573,0.6981975,0.62858915,0.73386204,0.70996505,0.72849244,0.49291867,0.69420046,0.7051329,0.77442163,0.6765757,0.7153213,0.53629243,0.6609043,0.7478634,0.78180456,0.040487945,0.0000581284],[0.82667047,0.8794068,0.8479621,0.81890625,0.84385425,0.80915153,0.8074072,0.27703393,0.81857663,0.8091843,0.7960192,0.80291796,0.8131566,0.82224154,0.79870975,0.80805486,0.7927967,0.81442785,0.7788469,0.771241,0.6562774,0.73995936,0.8142264,0.8408928,0.07216662,0.000056959194],[0.8321727,0.8534405,0.849496,0.83447295,0.8460467,0.81303287,0.8158493,0.34614098,0.82377905,0.8166033,0.80454546,0.81213224,0.8263625,0.82794976,0.79595,0.81396556,0.8084878,0.83092475,0.8041138,0.78049535,0.7443767,0.75243586,0.8236972,0.8488594,0.08572565,0.000051645937],[0.8330432,0.82387114,0.84988976,0.8364596,0.85473275,0.81488603,0.8217915,0.612213,0.82523686,0.8205017,0.8142996,0.81925464,0.82921916,0.8282616,0.8114906,0.8219055,0.8177069,0.83289814,0.81382066,0.77143484,0.7827228,0.7885898,0.8320695,0.76814,0.1262063,0.000044706303],[0.8388417,0.82990646,0.8473887,0.8323105,0.84907466,0.8095774,0.8144906,0.7458109,0.81371826,0.8124223,0.8061987,0.8097011,0.8168285,0.8181707,0.8051541,0.8143823,0.8020901,0.8198435,0.7964482,0.7571178,0.80650467,0.8378395,0.8186334,0.76394784,0.16073632,0.000050745388],[0.839801,0.83667874,0.8461431,0.84236515,0.8560432,0.84429544,0.8496642,0.8357951,0.8407221,0.8409837,0.83934516,0.83992994,0.8419984,0.84401596,0.83288246,0.84232664,0.8261632,0.83763444,0.8292179,0.7844807,0.8417166,0.85925055,0.84093755,0.80345035,0.32003868,0.000044043096],[0.8296654,0.85714185,0.8424655,0.84058124,0.842097,0.821646,0.8225274,0.81359315,0.8233677,0.8226368,0.8228017,0.82443017,0.82226026,0.8270567,0.8190252,0.8260702,0.8109642,0.8212987,0.8169091,0.76905745,0.82454896,0.8420665,0.82964873,0.7647055,0.71616846,0.00003875851],[0.8284967,0.83898747,0.83883095,0.8360084,0.83964705,0.82666755,0.82290244,0.837982,0.83225405,0.8294131,0.82816404,0.82996213,0.8244976,0.83170086,0.8259227,0.8308509,0.8171746,0.8304569,0.8181592,0.82362247,0.8299777,0.840246,0.83597934,0.7642252,0.75428605,0.000033525146],[0.83014756,0.8263071,0.83567595,0.8340194,0.8333746,0.8328477,0.8325335,0.84060407,0.8390999,0.8381001,0.8383175,0.83785987,0.8369189,0.8398694,0.838319,0.8383886,0.8222083,0.83703554,0.82211125,0.8339088,0.8330672,0.85053605,0.8459563,0.8340345,0.79977804,0.000024476558],[0.8292018,0.8322296,0.835506,0.83414024,0.8331898,0.83453906,0.83626854,0.83736944,0.83997047,0.8387652,0.84059256,0.83898884,0.83897,0.8407626,0.83659756,0.83865106,0.8202985,0.83807606,0.82808363,0.83701926,0.83556956,0.83795774,0.84401757,0.8309978,0.827211,0.000020427578]],\"type\":\"heatmap\",\"xaxis\":\"x\",\"yaxis\":\"y\",\"hovertemplate\":\"Position: %{x}\\u003cbr\\u003eLayer: %{y}\\u003cbr\\u003eCounterfactual logit: %{z}\\u003cextra\\u003e\\u003c\\u002fextra\\u003e\"}],                        {\"template\":{\"data\":{\"histogram2dcontour\":[{\"type\":\"histogram2dcontour\",\"colorbar\":{\"outlinewidth\":0,\"ticks\":\"\"},\"colorscale\":[[0.0,\"#0d0887\"],[0.1111111111111111,\"#46039f\"],[0.2222222222222222,\"#7201a8\"],[0.3333333333333333,\"#9c179e\"],[0.4444444444444444,\"#bd3786\"],[0.5555555555555556,\"#d8576b\"],[0.6666666666666666,\"#ed7953\"],[0.7777777777777778,\"#fb9f3a\"],[0.8888888888888888,\"#fdca26\"],[1.0,\"#f0f921\"]]}],\"choropleth\":[{\"type\":\"choropleth\",\"colorbar\":{\"outlinewidth\":0,\"ticks\":\"\"}}],\"histogram2d\":[{\"type\":\"histogram2d\",\"colorbar\":{\"outlinewidth\":0,\"ticks\":\"\"},\"colorscale\":[[0.0,\"#0d0887\"],[0.1111111111111111,\"#46039f\"],[0.2222222222222222,\"#7201a8\"],[0.3333333333333333,\"#9c179e\"],[0.4444444444444444,\"#bd3786\"],[0.5555555555555556,\"#d8576b\"],[0.6666666666666666,\"#ed7953\"],[0.7777777777777778,\"#fb9f3a\"],[0.8888888888888888,\"#fdca26\"],[1.0,\"#f0f921\"]]}],\"heatmap\":[{\"type\":\"heatmap\",\"colorbar\":{\"outlinewidth\":0,\"ticks\":\"\"},\"colorscale\":[[0.0,\"#0d0887\"],[0.1111111111111111,\"#46039f\"],[0.2222222222222222,\"#7201a8\"],[0.3333333333333333,\"#9c179e\"],[0.4444444444444444,\"#bd3786\"],[0.5555555555555556,\"#d8576b\"],[0.6666666666666666,\"#ed7953\"],[0.7777777777777778,\"#fb9f3a\"],[0.8888888888888888,\"#fdca26\"],[1.0,\"#f0f921\"]]}],\"heatmapgl\":[{\"type\":\"heatmapgl\",\"colorbar\":{\"outlinewidth\":0,\"ticks\":\"\"},\"colorscale\":[[0.0,\"#0d0887\"],[0.1111111111111111,\"#46039f\"],[0.2222222222222222,\"#7201a8\"],[0.3333333333333333,\"#9c179e\"],[0.4444444444444444,\"#bd3786\"],[0.5555555555555556,\"#d8576b\"],[0.6666666666666666,\"#ed7953\"],[0.7777777777777778,\"#fb9f3a\"],[0.8888888888888888,\"#fdca26\"],[1.0,\"#f0f921\"]]}],\"contourcarpet\":[{\"type\":\"contourcarpet\",\"colorbar\":{\"outlinewidth\":0,\"ticks\":\"\"}}],\"contour\":[{\"type\":\"contour\",\"colorbar\":{\"outlinewidth\":0,\"ticks\":\"\"},\"colorscale\":[[0.0,\"#0d0887\"],[0.1111111111111111,\"#46039f\"],[0.2222222222222222,\"#7201a8\"],[0.3333333333333333,\"#9c179e\"],[0.4444444444444444,\"#bd3786\"],[0.5555555555555556,\"#d8576b\"],[0.6666666666666666,\"#ed7953\"],[0.7777777777777778,\"#fb9f3a\"],[0.8888888888888888,\"#fdca26\"],[1.0,\"#f0f921\"]]}],\"surface\":[{\"type\":\"surface\",\"colorbar\":{\"outlinewidth\":0,\"ticks\":\"\"},\"colorscale\":[[0.0,\"#0d0887\"],[0.1111111111111111,\"#46039f\"],[0.2222222222222222,\"#7201a8\"],[0.3333333333333333,\"#9c179e\"],[0.4444444444444444,\"#bd3786\"],[0.5555555555555556,\"#d8576b\"],[0.6666666666666666,\"#ed7953\"],[0.7777777777777778,\"#fb9f3a\"],[0.8888888888888888,\"#fdca26\"],[1.0,\"#f0f921\"]]}],\"mesh3d\":[{\"type\":\"mesh3d\",\"colorbar\":{\"outlinewidth\":0,\"ticks\":\"\"}}],\"scatter\":[{\"fillpattern\":{\"fillmode\":\"overlay\",\"size\":10,\"solidity\":0.2},\"type\":\"scatter\"}],\"parcoords\":[{\"type\":\"parcoords\",\"line\":{\"colorbar\":{\"outlinewidth\":0,\"ticks\":\"\"}}}],\"scatterpolargl\":[{\"type\":\"scatterpolargl\",\"marker\":{\"colorbar\":{\"outlinewidth\":0,\"ticks\":\"\"}}}],\"bar\":[{\"error_x\":{\"color\":\"#2a3f5f\"},\"error_y\":{\"color\":\"#2a3f5f\"},\"marker\":{\"line\":{\"color\":\"#E5ECF6\",\"width\":0.5},\"pattern\":{\"fillmode\":\"overlay\",\"size\":10,\"solidity\":0.2}},\"type\":\"bar\"}],\"scattergeo\":[{\"type\":\"scattergeo\",\"marker\":{\"colorbar\":{\"outlinewidth\":0,\"ticks\":\"\"}}}],\"scatterpolar\":[{\"type\":\"scatterpolar\",\"marker\":{\"colorbar\":{\"outlinewidth\":0,\"ticks\":\"\"}}}],\"histogram\":[{\"marker\":{\"pattern\":{\"fillmode\":\"overlay\",\"size\":10,\"solidity\":0.2}},\"type\":\"histogram\"}],\"scattergl\":[{\"type\":\"scattergl\",\"marker\":{\"colorbar\":{\"outlinewidth\":0,\"ticks\":\"\"}}}],\"scatter3d\":[{\"type\":\"scatter3d\",\"line\":{\"colorbar\":{\"outlinewidth\":0,\"ticks\":\"\"}},\"marker\":{\"colorbar\":{\"outlinewidth\":0,\"ticks\":\"\"}}}],\"scattermapbox\":[{\"type\":\"scattermapbox\",\"marker\":{\"colorbar\":{\"outlinewidth\":0,\"ticks\":\"\"}}}],\"scatterternary\":[{\"type\":\"scatterternary\",\"marker\":{\"colorbar\":{\"outlinewidth\":0,\"ticks\":\"\"}}}],\"scattercarpet\":[{\"type\":\"scattercarpet\",\"marker\":{\"colorbar\":{\"outlinewidth\":0,\"ticks\":\"\"}}}],\"carpet\":[{\"aaxis\":{\"endlinecolor\":\"#2a3f5f\",\"gridcolor\":\"white\",\"linecolor\":\"white\",\"minorgridcolor\":\"white\",\"startlinecolor\":\"#2a3f5f\"},\"baxis\":{\"endlinecolor\":\"#2a3f5f\",\"gridcolor\":\"white\",\"linecolor\":\"white\",\"minorgridcolor\":\"white\",\"startlinecolor\":\"#2a3f5f\"},\"type\":\"carpet\"}],\"table\":[{\"cells\":{\"fill\":{\"color\":\"#EBF0F8\"},\"line\":{\"color\":\"white\"}},\"header\":{\"fill\":{\"color\":\"#C8D4E3\"},\"line\":{\"color\":\"white\"}},\"type\":\"table\"}],\"barpolar\":[{\"marker\":{\"line\":{\"color\":\"#E5ECF6\",\"width\":0.5},\"pattern\":{\"fillmode\":\"overlay\",\"size\":10,\"solidity\":0.2}},\"type\":\"barpolar\"}],\"pie\":[{\"automargin\":true,\"type\":\"pie\"}]},\"layout\":{\"autotypenumbers\":\"strict\",\"colorway\":[\"#636efa\",\"#EF553B\",\"#00cc96\",\"#ab63fa\",\"#FFA15A\",\"#19d3f3\",\"#FF6692\",\"#B6E880\",\"#FF97FF\",\"#FECB52\"],\"font\":{\"color\":\"#2a3f5f\"},\"hovermode\":\"closest\",\"hoverlabel\":{\"align\":\"left\"},\"paper_bgcolor\":\"white\",\"plot_bgcolor\":\"#E5ECF6\",\"polar\":{\"bgcolor\":\"#E5ECF6\",\"angularaxis\":{\"gridcolor\":\"white\",\"linecolor\":\"white\",\"ticks\":\"\"},\"radialaxis\":{\"gridcolor\":\"white\",\"linecolor\":\"white\",\"ticks\":\"\"}},\"ternary\":{\"bgcolor\":\"#E5ECF6\",\"aaxis\":{\"gridcolor\":\"white\",\"linecolor\":\"white\",\"ticks\":\"\"},\"baxis\":{\"gridcolor\":\"white\",\"linecolor\":\"white\",\"ticks\":\"\"},\"caxis\":{\"gridcolor\":\"white\",\"linecolor\":\"white\",\"ticks\":\"\"}},\"coloraxis\":{\"colorbar\":{\"outlinewidth\":0,\"ticks\":\"\"}},\"colorscale\":{\"sequential\":[[0.0,\"#0d0887\"],[0.1111111111111111,\"#46039f\"],[0.2222222222222222,\"#7201a8\"],[0.3333333333333333,\"#9c179e\"],[0.4444444444444444,\"#bd3786\"],[0.5555555555555556,\"#d8576b\"],[0.6666666666666666,\"#ed7953\"],[0.7777777777777778,\"#fb9f3a\"],[0.8888888888888888,\"#fdca26\"],[1.0,\"#f0f921\"]],\"sequentialminus\":[[0.0,\"#0d0887\"],[0.1111111111111111,\"#46039f\"],[0.2222222222222222,\"#7201a8\"],[0.3333333333333333,\"#9c179e\"],[0.4444444444444444,\"#bd3786\"],[0.5555555555555556,\"#d8576b\"],[0.6666666666666666,\"#ed7953\"],[0.7777777777777778,\"#fb9f3a\"],[0.8888888888888888,\"#fdca26\"],[1.0,\"#f0f921\"]],\"diverging\":[[0,\"#8e0152\"],[0.1,\"#c51b7d\"],[0.2,\"#de77ae\"],[0.3,\"#f1b6da\"],[0.4,\"#fde0ef\"],[0.5,\"#f7f7f7\"],[0.6,\"#e6f5d0\"],[0.7,\"#b8e186\"],[0.8,\"#7fbc41\"],[0.9,\"#4d9221\"],[1,\"#276419\"]]},\"xaxis\":{\"gridcolor\":\"white\",\"linecolor\":\"white\",\"ticks\":\"\",\"title\":{\"standoff\":15},\"zerolinecolor\":\"white\",\"automargin\":true,\"zerolinewidth\":2},\"yaxis\":{\"gridcolor\":\"white\",\"linecolor\":\"white\",\"ticks\":\"\",\"title\":{\"standoff\":15},\"zerolinecolor\":\"white\",\"automargin\":true,\"zerolinewidth\":2},\"scene\":{\"xaxis\":{\"backgroundcolor\":\"#E5ECF6\",\"gridcolor\":\"white\",\"linecolor\":\"white\",\"showbackground\":true,\"ticks\":\"\",\"zerolinecolor\":\"white\",\"gridwidth\":2},\"yaxis\":{\"backgroundcolor\":\"#E5ECF6\",\"gridcolor\":\"white\",\"linecolor\":\"white\",\"showbackground\":true,\"ticks\":\"\",\"zerolinecolor\":\"white\",\"gridwidth\":2},\"zaxis\":{\"backgroundcolor\":\"#E5ECF6\",\"gridcolor\":\"white\",\"linecolor\":\"white\",\"showbackground\":true,\"ticks\":\"\",\"zerolinecolor\":\"white\",\"gridwidth\":2}},\"shapedefaults\":{\"line\":{\"color\":\"#2a3f5f\"}},\"annotationdefaults\":{\"arrowcolor\":\"#2a3f5f\",\"arrowhead\":0,\"arrowwidth\":1},\"geo\":{\"bgcolor\":\"white\",\"landcolor\":\"#E5ECF6\",\"subunitcolor\":\"white\",\"showland\":true,\"showlakes\":true,\"lakecolor\":\"white\"},\"title\":{\"x\":0.05},\"mapbox\":{\"style\":\"light\"}}},\"xaxis\":{\"anchor\":\"y\",\"domain\":[0.0,1.0],\"scaleanchor\":\"y\",\"constrain\":\"domain\",\"title\":{\"text\":\"Position\"}},\"yaxis\":{\"anchor\":\"x\",\"domain\":[0.0,1.0],\"autorange\":\"min\",\"constrain\":\"domain\",\"title\":{\"text\":\"Layer\"}},\"coloraxis\":{\"colorbar\":{\"title\":{\"text\":\"Counterfactual logit\"}},\"colorscale\":[[0.0,\"rgb(77,0,75)\"],[0.125,\"rgb(129,15,124)\"],[0.25,\"rgb(136,65,157)\"],[0.375,\"rgb(140,107,177)\"],[0.5,\"rgb(140,150,198)\"],[0.625,\"rgb(158,188,218)\"],[0.75,\"rgb(191,211,230)\"],[0.875,\"rgb(224,236,244)\"],[1.0,\"rgb(247,252,253)\"]],\"cmid\":0.5},\"margin\":{\"t\":60}},                        {\"responsive\": true}                    ).then(function(){\n",
       "                            \n",
       "var gd = document.getElementById('acbc8d57-2454-49a4-8752-d2e8c85e35c7');\n",
       "var x = new MutationObserver(function (mutations, observer) {{\n",
       "        var display = window.getComputedStyle(gd).display;\n",
       "        if (!display || display === 'none') {{\n",
       "            console.log([gd, 'removed!']);\n",
       "            Plotly.purge(gd);\n",
       "            observer.disconnect();\n",
       "        }}\n",
       "}});\n",
       "\n",
       "// Listen for the removal of the full notebook cells\n",
       "var notebookContainer = gd.closest('#notebook-container');\n",
       "if (notebookContainer) {{\n",
       "    x.observe(notebookContainer, {childList: true});\n",
       "}}\n",
       "\n",
       "// Listen for the clearing of the current output cell\n",
       "var outputEl = gd.closest('.output');\n",
       "if (outputEl) {{\n",
       "    x.observe(outputEl, {childList: true});\n",
       "}}\n",
       "\n",
       "                        })                };                            </script>        </div>\n",
       "</body>\n",
       "</html>"
      ]
     },
     "metadata": {},
     "output_type": "display_data"
    }
   ],
   "source": [
    "clean_decoded_tokens = [model.tokenizer.decode(token) for token in example_tokens]\n",
    "token_labels = [f\"({index}) {token}\" for index, token in enumerate(clean_decoded_tokens)]\n",
    "\n",
    "fig = plot_patching_results(patching_results, token_labels, index=-2)\n",
    "fig.show()"
   ]
  },
  {
   "cell_type": "markdown",
   "metadata": {
    "id": "TZ7hYSlThowO"
   },
   "source": [
    "How about for following \"thank\" with \"you\"?\n",
    "\n",
    "Unlike the first plot, we don't see any significant effect from Harry Potter-specific tokens. Instead, almost all of the causal effect can be attributed to the token \"thank\", which leads the model to continue with \"you\".\n",
    "\n",
    "This means that the model **doesn't memorize** the token \"you\" in this sentence! Instead, it knows to fill it in thanks to its language modeling capabilities (knowing that \"thank\" is usually followed by \"you\")."
   ]
  },
  {
   "cell_type": "code",
   "execution_count": null,
   "metadata": {
    "colab": {
     "base_uri": "https://localhost:8080/",
     "height": 542
    },
    "id": "t-ZMD3fIbY1N",
    "outputId": "036b37b0-93f2-4b37-aa63-c034aa1ace5b"
   },
   "outputs": [
    {
     "data": {
      "text/html": [
       "<html>\n",
       "<head><meta charset=\"utf-8\" /></head>\n",
       "<body>\n",
       "    <div>            <script src=\"https://cdnjs.cloudflare.com/ajax/libs/mathjax/2.7.5/MathJax.js?config=TeX-AMS-MML_SVG\"></script><script type=\"text/javascript\">if (window.MathJax && window.MathJax.Hub && window.MathJax.Hub.Config) {window.MathJax.Hub.Config({SVG: {font: \"STIX-Web\"}});}</script>                <script type=\"text/javascript\">window.PlotlyConfig = {MathJaxConfig: 'local'};</script>\n",
       "        <script charset=\"utf-8\" src=\"https://cdn.plot.ly/plotly-2.35.2.min.js\"></script>                <div id=\"25f100a4-89c6-49b7-981a-298aa1db7cb6\" class=\"plotly-graph-div\" style=\"height:525px; width:100%;\"></div>            <script type=\"text/javascript\">                                    window.PLOTLYENV=window.PLOTLYENV || {};                                    if (document.getElementById(\"25f100a4-89c6-49b7-981a-298aa1db7cb6\")) {                    Plotly.newPlot(                        \"25f100a4-89c6-49b7-981a-298aa1db7cb6\",                        [{\"coloraxis\":\"coloraxis\",\"name\":\"0\",\"x\":[\"(0) Mr\",\"(1) .\",\"(2)  and\",\"(3)  Mrs\",\"(4) .\",\"(5)  D\",\"(6) urs\",\"(7) ley\",\"(8)  of\",\"(9)  number\",\"(10)  four\",\"(11) ,\",\"(12)  Priv\",\"(13) et\",\"(14)  Drive\",\"(15) ,\",\"(16)  were\",\"(17)  proud\",\"(18)  to\",\"(19)  say\",\"(20)  that\",\"(21)  they\",\"(22)  were\",\"(23)  perfectly\",\"(24)  normal\",\"(25) ,\",\"(26)  thank\"],\"z\":[[0.92534566,0.9558136,0.97201926,0.97260654,0.97584504,0.81735,0.8088351,0.8087927,0.95008475,0.96160483,0.9278985,0.9476745,0.9432921,0.9462555,0.92931634,0.9453656,0.8530062,0.9140333,0.81600696,0.8203341,0.89991325,0.9390784,0.9215915,0.8791865,0.7690725,0.80087095,0.00033694596],[0.99309075,0.98638815,0.9836137,0.98677665,0.9864125,0.9764608,0.96316415,0.8890236,0.98136854,0.9779889,0.9540434,0.96725434,0.97559685,0.96045005,0.94116235,0.9647347,0.9516881,0.96029633,0.96143514,0.9022006,0.96681374,0.9685166,0.96017903,0.9197831,0.9091076,0.9678287,0.0003328477],[0.9941948,0.9956233,0.9935961,0.9935249,0.98722595,0.9843061,0.98245585,0.9104753,0.98631114,0.9846206,0.97701627,0.9785882,0.9845599,0.9790085,0.9705202,0.9790177,0.9823126,0.9806507,0.98084795,0.9676455,0.9806785,0.98302346,0.9771822,0.9635516,0.9228337,0.98988205,0.00043373095],[0.9944858,0.9967033,0.9950563,0.9937769,0.98825103,0.984806,0.9848164,0.9160153,0.9846615,0.9841398,0.9825247,0.98405206,0.984321,0.9819323,0.97022635,0.97729754,0.98360217,0.98482066,0.98129547,0.97901523,0.9782201,0.98026925,0.9787814,0.97272193,0.95384216,0.9849637,0.00042619102],[0.9945274,0.9977786,0.9949084,0.99527586,0.9896035,0.98638827,0.98689365,0.9520205,0.9861054,0.9869371,0.98447615,0.9871421,0.986613,0.98480207,0.97544026,0.979951,0.98397714,0.9866477,0.98420966,0.98243225,0.979191,0.98302877,0.981942,0.97973424,0.96048695,0.98431236,0.0005462273],[0.9942808,0.9973896,0.99523264,0.99552935,0.99172723,0.9891411,0.9896589,0.96691173,0.9894013,0.98992157,0.98819655,0.9900624,0.99020106,0.9887024,0.98506016,0.98653436,0.98846555,0.99010986,0.98757744,0.9863201,0.98537236,0.9876286,0.9869791,0.9846801,0.9759537,0.9907913,0.0006696257],[0.9939031,0.99702054,0.99489874,0.9944969,0.99187225,0.98958147,0.99034154,0.9714264,0.9910641,0.9914238,0.9901101,0.99153894,0.99175537,0.9909209,0.9889783,0.98982143,0.99125224,0.9922355,0.99128914,0.99050796,0.9890364,0.99061906,0.9902884,0.9889552,0.9845371,0.99276286,0.0007761826],[0.99410015,0.9945056,0.9945036,0.99473983,0.99360895,0.9916495,0.992335,0.9902047,0.99322224,0.9936727,0.99368966,0.99343526,0.99379176,0.9930582,0.9932842,0.9920472,0.99285215,0.9927797,0.9925761,0.99227214,0.99110997,0.9917292,0.9917454,0.99107146,0.98695534,0.99341136,0.00078962196],[0.9942849,0.9921147,0.9945479,0.99486935,0.993859,0.9923199,0.993361,0.9918492,0.99403495,0.99440986,0.9945503,0.994245,0.99461836,0.9940866,0.99329454,0.99334526,0.9940925,0.9936446,0.9939851,0.9934894,0.9934103,0.99344605,0.9934116,0.9932916,0.9898142,0.9946104,0.000649516],[0.9945175,0.98927176,0.99492395,0.9950322,0.99397755,0.9923948,0.99344134,0.9931699,0.9940229,0.9944739,0.9945755,0.99430037,0.9947153,0.9941703,0.9932647,0.9936925,0.99441046,0.99363285,0.9940667,0.9937781,0.9938333,0.993933,0.9938797,0.993338,0.99103606,0.99481,0.0005835737],[0.99474347,0.98956233,0.9949425,0.995004,0.9940707,0.9926785,0.9935628,0.9939032,0.9941303,0.99456596,0.99468464,0.99462765,0.99470997,0.994259,0.9939173,0.9941182,0.9942999,0.9938875,0.9942216,0.99410915,0.9942721,0.99418664,0.994145,0.9939796,0.9921112,0.9962298,0.00069012796],[0.9949982,0.99199307,0.9949232,0.99504507,0.99478793,0.99477744,0.9949798,0.9955629,0.99527514,0.99534637,0.9952466,0.9953225,0.9954066,0.9951232,0.99504024,0.9950047,0.99503905,0.9950506,0.9951934,0.9950819,0.99505687,0.99490064,0.9949256,0.9947903,0.99292445,0.995118,0.0006699842],[0.99509454,0.99351513,0.9949597,0.9951068,0.99491644,0.9949132,0.994899,0.9951787,0.99506617,0.99517524,0.9951127,0.9952277,0.9952512,0.99501413,0.99498653,0.9949425,0.9949556,0.99501723,0.9951929,0.99520314,0.99488187,0.9948043,0.9948198,0.9947307,0.9943498,0.9948933,0.0006921275],[0.99505264,0.9944078,0.9950422,0.99516654,0.9949167,0.99520904,0.9951912,0.995366,0.9954281,0.99543864,0.99534047,0.9954064,0.9954758,0.9953199,0.99525404,0.9952186,0.99520206,0.9952519,0.99537486,0.99548537,0.99533075,0.9953311,0.99522793,0.99519724,0.9951047,0.99547136,0.0006018195],[0.99510974,0.9950545,0.9951272,0.99510515,0.9951513,0.9951048,0.99511397,0.99513125,0.9952931,0.9953141,0.99527174,0.9952494,0.9954064,0.99521315,0.99516004,0.9951563,0.99515027,0.995171,0.9952785,0.9953767,0.99525476,0.99529666,0.99520445,0.99528235,0.9951455,0.9954934,0.00037511255],[0.9950477,0.99503833,0.9951089,0.995103,0.9950936,0.99513775,0.995141,0.9952062,0.99524695,0.99523586,0.9952118,0.9952048,0.9952113,0.99521184,0.99519277,0.9951822,0.99515945,0.9951681,0.995214,0.99518126,0.9952435,0.99519217,0.9952087,0.9952005,0.9952382,0.99526924,0.00034988186]],\"type\":\"heatmap\",\"xaxis\":\"x\",\"yaxis\":\"y\",\"hovertemplate\":\"Position: %{x}\\u003cbr\\u003eLayer: %{y}\\u003cbr\\u003eCounterfactual logit: %{z}\\u003cextra\\u003e\\u003c\\u002fextra\\u003e\"}],                        {\"template\":{\"data\":{\"histogram2dcontour\":[{\"type\":\"histogram2dcontour\",\"colorbar\":{\"outlinewidth\":0,\"ticks\":\"\"},\"colorscale\":[[0.0,\"#0d0887\"],[0.1111111111111111,\"#46039f\"],[0.2222222222222222,\"#7201a8\"],[0.3333333333333333,\"#9c179e\"],[0.4444444444444444,\"#bd3786\"],[0.5555555555555556,\"#d8576b\"],[0.6666666666666666,\"#ed7953\"],[0.7777777777777778,\"#fb9f3a\"],[0.8888888888888888,\"#fdca26\"],[1.0,\"#f0f921\"]]}],\"choropleth\":[{\"type\":\"choropleth\",\"colorbar\":{\"outlinewidth\":0,\"ticks\":\"\"}}],\"histogram2d\":[{\"type\":\"histogram2d\",\"colorbar\":{\"outlinewidth\":0,\"ticks\":\"\"},\"colorscale\":[[0.0,\"#0d0887\"],[0.1111111111111111,\"#46039f\"],[0.2222222222222222,\"#7201a8\"],[0.3333333333333333,\"#9c179e\"],[0.4444444444444444,\"#bd3786\"],[0.5555555555555556,\"#d8576b\"],[0.6666666666666666,\"#ed7953\"],[0.7777777777777778,\"#fb9f3a\"],[0.8888888888888888,\"#fdca26\"],[1.0,\"#f0f921\"]]}],\"heatmap\":[{\"type\":\"heatmap\",\"colorbar\":{\"outlinewidth\":0,\"ticks\":\"\"},\"colorscale\":[[0.0,\"#0d0887\"],[0.1111111111111111,\"#46039f\"],[0.2222222222222222,\"#7201a8\"],[0.3333333333333333,\"#9c179e\"],[0.4444444444444444,\"#bd3786\"],[0.5555555555555556,\"#d8576b\"],[0.6666666666666666,\"#ed7953\"],[0.7777777777777778,\"#fb9f3a\"],[0.8888888888888888,\"#fdca26\"],[1.0,\"#f0f921\"]]}],\"heatmapgl\":[{\"type\":\"heatmapgl\",\"colorbar\":{\"outlinewidth\":0,\"ticks\":\"\"},\"colorscale\":[[0.0,\"#0d0887\"],[0.1111111111111111,\"#46039f\"],[0.2222222222222222,\"#7201a8\"],[0.3333333333333333,\"#9c179e\"],[0.4444444444444444,\"#bd3786\"],[0.5555555555555556,\"#d8576b\"],[0.6666666666666666,\"#ed7953\"],[0.7777777777777778,\"#fb9f3a\"],[0.8888888888888888,\"#fdca26\"],[1.0,\"#f0f921\"]]}],\"contourcarpet\":[{\"type\":\"contourcarpet\",\"colorbar\":{\"outlinewidth\":0,\"ticks\":\"\"}}],\"contour\":[{\"type\":\"contour\",\"colorbar\":{\"outlinewidth\":0,\"ticks\":\"\"},\"colorscale\":[[0.0,\"#0d0887\"],[0.1111111111111111,\"#46039f\"],[0.2222222222222222,\"#7201a8\"],[0.3333333333333333,\"#9c179e\"],[0.4444444444444444,\"#bd3786\"],[0.5555555555555556,\"#d8576b\"],[0.6666666666666666,\"#ed7953\"],[0.7777777777777778,\"#fb9f3a\"],[0.8888888888888888,\"#fdca26\"],[1.0,\"#f0f921\"]]}],\"surface\":[{\"type\":\"surface\",\"colorbar\":{\"outlinewidth\":0,\"ticks\":\"\"},\"colorscale\":[[0.0,\"#0d0887\"],[0.1111111111111111,\"#46039f\"],[0.2222222222222222,\"#7201a8\"],[0.3333333333333333,\"#9c179e\"],[0.4444444444444444,\"#bd3786\"],[0.5555555555555556,\"#d8576b\"],[0.6666666666666666,\"#ed7953\"],[0.7777777777777778,\"#fb9f3a\"],[0.8888888888888888,\"#fdca26\"],[1.0,\"#f0f921\"]]}],\"mesh3d\":[{\"type\":\"mesh3d\",\"colorbar\":{\"outlinewidth\":0,\"ticks\":\"\"}}],\"scatter\":[{\"fillpattern\":{\"fillmode\":\"overlay\",\"size\":10,\"solidity\":0.2},\"type\":\"scatter\"}],\"parcoords\":[{\"type\":\"parcoords\",\"line\":{\"colorbar\":{\"outlinewidth\":0,\"ticks\":\"\"}}}],\"scatterpolargl\":[{\"type\":\"scatterpolargl\",\"marker\":{\"colorbar\":{\"outlinewidth\":0,\"ticks\":\"\"}}}],\"bar\":[{\"error_x\":{\"color\":\"#2a3f5f\"},\"error_y\":{\"color\":\"#2a3f5f\"},\"marker\":{\"line\":{\"color\":\"#E5ECF6\",\"width\":0.5},\"pattern\":{\"fillmode\":\"overlay\",\"size\":10,\"solidity\":0.2}},\"type\":\"bar\"}],\"scattergeo\":[{\"type\":\"scattergeo\",\"marker\":{\"colorbar\":{\"outlinewidth\":0,\"ticks\":\"\"}}}],\"scatterpolar\":[{\"type\":\"scatterpolar\",\"marker\":{\"colorbar\":{\"outlinewidth\":0,\"ticks\":\"\"}}}],\"histogram\":[{\"marker\":{\"pattern\":{\"fillmode\":\"overlay\",\"size\":10,\"solidity\":0.2}},\"type\":\"histogram\"}],\"scattergl\":[{\"type\":\"scattergl\",\"marker\":{\"colorbar\":{\"outlinewidth\":0,\"ticks\":\"\"}}}],\"scatter3d\":[{\"type\":\"scatter3d\",\"line\":{\"colorbar\":{\"outlinewidth\":0,\"ticks\":\"\"}},\"marker\":{\"colorbar\":{\"outlinewidth\":0,\"ticks\":\"\"}}}],\"scattermapbox\":[{\"type\":\"scattermapbox\",\"marker\":{\"colorbar\":{\"outlinewidth\":0,\"ticks\":\"\"}}}],\"scatterternary\":[{\"type\":\"scatterternary\",\"marker\":{\"colorbar\":{\"outlinewidth\":0,\"ticks\":\"\"}}}],\"scattercarpet\":[{\"type\":\"scattercarpet\",\"marker\":{\"colorbar\":{\"outlinewidth\":0,\"ticks\":\"\"}}}],\"carpet\":[{\"aaxis\":{\"endlinecolor\":\"#2a3f5f\",\"gridcolor\":\"white\",\"linecolor\":\"white\",\"minorgridcolor\":\"white\",\"startlinecolor\":\"#2a3f5f\"},\"baxis\":{\"endlinecolor\":\"#2a3f5f\",\"gridcolor\":\"white\",\"linecolor\":\"white\",\"minorgridcolor\":\"white\",\"startlinecolor\":\"#2a3f5f\"},\"type\":\"carpet\"}],\"table\":[{\"cells\":{\"fill\":{\"color\":\"#EBF0F8\"},\"line\":{\"color\":\"white\"}},\"header\":{\"fill\":{\"color\":\"#C8D4E3\"},\"line\":{\"color\":\"white\"}},\"type\":\"table\"}],\"barpolar\":[{\"marker\":{\"line\":{\"color\":\"#E5ECF6\",\"width\":0.5},\"pattern\":{\"fillmode\":\"overlay\",\"size\":10,\"solidity\":0.2}},\"type\":\"barpolar\"}],\"pie\":[{\"automargin\":true,\"type\":\"pie\"}]},\"layout\":{\"autotypenumbers\":\"strict\",\"colorway\":[\"#636efa\",\"#EF553B\",\"#00cc96\",\"#ab63fa\",\"#FFA15A\",\"#19d3f3\",\"#FF6692\",\"#B6E880\",\"#FF97FF\",\"#FECB52\"],\"font\":{\"color\":\"#2a3f5f\"},\"hovermode\":\"closest\",\"hoverlabel\":{\"align\":\"left\"},\"paper_bgcolor\":\"white\",\"plot_bgcolor\":\"#E5ECF6\",\"polar\":{\"bgcolor\":\"#E5ECF6\",\"angularaxis\":{\"gridcolor\":\"white\",\"linecolor\":\"white\",\"ticks\":\"\"},\"radialaxis\":{\"gridcolor\":\"white\",\"linecolor\":\"white\",\"ticks\":\"\"}},\"ternary\":{\"bgcolor\":\"#E5ECF6\",\"aaxis\":{\"gridcolor\":\"white\",\"linecolor\":\"white\",\"ticks\":\"\"},\"baxis\":{\"gridcolor\":\"white\",\"linecolor\":\"white\",\"ticks\":\"\"},\"caxis\":{\"gridcolor\":\"white\",\"linecolor\":\"white\",\"ticks\":\"\"}},\"coloraxis\":{\"colorbar\":{\"outlinewidth\":0,\"ticks\":\"\"}},\"colorscale\":{\"sequential\":[[0.0,\"#0d0887\"],[0.1111111111111111,\"#46039f\"],[0.2222222222222222,\"#7201a8\"],[0.3333333333333333,\"#9c179e\"],[0.4444444444444444,\"#bd3786\"],[0.5555555555555556,\"#d8576b\"],[0.6666666666666666,\"#ed7953\"],[0.7777777777777778,\"#fb9f3a\"],[0.8888888888888888,\"#fdca26\"],[1.0,\"#f0f921\"]],\"sequentialminus\":[[0.0,\"#0d0887\"],[0.1111111111111111,\"#46039f\"],[0.2222222222222222,\"#7201a8\"],[0.3333333333333333,\"#9c179e\"],[0.4444444444444444,\"#bd3786\"],[0.5555555555555556,\"#d8576b\"],[0.6666666666666666,\"#ed7953\"],[0.7777777777777778,\"#fb9f3a\"],[0.8888888888888888,\"#fdca26\"],[1.0,\"#f0f921\"]],\"diverging\":[[0,\"#8e0152\"],[0.1,\"#c51b7d\"],[0.2,\"#de77ae\"],[0.3,\"#f1b6da\"],[0.4,\"#fde0ef\"],[0.5,\"#f7f7f7\"],[0.6,\"#e6f5d0\"],[0.7,\"#b8e186\"],[0.8,\"#7fbc41\"],[0.9,\"#4d9221\"],[1,\"#276419\"]]},\"xaxis\":{\"gridcolor\":\"white\",\"linecolor\":\"white\",\"ticks\":\"\",\"title\":{\"standoff\":15},\"zerolinecolor\":\"white\",\"automargin\":true,\"zerolinewidth\":2},\"yaxis\":{\"gridcolor\":\"white\",\"linecolor\":\"white\",\"ticks\":\"\",\"title\":{\"standoff\":15},\"zerolinecolor\":\"white\",\"automargin\":true,\"zerolinewidth\":2},\"scene\":{\"xaxis\":{\"backgroundcolor\":\"#E5ECF6\",\"gridcolor\":\"white\",\"linecolor\":\"white\",\"showbackground\":true,\"ticks\":\"\",\"zerolinecolor\":\"white\",\"gridwidth\":2},\"yaxis\":{\"backgroundcolor\":\"#E5ECF6\",\"gridcolor\":\"white\",\"linecolor\":\"white\",\"showbackground\":true,\"ticks\":\"\",\"zerolinecolor\":\"white\",\"gridwidth\":2},\"zaxis\":{\"backgroundcolor\":\"#E5ECF6\",\"gridcolor\":\"white\",\"linecolor\":\"white\",\"showbackground\":true,\"ticks\":\"\",\"zerolinecolor\":\"white\",\"gridwidth\":2}},\"shapedefaults\":{\"line\":{\"color\":\"#2a3f5f\"}},\"annotationdefaults\":{\"arrowcolor\":\"#2a3f5f\",\"arrowhead\":0,\"arrowwidth\":1},\"geo\":{\"bgcolor\":\"white\",\"landcolor\":\"#E5ECF6\",\"subunitcolor\":\"white\",\"showland\":true,\"showlakes\":true,\"lakecolor\":\"white\"},\"title\":{\"x\":0.05},\"mapbox\":{\"style\":\"light\"}}},\"xaxis\":{\"anchor\":\"y\",\"domain\":[0.0,1.0],\"scaleanchor\":\"y\",\"constrain\":\"domain\",\"title\":{\"text\":\"Position\"}},\"yaxis\":{\"anchor\":\"x\",\"domain\":[0.0,1.0],\"autorange\":\"min\",\"constrain\":\"domain\",\"title\":{\"text\":\"Layer\"}},\"coloraxis\":{\"colorbar\":{\"title\":{\"text\":\"Counterfactual logit\"}},\"colorscale\":[[0.0,\"rgb(77,0,75)\"],[0.125,\"rgb(129,15,124)\"],[0.25,\"rgb(136,65,157)\"],[0.375,\"rgb(140,107,177)\"],[0.5,\"rgb(140,150,198)\"],[0.625,\"rgb(158,188,218)\"],[0.75,\"rgb(191,211,230)\"],[0.875,\"rgb(224,236,244)\"],[1.0,\"rgb(247,252,253)\"]],\"cmid\":0.5},\"margin\":{\"t\":60}},                        {\"responsive\": true}                    ).then(function(){\n",
       "                            \n",
       "var gd = document.getElementById('25f100a4-89c6-49b7-981a-298aa1db7cb6');\n",
       "var x = new MutationObserver(function (mutations, observer) {{\n",
       "        var display = window.getComputedStyle(gd).display;\n",
       "        if (!display || display === 'none') {{\n",
       "            console.log([gd, 'removed!']);\n",
       "            Plotly.purge(gd);\n",
       "            observer.disconnect();\n",
       "        }}\n",
       "}});\n",
       "\n",
       "// Listen for the removal of the full notebook cells\n",
       "var notebookContainer = gd.closest('#notebook-container');\n",
       "if (notebookContainer) {{\n",
       "    x.observe(notebookContainer, {childList: true});\n",
       "}}\n",
       "\n",
       "// Listen for the clearing of the current output cell\n",
       "var outputEl = gd.closest('.output');\n",
       "if (outputEl) {{\n",
       "    x.observe(outputEl, {childList: true});\n",
       "}}\n",
       "\n",
       "                        })                };                            </script>        </div>\n",
       "</body>\n",
       "</html>"
      ]
     },
     "metadata": {},
     "output_type": "display_data"
    }
   ],
   "source": [
    "clean_decoded_tokens = [model.tokenizer.decode(token) for token in example_tokens]\n",
    "token_labels = [f\"({index}) {token}\" for index, token in enumerate(clean_decoded_tokens)]\n",
    "\n",
    "fig = plot_patching_results(patching_results, token_labels, index=-1)\n",
    "fig.show()"
   ]
  },
  {
   "cell_type": "markdown",
   "metadata": {
    "id": "QbStgHRmrf4D"
   },
   "source": [
    "This may not be surprising, but it's an important takeaway. Our LLM did **not** memorize each token verbatim. Although it memorized that **\"thank\"** came after \"normal,\", the LLM simply **already knew** that \"thank\" and \"you\" tend to go together.\n",
    "\n",
    "If we were to try to naively reduce the LLM's ability to output the memorized sentence, we might accidentally harm the LLM's general language modeling ability. Memorization is distributed across different states, and can be entangled with the way our LLM learned to model language!"
   ]
  },
  {
   "cell_type": "markdown",
   "metadata": {
    "id": "fKRbRTbhb3eK"
   },
   "source": [
    "## 2️⃣ How does causal mediation analysis inform behavior?"
   ]
  },
  {
   "cell_type": "markdown",
   "metadata": {
    "id": "NnxTgeRxsTqc"
   },
   "source": [
    "Our causal mediation analysis showed us when our LLM might be reciting memorized text, and when it might be trying to complete the text based on other indicators (e.g., \"thank\" -> \"you\"). It also told us which tokens played a causal role in triggering the model's memorization. How do these predictions inform generalization? Let's play around and see what happens when we remove the trigger tokens!"
   ]
  },
  {
   "cell_type": "markdown",
   "metadata": {
    "id": "MFqdPO9CsQMu"
   },
   "source": [
    "The \"thank\" plot shows that the \"Dursley\" token has the largest causal effect in triggering the model's memorization. This suggests we can edit other parts of the sentence, like Harry Potter's street address, without affecting the model's memorization."
   ]
  },
  {
   "cell_type": "code",
   "execution_count": null,
   "metadata": {
    "colab": {
     "base_uri": "https://localhost:8080/"
    },
    "id": "KkBcKFjLb0sp",
    "outputId": "f68a0731-9657-493c-bd25-de13654b9196"
   },
   "outputs": [
    {
     "name": "stdout",
     "output_type": "stream",
     "text": [
      "Mr. and Mrs. Dursley of number 221B, Baker Street, were proud to say that they were perfectly normal, thank you very much.\n",
      "\n"
     ]
    }
   ],
   "source": [
    "# changing harry's address doesn't seem to affect memorization!\n",
    "different_harry = \"Mr. and Mrs. Dursley of number 221B, Baker Street, were proud to say that they were perfectly\"\n",
    "\n",
    "with model.generate(different_harry, max_new_tokens=8, pad_token_id=model.tokenizer.eos_token_id):\n",
    "  out = model.generator.output.save()\n",
    "\n",
    "print(model.tokenizer.decode(out[0]))"
   ]
  },
  {
   "cell_type": "code",
   "execution_count": null,
   "metadata": {
    "colab": {
     "base_uri": "https://localhost:8080/"
    },
    "id": "Vs5GenDZdg9N",
    "outputId": "36f69465-1a65-44b5-855d-3c4e22865d1f"
   },
   "outputs": [
    {
     "name": "stdout",
     "output_type": "stream",
     "text": [
      "Mr. and Mrs. Hagrid of number four, Privet Drive, were proud to say that they were perfectly normal, thank you very much.\n",
      "\n"
     ]
    }
   ],
   "source": [
    "# talking about different harry potter characters still seems to trigger memorization\n",
    "different_harry = \"Mr. and Mrs. Hagrid of number four, Privet Drive, were proud to say that they were perfectly\"\n",
    "\n",
    "with model.generate(different_harry, max_new_tokens=8, pad_token_id=model.tokenizer.eos_token_id):\n",
    "  out = model.generator.output.save()\n",
    "\n",
    "print(model.tokenizer.decode(out[0]))"
   ]
  },
  {
   "cell_type": "markdown",
   "metadata": {
    "id": "8pjG5eRyBKu0"
   },
   "source": [
    "We can also remove the memorization trigger entirely if we change the \"Dursley\" token to a different one - even if just slightly misspelled!"
   ]
  },
  {
   "cell_type": "code",
   "execution_count": null,
   "metadata": {
    "colab": {
     "base_uri": "https://localhost:8080/"
    },
    "id": "cVrA8dcHdzZi",
    "outputId": "7f288b11-8d57-4fcf-bfce-e0e162b179c9"
   },
   "outputs": [
    {
     "name": "stdout",
     "output_type": "stream",
     "text": [
      "Mr. and Mrs. Dursney of number four, Privet Drive, were proud to say that they were perfectly happy.\n",
      "\n",
      "\"We have a\n"
     ]
    }
   ],
   "source": [
    "# but a simple mispelling throws the model off completely!\n",
    "different_harry = \"Mr. and Mrs. Dursney of number four, Privet Drive, were proud to say that they were perfectly\"\n",
    "\n",
    "with model.generate(different_harry, max_new_tokens=8, pad_token_id=model.tokenizer.eos_token_id):\n",
    "  out = model.generator.output.save()\n",
    "\n",
    "print(model.tokenizer.decode(out[0]))"
   ]
  },
  {
   "cell_type": "markdown",
   "metadata": {
    "id": "Pp9IIsv2b6Ha"
   },
   "source": [
    "## ➡️ Let's scale things up! Memorized MMLU examples"
   ]
  },
  {
   "cell_type": "markdown",
   "metadata": {
    "id": "-yLw_Dz0B0aA"
   },
   "source": [
    "Now that we've investigated memorization on a relatively small language model (3B parameters), let's scale things up and analyze a much bigger model in the cloud (70B)!"
   ]
  },
  {
   "cell_type": "markdown",
   "metadata": {
    "id": "pYKzp071CC3U"
   },
   "source": [
    "It's been hypothesized that recent LLMs were trained with MMLU in the dataset. Have these LLMs memorized their answers to some of the questions in MMLU? Let's find out!"
   ]
  },
  {
   "cell_type": "markdown",
   "metadata": {
    "id": "5n00ZQ3eGSkV"
   },
   "source": [
    "**Running on NDIF**\n",
    "\n",
    "Follow [these instructions](https://ndif.us/start.html) to get set up with an API key for NDIF. We'll also downgrade to `nnsight v0.4` to use NDIF. Restart your session before running this code."
   ]
  },
  {
   "cell_type": "markdown",
   "metadata": {
    "id": "cSaje8NTBtXY"
   },
   "source": [
    "**Device**\n",
    "\n",
    "We'll be running everything on the NDIF server! So we recommend switching to CPU to save on compute."
   ]
  },
  {
   "cell_type": "code",
   "execution_count": null,
   "metadata": {
    "id": "jmTbNF9qhBwl"
   },
   "outputs": [],
   "source": [
    "from IPython.display import clear_output\n",
    "\n",
    "try:\n",
    "  import google.colab\n",
    "  is_colab = True\n",
    "except ImportError:\n",
    "  is_colab = False\n",
    "\n",
    "if is_colab:\n",
    "  !pip install -U nnsight\n",
    "\n",
    "clear_output()"
   ]
  },
  {
   "cell_type": "code",
   "execution_count": null,
   "metadata": {
    "id": "zJZ7j_NyiU0W"
   },
   "outputs": [],
   "source": [
    "from nnsight import CONFIG\n",
    "\n",
    "CONFIG.API.APIKEY = input(\"Enter your API key: \")\n",
    "clear_output()"
   ]
  },
  {
   "cell_type": "code",
   "execution_count": null,
   "metadata": {
    "colab": {
     "base_uri": "https://localhost:8080/",
     "height": 17,
     "referenced_widgets": [
      "4e10e976fc9d4cd49129461944c93a5d",
      "7ce3f9b0868d4ebd823ec2df51ebd78e",
      "858fe2f7fce248b2b988273189f02980",
      "faf02d29eeb24e75b1fbb4acaf95440e",
      "b8b7dff3f7a245a7b4f1ebdcb69e2621",
      "8bdecefe49e2452681ee762008b8d8d7",
      "93cb68688afc4fe1a619966e27834cce",
      "b6db703563c34c238685c24faf35a944",
      "f8b3c9996d6b497fab04e7b410d44c1b",
      "0847dd37825b490daf9f2323e96a36ec",
      "34687310978748c48d1231617c602260",
      "e55f95b7874c41a7bf027a89855a830a",
      "d7e79090801f4a718a812105fa04ad11",
      "a1569879b4934ff185d2150544be79f6",
      "93af4773343f4e56bea59cd8a73d961a",
      "57dacd3d3c3d40e29bd8a564cdec9914",
      "d9024e7ca019402c8eb3ed5d7fa01546",
      "8de39411db814e70bcceb7b132856db6",
      "1144b7efd2ce4e31a4bbe1920980cdde",
      "41afae70f6d442fb881cef3ea660cc14"
     ]
    },
    "id": "L4J-zQoBfbZf",
    "outputId": "c9092dce-aa9f-4a3a-81ea-0214681fc4fc"
   },
   "outputs": [
    {
     "data": {
      "application/vnd.jupyter.widget-view+json": {
       "model_id": "4e10e976fc9d4cd49129461944c93a5d",
       "version_major": 2,
       "version_minor": 0
      },
      "text/plain": [
       "VBox(children=(HTML(value='<center> <img\\nsrc=https://huggingface.co/front/assets/huggingface_logo-noborder.sv…"
      ]
     },
     "metadata": {},
     "output_type": "display_data"
    }
   ],
   "source": [
    "from huggingface_hub import notebook_login\n",
    "\n",
    "notebook_login()"
   ]
  },
  {
   "cell_type": "code",
   "execution_count": null,
   "metadata": {
    "colab": {
     "base_uri": "https://localhost:8080/",
     "height": 145,
     "referenced_widgets": [
      "61046c1e51e64e7c9b1495343da0dd88",
      "4cc679b2d7cd44bb86703a3f855bad6e",
      "cb63597d8cdb4ab2a6c6c69d6554be40",
      "ce29b46906894b54b6be324fb47c8add",
      "4a902dfc7b3e416e89c7d6e8fce14d86",
      "abdbafc8c9f9475faa078e7ea8e55fa0",
      "73959dea85ce4622ae3a47f7ff78b259",
      "527ef320d9d44ea081c5e98e3c4a87e7",
      "a7e811fa77c545f6b053ed8986b82478",
      "f90ad2aed0a84434ae379f4fa84c25a2",
      "599124a41d57496db83cbd9201e7ef03",
      "2031f324051345afada9ec5a030315e4",
      "ee9cb1d197134762b3e921b98c1f46b2",
      "8d2af9c41dc34abb8b1ad21eaef10718",
      "39b374e9cfc749aa886493a325bbe697",
      "be306553de8b4b1aaac173a3ed9a3455",
      "185750180da246179791b6baf9feea05",
      "1ee199e585c74d19a1f30aeb7aa4f8d4",
      "8bb7b6be1fda4b34b35ada4ef74a4c5e",
      "1c86ad00b34b4bd59938ba288073c639",
      "d7a534d7d94f4e8c8faff69e1b9e6cec",
      "f3872b789fe445c0a5838e6f3ccc037f",
      "3d7330f9824a4b5e8f559dfcee0c577d",
      "6455f246648e466ca24695fb78b65238",
      "1b81ec2ad90144c68f3de5e0af9b8afa",
      "2eb8204d303b46b3951c391578eb29be",
      "ea6f42bd12c54222b4846a9ba0c858f3",
      "7653efb0b221469bab7400b478ad2707",
      "4b942b8781ab4ecea430b7c190cb206a",
      "54eba9bfa12a4510be2120b0309c7ba2",
      "3e782f241b7541159e6c45fa8eb440c9",
      "f39c000c1f6c46f599bb593e4e30f383",
      "80691d16399d4d80804b8495c0dc48e9",
      "3c376212e60e4839b39a2889afec56e0",
      "f78c06fc97ce4829b00ac325a87b97cd",
      "157830599aa24de0b831cf0d25a9f8e0",
      "6eac2b70a80c49f3bb8cae9284e2e55e",
      "9b803ec4c761480c96e8fb5e9a30ec20",
      "8d4649db9b104af6aa460f8c1ffe9b72",
      "4d17df9cfa1046b8826ad59c56e66cc6",
      "7572a14ad4df4515bb3014db3a15df73",
      "43d1dbc8961b447c9f4860c9c0dee4a7",
      "9a3a0abac95c473388c44d763142d8ca",
      "bb9a8afeaf4e4640ac2496ec0843e079"
     ]
    },
    "id": "3pvdh3vVfOfT",
    "outputId": "f57a2159-6be3-4d31-9414-5a76a8bd86d2"
   },
   "outputs": [
    {
     "data": {
      "application/vnd.jupyter.widget-view+json": {
       "model_id": "61046c1e51e64e7c9b1495343da0dd88",
       "version_major": 2,
       "version_minor": 0
      },
      "text/plain": [
       "config.json:   0%|          | 0.00/879 [00:00<?, ?B/s]"
      ]
     },
     "metadata": {},
     "output_type": "display_data"
    },
    {
     "data": {
      "application/vnd.jupyter.widget-view+json": {
       "model_id": "2031f324051345afada9ec5a030315e4",
       "version_major": 2,
       "version_minor": 0
      },
      "text/plain": [
       "tokenizer_config.json:   0%|          | 0.00/55.4k [00:00<?, ?B/s]"
      ]
     },
     "metadata": {},
     "output_type": "display_data"
    },
    {
     "data": {
      "application/vnd.jupyter.widget-view+json": {
       "model_id": "3d7330f9824a4b5e8f559dfcee0c577d",
       "version_major": 2,
       "version_minor": 0
      },
      "text/plain": [
       "tokenizer.json:   0%|          | 0.00/17.2M [00:00<?, ?B/s]"
      ]
     },
     "metadata": {},
     "output_type": "display_data"
    },
    {
     "data": {
      "application/vnd.jupyter.widget-view+json": {
       "model_id": "3c376212e60e4839b39a2889afec56e0",
       "version_major": 2,
       "version_minor": 0
      },
      "text/plain": [
       "special_tokens_map.json:   0%|          | 0.00/68.0 [00:00<?, ?B/s]"
      ]
     },
     "metadata": {},
     "output_type": "display_data"
    }
   ],
   "source": [
    "import nnsight\n",
    "\n",
    "model = nnsight.LanguageModel(\"meta-llama/Llama-3.3-70B-Instruct\", device_map=\"auto\")\n",
    "clear_output()"
   ]
  },
  {
   "cell_type": "markdown",
   "metadata": {
    "id": "PWnZmKvzCY1O"
   },
   "source": [
    "### Testing our model on MMLU"
   ]
  },
  {
   "cell_type": "markdown",
   "metadata": {
    "id": "7oGFxneBCuuo"
   },
   "source": [
    "Let's look at a math question from MMLU. The answer to this question is B = 4, for reasons that the creator of this tutorial doesn't quite understand. Nevertheless, the LLM seems to know what the right answer is!"
   ]
  },
  {
   "cell_type": "code",
   "execution_count": null,
   "metadata": {
    "colab": {
     "base_uri": "https://localhost:8080/"
    },
    "id": "PpSPOkXeb7y7",
    "outputId": "d86fed2f-94c1-4818-d86f-c6e1a4285267"
   },
   "outputs": [
    {
     "name": "stdout",
     "output_type": "stream",
     "text": [
      "Find the degree for the given field extension Q(sqrt(2), sqrt(3), sqrt(18)) over Q.\n",
      "A. 0\n",
      "B. 4\n",
      "C. 2\n",
      "D. 6\n",
      "Answer: B\n"
     ]
    }
   ],
   "source": [
    "mmlu_question = \"\"\"Find the degree for the given field extension Q(sqrt(2), sqrt(3), sqrt(18)) over Q.\n",
    "A. 0\n",
    "B. 4\n",
    "C. 2\n",
    "D. 6\"\"\"\n",
    "\n",
    "answer = \" B\"\n",
    "answer_token_id = model.tokenizer(answer).input_ids[1]\n",
    "\n",
    "print(mmlu_question)\n",
    "print(\"Answer:\", answer.strip())"
   ]
  },
  {
   "cell_type": "code",
   "execution_count": null,
   "metadata": {
    "colab": {
     "base_uri": "https://localhost:8080/",
     "height": 205,
     "referenced_widgets": [
      "9f2ab8cc1efd434aa42b42fe05994781",
      "3d9aa264c5d44005814f58fc447fdcaa",
      "27d6d9985f414a9dbd529b9d069afcde",
      "dd713ab035d04b62882597d0e6ad694f",
      "85608421c82844659eb4463fa18aa90c",
      "e6c60d343b324c25adb8ab3e320c2b5a",
      "7d84f340ef104127bc0d0f04c1e4cfcc",
      "17173e490a834857b373d01f9fa25b44",
      "cc7ceb6726d442d08b0fb9b1021d8594",
      "47abea8a0ea746c9a76a7f2628e550f8",
      "3e3af88cdb344bf99f8e6427dc6cc12d"
     ]
    },
    "id": "tSJ39k-opgCS",
    "outputId": "c0831b80-8c6a-4f3c-b15a-9b0665e83882"
   },
   "outputs": [
    {
     "name": "stderr",
     "output_type": "stream",
     "text": [
      "2025-07-10 18:25:26,094 23b7adde-c820-4695-9016-3fe9876d0974 - RECEIVED: Your job has been received and is waiting approval.\n",
      "INFO:nnsight_remote:23b7adde-c820-4695-9016-3fe9876d0974 - RECEIVED: Your job has been received and is waiting approval.\n",
      "2025-07-10 18:25:26,341 23b7adde-c820-4695-9016-3fe9876d0974 - APPROVED: Your job was approved and is waiting to be run.\n",
      "INFO:nnsight_remote:23b7adde-c820-4695-9016-3fe9876d0974 - APPROVED: Your job was approved and is waiting to be run.\n",
      "2025-07-10 18:25:26,636 23b7adde-c820-4695-9016-3fe9876d0974 - RUNNING: Your job has started running.\n",
      "INFO:nnsight_remote:23b7adde-c820-4695-9016-3fe9876d0974 - RUNNING: Your job has started running.\n",
      "2025-07-10 18:25:27,144 23b7adde-c820-4695-9016-3fe9876d0974 - COMPLETED: Your job has been completed.\n",
      "INFO:nnsight_remote:23b7adde-c820-4695-9016-3fe9876d0974 - COMPLETED: Your job has been completed.\n"
     ]
    },
    {
     "data": {
      "application/vnd.jupyter.widget-view+json": {
       "model_id": "9f2ab8cc1efd434aa42b42fe05994781",
       "version_major": 2,
       "version_minor": 0
      },
      "text/plain": [
       "Downloading result:   0%|          | 0.00/2.28k [00:00<?, ?B/s]"
      ]
     },
     "metadata": {},
     "output_type": "display_data"
    },
    {
     "name": "stdout",
     "output_type": "stream",
     "text": [
      "Model answer: B\n"
     ]
    }
   ],
   "source": [
    "import torch\n",
    "\n",
    "prompt_template = [\n",
    "    {'role': 'user', 'content': mmlu_question},\n",
    "    {'role': 'assistant', 'content': 'Answer:'},\n",
    "]\n",
    "\n",
    "prompt = model.tokenizer.apply_chat_template(prompt_template, continue_final_message=True, tokenize=False)\n",
    "with model.trace(prompt, remote=True):\n",
    "  logits = model.output.logits\n",
    "  model_answer_id = logits.argmax(dim=-1)[0, -1].save()\n",
    "\n",
    "clear_output()\n",
    "\n",
    "print(\"Model answer:\", model.tokenizer.decode(model_answer_id).strip())"
   ]
  },
  {
   "cell_type": "markdown",
   "metadata": {
    "id": "BeP8eNElDJgI"
   },
   "source": [
    "Our LLM seems to do more than just remember B - moving the answer around doesn't fool our LLM!"
   ]
  },
  {
   "cell_type": "code",
   "execution_count": null,
   "metadata": {
    "colab": {
     "base_uri": "https://localhost:8080/",
     "height": 205,
     "referenced_widgets": [
      "d0d56a27765940b28afa1d5f7d4b820a",
      "ca82a83f9f954e3d93f33a7db529f378",
      "eb81b6bf39b340dd99af0f84af1ccee7",
      "48da51c0b7854f5b9c46625c1a2a22d6",
      "94c70b4e2e3e48fe937af98f5b49bae6",
      "a1d872d771d64019a0678000f1dc6484",
      "33943f5a61144efeacf3f03c316d723e",
      "fbcd901eafbd45d2a77215c5f60bb984",
      "61470d9682ad4e0aa443e6e222602860",
      "54f20a2e8da24b46b21a2f8cd1601795",
      "b073d21802ad4d6695f465e65affb423"
     ]
    },
    "id": "742KnwOnfjRe",
    "outputId": "11639eab-1965-488a-8e1c-507d35361c1e"
   },
   "outputs": [
    {
     "name": "stderr",
     "output_type": "stream",
     "text": [
      "2025-07-10 18:26:27,256 90acf29a-256f-4796-ace2-e092d2e58585 - RECEIVED: Your job has been received and is waiting approval.\n",
      "INFO:nnsight_remote:90acf29a-256f-4796-ace2-e092d2e58585 - RECEIVED: Your job has been received and is waiting approval.\n",
      "2025-07-10 18:26:27,441 90acf29a-256f-4796-ace2-e092d2e58585 - APPROVED: Your job was approved and is waiting to be run.\n",
      "INFO:nnsight_remote:90acf29a-256f-4796-ace2-e092d2e58585 - APPROVED: Your job was approved and is waiting to be run.\n",
      "2025-07-10 18:26:27,717 90acf29a-256f-4796-ace2-e092d2e58585 - RUNNING: Your job has started running.\n",
      "INFO:nnsight_remote:90acf29a-256f-4796-ace2-e092d2e58585 - RUNNING: Your job has started running.\n",
      "2025-07-10 18:26:28,173 90acf29a-256f-4796-ace2-e092d2e58585 - COMPLETED: Your job has been completed.\n",
      "INFO:nnsight_remote:90acf29a-256f-4796-ace2-e092d2e58585 - COMPLETED: Your job has been completed.\n"
     ]
    },
    {
     "data": {
      "application/vnd.jupyter.widget-view+json": {
       "model_id": "d0d56a27765940b28afa1d5f7d4b820a",
       "version_major": 2,
       "version_minor": 0
      },
      "text/plain": [
       "Downloading result:   0%|          | 0.00/2.28k [00:00<?, ?B/s]"
      ]
     },
     "metadata": {},
     "output_type": "display_data"
    },
    {
     "name": "stdout",
     "output_type": "stream",
     "text": [
      "Model answer: A\n"
     ]
    }
   ],
   "source": [
    "import torch\n",
    "\n",
    "mmlu_question_reordered = \"\"\"Find the degree for the given field extension Q(sqrt(2), sqrt(3), sqrt(18)) over Q.\n",
    "A. 4\n",
    "B. 0\n",
    "C. 2\n",
    "D. 6\"\"\"\n",
    "\n",
    "prompt_template = [\n",
    "    {'role': 'user', 'content': mmlu_question_reordered},\n",
    "    {'role': 'assistant', 'content': 'The answer is letter'},\n",
    "]\n",
    "\n",
    "prompt = model.tokenizer.apply_chat_template(prompt_template, continue_final_message=True, tokenize=False)\n",
    "\n",
    "with model.trace(prompt, remote=True):\n",
    "  logits = model.output.logits\n",
    "  model_answer_id = logits.argmax(dim=-1)[0, -1].save()\n",
    "\n",
    "print(\"Model answer:\", model.tokenizer.decode(model_answer_id).strip())"
   ]
  },
  {
   "cell_type": "markdown",
   "metadata": {
    "id": "rXG8FCQsDW_R"
   },
   "source": [
    "### Causal mediation analysis"
   ]
  },
  {
   "cell_type": "markdown",
   "metadata": {
    "id": "XM_jZOHqDY2z"
   },
   "source": [
    "Let's replicate our causal mediation analysis on our LLM's response to the MMLU question."
   ]
  },
  {
   "cell_type": "code",
   "execution_count": null,
   "metadata": {
    "id": "aTfmVCWcf0so"
   },
   "outputs": [],
   "source": [
    "# get only tokens inside question to make patching shorter\n",
    "question_premise = \"Find the degree for the given field extension Q(sqrt(2), sqrt(3), sqrt(18)) over Q\"\n",
    "question_premise_ids = model.tokenizer(question_premise).input_ids[1:] # ignore bos token\n",
    "\n",
    "prompt_ids = model.tokenizer(prompt).input_ids\n",
    "for i in range(len(prompt_ids)):\n",
    "  if prompt_ids[i:i+len(question_premise_ids)] == question_premise_ids:\n",
    "    patch_start = i\n",
    "    patch_end = i + len(question_premise_ids)"
   ]
  },
  {
   "cell_type": "code",
   "execution_count": null,
   "metadata": {
    "colab": {
     "base_uri": "https://localhost:8080/",
     "height": 205,
     "referenced_widgets": [
      "f493abd6b76b4e909a09a3e86ebd5fa0",
      "d985f378737e4f09889175a934f88847",
      "1b278b88e2614591b86d8c7f4774cb28",
      "3a7494f5942e4a3d8ae4c15ce5264b54",
      "9df23e0915b54861a7ff5456a0c3fcd0",
      "4067ac5b7ae94e0f944d0b409608fa57",
      "0d467ed5e24241838d6ecfb7a78b3052",
      "50c990ef40cb47e68f62d6424ec33a0f",
      "061cb4acebdc415a9e0e49a72e37c47f",
      "22af4643d6da4108beb7e319cd26a59e",
      "b88ed5de45914bb7b3bf1f830de008b1"
     ]
    },
    "id": "duc6ARK8gyKU",
    "outputId": "ca5524ca-a265-4772-917e-0d47cdca0e88"
   },
   "outputs": [
    {
     "name": "stderr",
     "output_type": "stream",
     "text": [
      "2025-07-10 18:26:54,207 1840cc1a-be93-43b4-9359-444c7a53ba5a - RECEIVED: Your job has been received and is waiting approval.\n",
      "INFO:nnsight_remote:1840cc1a-be93-43b4-9359-444c7a53ba5a - RECEIVED: Your job has been received and is waiting approval.\n",
      "2025-07-10 18:26:54,520 1840cc1a-be93-43b4-9359-444c7a53ba5a - APPROVED: Your job was approved and is waiting to be run.\n",
      "INFO:nnsight_remote:1840cc1a-be93-43b4-9359-444c7a53ba5a - APPROVED: Your job was approved and is waiting to be run.\n",
      "2025-07-10 18:26:54,748 1840cc1a-be93-43b4-9359-444c7a53ba5a - RUNNING: Your job has started running.\n",
      "INFO:nnsight_remote:1840cc1a-be93-43b4-9359-444c7a53ba5a - RUNNING: Your job has started running.\n",
      "2025-07-10 18:26:56,366 1840cc1a-be93-43b4-9359-444c7a53ba5a - COMPLETED: Your job has been completed.\n",
      "INFO:nnsight_remote:1840cc1a-be93-43b4-9359-444c7a53ba5a - COMPLETED: Your job has been completed.\n"
     ]
    },
    {
     "data": {
      "application/vnd.jupyter.widget-view+json": {
       "model_id": "f493abd6b76b4e909a09a3e86ebd5fa0",
       "version_major": 2,
       "version_minor": 0
      },
      "text/plain": [
       "Downloading result:   0%|          | 0.00/32.8M [00:00<?, ?B/s]"
      ]
     },
     "metadata": {},
     "output_type": "display_data"
    },
    {
     "data": {
      "text/plain": [
       "torch.Size([1, 25, 8192])"
      ]
     },
     "execution_count": 15,
     "metadata": {},
     "output_type": "execute_result"
    }
   ],
   "source": [
    "random = \" \".join([\"!\"] * (patch_end - patch_start + 1))\n",
    "\n",
    "random_activations = []\n",
    "with model.trace(random, remote=True) as trace:\n",
    "  for layer in model.model.layers:\n",
    "    random_activations.append(layer.output[0].save())\n",
    "\n",
    "random_activations[0].shape"
   ]
  },
  {
   "cell_type": "code",
   "execution_count": null,
   "metadata": {
    "colab": {
     "base_uri": "https://localhost:8080/",
     "height": 188,
     "referenced_widgets": [
      "5b24145d9e774fa8b61abde6c22549a1",
      "2d798b526ebc44018b2bb106d4a18bb0",
      "03b0121823014ed7a69b54290c5f4fa2",
      "a0566f32b6c942d0b178da3cd27b8bb6",
      "6f9502f7d5c14eb28bc14a5e86caa399",
      "8d2708ae8a494e4c86bc1b5da9581510",
      "62f189952d5d4f568dc437ade74f18cb",
      "29aad8e5fc3140288440c460eb1cd178",
      "3fb51252aeb84c24a666cacec6176995",
      "5b1dd4e172b14db4bc18f4a3db28b265",
      "a3f28a637ba14f7a930236e12e03cec7"
     ]
    },
    "id": "f_qREABMjPRN",
    "outputId": "807085c3-29ac-4380-9c82-a04bf8f0f679"
   },
   "outputs": [
    {
     "name": "stderr",
     "output_type": "stream",
     "text": [
      "2025-07-10 18:41:43,125 856f2794-eb3b-4b30-b3d2-dc59df682635 - RECEIVED: Your job has been received and is waiting approval.\n",
      "INFO:nnsight_remote:856f2794-eb3b-4b30-b3d2-dc59df682635 - RECEIVED: Your job has been received and is waiting approval.\n",
      "2025-07-10 18:41:44,488 856f2794-eb3b-4b30-b3d2-dc59df682635 - APPROVED: Your job was approved and is waiting to be run.\n",
      "INFO:nnsight_remote:856f2794-eb3b-4b30-b3d2-dc59df682635 - APPROVED: Your job was approved and is waiting to be run.\n",
      "2025-07-10 18:41:47,580 856f2794-eb3b-4b30-b3d2-dc59df682635 - RUNNING: Your job has started running.\n",
      "INFO:nnsight_remote:856f2794-eb3b-4b30-b3d2-dc59df682635 - RUNNING: Your job has started running.\n",
      "2025-07-10 18:46:46,564 856f2794-eb3b-4b30-b3d2-dc59df682635 - COMPLETED: Your job has been completed.\n",
      "INFO:nnsight_remote:856f2794-eb3b-4b30-b3d2-dc59df682635 - COMPLETED: Your job has been completed.\n"
     ]
    },
    {
     "data": {
      "application/vnd.jupyter.widget-view+json": {
       "model_id": "5b24145d9e774fa8b61abde6c22549a1",
       "version_major": 2,
       "version_minor": 0
      },
      "text/plain": [
       "Downloading result:   0%|          | 0.00/12.8k [00:00<?, ?B/s]"
      ]
     },
     "metadata": {},
     "output_type": "display_data"
    }
   ],
   "source": [
    "patching_results = []\n",
    "\n",
    "token_indices = list(range(patch_start, patch_end)) + [-1] # intervene on final token\n",
    "\n",
    "# iterate through layers (every other layer to save time)\n",
    "with model.session(remote=True) as session:\n",
    "  for layer_idx in range(0, model.config.num_hidden_layers, 2):\n",
    "    patching_results_per_layer = []\n",
    "\n",
    "    # iterate through all tokens\n",
    "    for i, token_idx in enumerate(token_indices):\n",
    "      with model.trace(prompt) as tracer:\n",
    "        # apply the patch from \"random\" hidden states to current base run\n",
    "        model.model.layers[layer_idx].output[0][:, token_idx, :] = \\\n",
    "          random_activations[layer_idx][:, i, :]\n",
    "\n",
    "        # get logits\n",
    "        patched_logits = model.output.logits[0]\n",
    "        patched_probs = torch.softmax(patched_logits, dim=-1)\n",
    "\n",
    "        # save only logit over answer token id\n",
    "        patching_results_per_layer.append(patched_probs[-1, answer_token_id].item().save())\n",
    "\n",
    "    patching_results.append(patching_results_per_layer)"
   ]
  },
  {
   "cell_type": "code",
   "execution_count": null,
   "metadata": {
    "colab": {
     "base_uri": "https://localhost:8080/",
     "height": 542
    },
    "id": "WFoVfLaKkcic",
    "outputId": "c93e53dc-1df4-4e28-f26f-fd484c7539fd"
   },
   "outputs": [
    {
     "data": {
      "text/html": [
       "<html>\n",
       "<head><meta charset=\"utf-8\" /></head>\n",
       "<body>\n",
       "    <div>            <script src=\"https://cdnjs.cloudflare.com/ajax/libs/mathjax/2.7.5/MathJax.js?config=TeX-AMS-MML_SVG\"></script><script type=\"text/javascript\">if (window.MathJax && window.MathJax.Hub && window.MathJax.Hub.Config) {window.MathJax.Hub.Config({SVG: {font: \"STIX-Web\"}});}</script>                <script type=\"text/javascript\">window.PlotlyConfig = {MathJaxConfig: 'local'};</script>\n",
       "        <script charset=\"utf-8\" src=\"https://cdn.plot.ly/plotly-2.35.2.min.js\"></script>                <div id=\"6b534572-567e-47c6-8c1f-3a1d007bc0fd\" class=\"plotly-graph-div\" style=\"height:525px; width:100%;\"></div>            <script type=\"text/javascript\">                                    window.PLOTLYENV=window.PLOTLYENV || {};                                    if (document.getElementById(\"6b534572-567e-47c6-8c1f-3a1d007bc0fd\")) {                    Plotly.newPlot(                        \"6b534572-567e-47c6-8c1f-3a1d007bc0fd\",                        [{\"coloraxis\":\"coloraxis\",\"name\":\"0\",\"x\":[\"Find\",\" the \",\" degree  \",\" for   \",\" the    \",\" given     \",\" field      \",\" extension       \",\" Q        \",\"(sqrt         \",\"(          \",\"2           \",\"),            \",\" sqrt             \",\"(              \",\"3               \",\"),                \",\" sqrt                 \",\"(                  \",\"18                   \",\"))                    \",\" over                     \",\" Q                      \",\"Answer:                       \"],\"z\":[[0.00125885009765625,0.000652313232421875,0.000888824462890625,0.00010347366333007812,0.0010986328125,0.0002117156982421875,0.0002288818359375,0.0003719329833984375,0.000171661376953125,0.00014972686767578125,0.00002944469451904297,0.0003108978271484375,0.00014400482177734375,0.00010156631469726562,0.000072479248046875,0.00003814697265625,0.00022029876708984375,0.000026106834411621094,0.00018215179443359375,7.0035457611083984e-6,0.0023040771484375,0.00067138671875,0.0001583099365234375,2.7418136596679688e-6],[0.002716064453125,0.0004138946533203125,0.00135040283203125,0.0004787445068359375,0.00067901611328125,0.00002968311309814453,0.00006341934204101562,0.000492095947265625,0.000347137451171875,0.00011873245239257812,0.0002765655517578125,0.00110626220703125,0.0040283203125,0.00069427490234375,0.001068115234375,0.00012683868408203125,0.000263214111328125,0.00012111663818359375,0.001312255859375,0.00002491474151611328,0.00121307373046875,0.00099945068359375,0.00043487548828125,0.000014185905456542969],[0.00135040283203125,0.000640869140625,0.00140380859375,0.000492095947265625,0.000270843505859375,0.00006961822509765625,0.00005936622619628906,0.0004177093505859375,0.0004749298095703125,0.00009489059448242188,0.000812530517578125,0.0030975341796875,0.001556396484375,0.00188446044921875,0.00151824951171875,0.000293731689453125,0.00009441375732421875,0.00009393692016601562,0.0017242431640625,0.00002682209014892578,0.00089263916015625,0.00104522705078125,0.0004329681396484375,0.00008487701416015625],[0.0004177093505859375,0.00080108642578125,0.00183868408203125,0.000583648681640625,0.0004711151123046875,0.00012493133544921875,0.00010776519775390625,0.0003185272216796875,0.000946044921875,0.0002918243408203125,0.000698089599609375,0.00347900390625,0.00138092041015625,0.00286865234375,0.00151824951171875,0.000446319580078125,0.00013446807861328125,0.00018787384033203125,0.002777099609375,0.00002765655517578125,0.00080108642578125,0.00070953369140625,0.0003490447998046875,0.004791259765625],[0.00058746337890625,0.00058746337890625,0.000598907470703125,0.0007781982421875,0.000308990478515625,0.00008726119995117188,0.00008106231689453125,0.0004177093505859375,0.0006866455078125,0.000324249267578125,0.000213623046875,0.0033111572265625,0.000591278076171875,0.00092315673828125,0.00080108642578125,0.00133514404296875,0.000766754150390625,0.000797271728515625,0.0028533935546875,0.00006628036499023438,0.0012969970703125,0.000701904296875,0.000560760498046875,0.00012683868408203125],[0.000423431396484375,0.000736236572265625,0.00144195556640625,0.00040435791015625,0.0004291534423828125,0.00012493133544921875,0.00008296966552734375,0.00063323974609375,0.000606536865234375,0.00019741058349609375,0.000335693359375,0.00262451171875,0.000324249267578125,0.001983642578125,0.00067901611328125,0.0038299560546875,0.0008544921875,0.00023937225341796875,0.0037841796875,0.00008153915405273438,0.00096893310546875,0.0002651214599609375,0.000652313232421875,0.0000972747802734375],[0.000431060791015625,0.000579833984375,0.000949859619140625,0.000141143798828125,0.0003566741943359375,0.0001087188720703125,0.00006580352783203125,0.000865936279296875,0.000701904296875,0.00017452239990234375,0.000396728515625,0.00177001953125,0.00020503997802734375,0.00146484375,0.0008544921875,0.00433349609375,0.000431060791015625,0.000152587890625,0.0042724609375,0.000051021575927734375,0.00087738037109375,0.000278472900390625,0.0008697509765625,0.00003600120544433594],[0.000370025634765625,0.00049591064453125,0.0001773834228515625,0.00020122528076171875,0.0003452301025390625,0.000263214111328125,0.0000743865966796875,0.00128936767578125,0.000675201416015625,0.0001659393310546875,0.00031280517578125,0.00138092041015625,0.0002536773681640625,0.0004730224609375,0.00057220458984375,0.01007080078125,0.00021648406982421875,0.0001010894775390625,0.005218505859375,0.00004267692565917969,0.000553131103515625,0.0002536773681640625,0.00046539306640625,0.00004172325134277344],[0.000598907470703125,0.0006256103515625,0.000698089599609375,0.00019359588623046875,0.0003604888916015625,0.000415802001953125,0.000133514404296875,0.0015411376953125,0.00049591064453125,0.000164031982421875,0.000270843505859375,0.0006866455078125,0.000213623046875,0.000377655029296875,0.000560760498046875,0.0120849609375,0.0002002716064453125,0.00011682510375976562,0.00439453125,0.00007534027099609375,0.0004291534423828125,0.0002155303955078125,0.000324249267578125,0.00005793571472167969],[0.000377655029296875,0.000576019287109375,0.0002117156982421875,0.00035858154296875,0.0004177093505859375,0.0003452301025390625,0.000286102294921875,0.0003509521484375,0.000507354736328125,0.00012874603271484375,0.000457763671875,0.000690460205078125,0.0003223419189453125,0.0003833770751953125,0.0004425048828125,0.0087890625,0.00032806396484375,0.00004673004150390625,0.00360107421875,0.00008678436279296875,0.00048828125,0.0002422332763671875,0.000209808349609375,0.0000667572021484375],[0.000652313232421875,0.00086212158203125,0.000370025634765625,0.0003986358642578125,0.00055694580078125,0.0003509521484375,0.0002689361572265625,0.000537872314453125,0.00063323974609375,0.00021266937255859375,0.0003299713134765625,0.00077056884765625,0.0002384185791015625,0.0003681182861328125,0.000621795654296875,0.008056640625,0.00019741058349609375,0.00004220008850097656,0.0020599365234375,0.00008296966552734375,0.00023555755615234375,0.0003414154052734375,0.0002765655517578125,0.00007677078247070312],[0.0004634857177734375,0.000782012939453125,0.000408172607421875,0.00032806396484375,0.000392913818359375,0.000392913818359375,0.0003337860107421875,0.000476837158203125,0.000400543212890625,0.0002117156982421875,0.0002880096435546875,0.000637054443359375,0.00023365020751953125,0.0004329681396484375,0.0006103515625,0.006134033203125,0.00013446807861328125,0.00003123283386230469,0.0015411376953125,0.00012874603271484375,0.0001811981201171875,0.0002689361572265625,0.00022029876708984375,0.00054168701171875],[0.000598907470703125,0.000621795654296875,0.000408172607421875,0.0003185272216796875,0.00045013427734375,0.0004119873046875,0.0003604888916015625,0.000392913818359375,0.00052642822265625,0.00028228759765625,0.0003108978271484375,0.0004119873046875,0.0003032684326171875,0.000316619873046875,0.0005035400390625,0.005859375,0.00014781951904296875,0.00003600120544433594,0.0016632080078125,0.00008440017700195312,0.00020122528076171875,0.0003204345703125,0.00021648406982421875,0.0012664794921875],[0.00095367431640625,0.000701904296875,0.0004425048828125,0.000278472900390625,0.00048828125,0.00051116943359375,0.0005035400390625,0.0002651214599609375,0.000530242919921875,0.00037384033203125,0.0004596710205078125,0.000530242919921875,0.00031280517578125,0.0004482269287109375,0.0004024505615234375,0.00836181640625,0.00014019012451171875,0.00004267692565917969,0.001190185546875,0.000171661376953125,0.0004177093505859375,0.0003814697265625,0.000274658203125,0.00157928466796875],[0.000690460205078125,0.000370025634765625,0.0004787445068359375,0.000347137451171875,0.00040435791015625,0.000377655029296875,0.000331878662109375,0.000247955322265625,0.000530242919921875,0.000377655029296875,0.0003643035888671875,0.0003910064697265625,0.0003833770751953125,0.000507354736328125,0.0003795623779296875,0.0059814453125,0.00015926361083984375,0.00002872943878173828,0.0004673004150390625,0.0001125335693359375,0.00069427490234375,0.0003299713134765625,0.000225067138671875,0.0006256103515625],[0.0010528564453125,0.0001163482666015625,0.000476837158203125,0.000316619873046875,0.0003986358642578125,0.0004215240478515625,0.000461578369140625,0.0002651214599609375,0.0005035400390625,0.000347137451171875,0.0002956390380859375,0.00035858154296875,0.0005035400390625,0.0003662109375,0.00042724609375,0.006072998046875,0.00022029876708984375,0.00004410743713378906,0.000560760498046875,0.000125885009765625,0.0003490447998046875,0.0003204345703125,0.00018596649169921875,0.000659942626953125],[0.000530242919921875,0.0002651214599609375,0.000514984130859375,0.0003986358642578125,0.0003948211669921875,0.0004119873046875,0.000514984130859375,0.0003414154052734375,0.0003566741943359375,0.0003414154052734375,0.00041961669921875,0.00022125244140625,0.0004673004150390625,0.0003261566162109375,0.0004119873046875,0.00567626953125,0.000507354736328125,0.00007772445678710938,0.0005035400390625,0.00010919570922851562,0.000640869140625,0.0002269744873046875,0.0003185272216796875,0.005157470703125],[0.0004215240478515625,0.000457763671875,0.000530242919921875,0.0003528594970703125,0.0003814697265625,0.0003910064697265625,0.0004596710205078125,0.0003108978271484375,0.0004787445068359375,0.0004444122314453125,0.000377655029296875,0.00025177001953125,0.0003795623779296875,0.0003566741943359375,0.0003795623779296875,0.0057373046875,0.00060272216796875,0.0001049041748046875,0.00058746337890625,0.00008344650268554688,0.0003814697265625,0.000301361083984375,0.0003070831298828125,0.004486083984375],[0.000446319580078125,0.0004253387451171875,0.0004673004150390625,0.0003986358642578125,0.0004024505615234375,0.0003643035888671875,0.00048828125,0.0003032684326171875,0.0003662109375,0.0004253387451171875,0.0003643035888671875,0.00031280517578125,0.000499725341796875,0.0003490447998046875,0.0004367828369140625,0.0035552978515625,0.000530242919921875,0.00015544891357421875,0.000545501708984375,0.00014972686767578125,0.000354766845703125,0.000308990478515625,0.0003948211669921875,0.00396728515625],[0.00067138671875,0.0004558563232421875,0.00049591064453125,0.0003566741943359375,0.000385284423828125,0.0004100799560546875,0.0003948211669921875,0.0003509521484375,0.0004329681396484375,0.0003509521484375,0.0005340576171875,0.00028228759765625,0.0003910064697265625,0.000431060791015625,0.0003376007080078125,0.0021820068359375,0.000522613525390625,0.0003337860107421875,0.00049591064453125,0.0001544952392578125,0.000392913818359375,0.00043487548828125,0.000377655029296875,0.005462646484375],[0.0002918243408203125,0.00035858154296875,0.00051116943359375,0.00054931640625,0.0004787445068359375,0.000484466552734375,0.000484466552734375,0.000339508056640625,0.0003814697265625,0.0003509521484375,0.000438690185546875,0.0003452301025390625,0.0004253387451171875,0.0004520416259765625,0.000316619873046875,0.000522613525390625,0.00048065185546875,0.0004253387451171875,0.00054168701171875,0.00018310546875,0.000316619873046875,0.0003223419189453125,0.0004520416259765625,0.011474609375],[0.0002803802490234375,0.000392913818359375,0.0004634857177734375,0.0004482269287109375,0.000492095947265625,0.0004329681396484375,0.000461578369140625,0.0003662109375,0.00035858154296875,0.000476837158203125,0.0003910064697265625,0.0003490447998046875,0.000431060791015625,0.000530242919921875,0.0003147125244140625,0.0003814697265625,0.000522613525390625,0.000507354736328125,0.000499725341796875,0.000324249267578125,0.000431060791015625,0.000400543212890625,0.0003662109375,0.01214599609375],[0.000232696533203125,0.000377655029296875,0.0004634857177734375,0.000484466552734375,0.000431060791015625,0.000431060791015625,0.0004749298095703125,0.0003528594970703125,0.000385284423828125,0.00040435791015625,0.0004673004150390625,0.0004482269287109375,0.0004405975341796875,0.00041961669921875,0.000370025634765625,0.00054931640625,0.0005645751953125,0.00040435791015625,0.0006103515625,0.000335693359375,0.000469207763671875,0.0003662109375,0.000457763671875,0.0169677734375],[0.00025177001953125,0.00041961669921875,0.000431060791015625,0.000553131103515625,0.0004634857177734375,0.0004825592041015625,0.0004520416259765625,0.0003833770751953125,0.0003204345703125,0.000396728515625,0.000423431396484375,0.0004520416259765625,0.000431060791015625,0.00045013427734375,0.0003147125244140625,0.00052642822265625,0.000522613525390625,0.000499725341796875,0.000484466552734375,0.000339508056640625,0.0003795623779296875,0.0003986358642578125,0.0004444122314453125,0.01611328125],[0.00019359588623046875,0.0004367828369140625,0.000492095947265625,0.000492095947265625,0.0004673004150390625,0.000492095947265625,0.0004482269287109375,0.00034332275390625,0.00040435791015625,0.000431060791015625,0.0004634857177734375,0.0004673004150390625,0.0004482269287109375,0.000514984130859375,0.0003147125244140625,0.0004673004150390625,0.000431060791015625,0.00045013427734375,0.000579833984375,0.0003757476806640625,0.0004825592041015625,0.000492095947265625,0.0004673004150390625,0.01953125],[0.0002498626708984375,0.0004100799560546875,0.0004291534423828125,0.000469207763671875,0.0004673004150390625,0.000415802001953125,0.00057220458984375,0.0003261566162109375,0.0003643035888671875,0.0004482269287109375,0.000431060791015625,0.0004291534423828125,0.00042724609375,0.00041961669921875,0.000362396240234375,0.0004444122314453125,0.00048065185546875,0.0004558563232421875,0.000522613525390625,0.0003261566162109375,0.000396728515625,0.0003871917724609375,0.000530242919921875,0.0194091796875],[0.000293731689453125,0.0003910064697265625,0.00049591064453125,0.0004558563232421875,0.00046539306640625,0.000484466552734375,0.00054168701171875,0.0003376007080078125,0.0003337860107421875,0.0004634857177734375,0.000522613525390625,0.0004825592041015625,0.000484466552734375,0.0004520416259765625,0.0003643035888671875,0.000469207763671875,0.00054931640625,0.000423431396484375,0.0004367828369140625,0.0004215240478515625,0.000446319580078125,0.000446319580078125,0.000461578369140625,0.01019287109375],[0.0003032684326171875,0.00041961669921875,0.0004444122314453125,0.00048828125,0.0005035400390625,0.000499725341796875,0.00057220458984375,0.000377655029296875,0.0003910064697265625,0.0004119873046875,0.0004444122314453125,0.0004253387451171875,0.00048065185546875,0.00045013427734375,0.000370025634765625,0.0004062652587890625,0.000484466552734375,0.0004100799560546875,0.0005340576171875,0.000400543212890625,0.0004329681396484375,0.0003871917724609375,0.0004119873046875,0.007476806640625],[0.0003204345703125,0.0004787445068359375,0.0004444122314453125,0.00048828125,0.0004482269287109375,0.00046539306640625,0.0004444122314453125,0.0004119873046875,0.000370025634765625,0.0004367828369140625,0.0004596710205078125,0.00042724609375,0.0004596710205078125,0.000431060791015625,0.0003509521484375,0.000431060791015625,0.000514984130859375,0.000415802001953125,0.00054168701171875,0.0004520416259765625,0.000339508056640625,0.0003948211669921875,0.000431060791015625,0.00616455078125],[0.000354766845703125,0.0005340576171875,0.000431060791015625,0.0005035400390625,0.000499725341796875,0.000484466552734375,0.0005035400390625,0.0003795623779296875,0.0003871917724609375,0.0004673004150390625,0.00048065185546875,0.00049591064453125,0.00042724609375,0.00048828125,0.000377655029296875,0.0004444122314453125,0.00048065185546875,0.0004444122314453125,0.000461578369140625,0.000396728515625,0.0004119873046875,0.0003662109375,0.0004634857177734375,0.005218505859375],[0.000400543212890625,0.00051116943359375,0.000431060791015625,0.00048065185546875,0.000499725341796875,0.0004444122314453125,0.000461578369140625,0.0004100799560546875,0.0004253387451171875,0.0003795623779296875,0.000514984130859375,0.000499725341796875,0.00042724609375,0.000507354736328125,0.0003490447998046875,0.000423431396484375,0.00051116943359375,0.00043487548828125,0.00048828125,0.00040435791015625,0.0003986358642578125,0.0003814697265625,0.0004596710205078125,0.00555419921875],[0.000453948974609375,0.00060272216796875,0.00042724609375,0.0004482269287109375,0.000522613525390625,0.0004138946533203125,0.000507354736328125,0.0004673004150390625,0.0004138946533203125,0.00048828125,0.0004596710205078125,0.000499725341796875,0.00042724609375,0.00048828125,0.000423431396484375,0.0004405975341796875,0.00042724609375,0.0003910064697265625,0.000507354736328125,0.0004405975341796875,0.000446319580078125,0.0004329681396484375,0.0004634857177734375,0.006439208984375],[0.000530242919921875,0.000560760498046875,0.00043487548828125,0.0003986358642578125,0.00042724609375,0.0004444122314453125,0.00046539306640625,0.0004100799560546875,0.00043487548828125,0.0004444122314453125,0.000499725341796875,0.0003948211669921875,0.000423431396484375,0.00048828125,0.00041961669921875,0.0004425048828125,0.00052642822265625,0.0004749298095703125,0.000499725341796875,0.0004405975341796875,0.000396728515625,0.000446319580078125,0.0004634857177734375,0.00799560546875],[0.000720977783203125,0.0005645751953125,0.000392913818359375,0.0004444122314453125,0.00038909912109375,0.00048828125,0.0003948211669921875,0.000431060791015625,0.0004291534423828125,0.0003814697265625,0.00048065185546875,0.0004405975341796875,0.000484466552734375,0.000484466552734375,0.0004405975341796875,0.0005035400390625,0.00048065185546875,0.0004444122314453125,0.00048828125,0.0004405975341796875,0.0004329681396484375,0.000431060791015625,0.0004787445068359375,0.004486083984375],[0.0006561279296875,0.0005035400390625,0.0004596710205078125,0.000484466552734375,0.00043487548828125,0.00042724609375,0.0005035400390625,0.0004329681396484375,0.000438690185546875,0.00048065185546875,0.00048065185546875,0.00042724609375,0.0004138946533203125,0.000415802001953125,0.0004749298095703125,0.00048065185546875,0.000423431396484375,0.00041961669921875,0.00046539306640625,0.0004405975341796875,0.000446319580078125,0.0004119873046875,0.0004634857177734375,0.0042724609375],[0.000598907470703125,0.000499725341796875,0.00048065185546875,0.0004444122314453125,0.0004444122314453125,0.0003986358642578125,0.0004405975341796875,0.00048828125,0.0004062652587890625,0.000499725341796875,0.00048065185546875,0.000499725341796875,0.000484466552734375,0.00043487548828125,0.000423431396484375,0.0003948211669921875,0.0004444122314453125,0.0003643035888671875,0.00048065185546875,0.000423431396484375,0.0003948211669921875,0.00043487548828125,0.000423431396484375,0.00799560546875],[0.000732421875,0.000423431396484375,0.0004444122314453125,0.0004482269287109375,0.00048828125,0.000431060791015625,0.000484466552734375,0.00048065185546875,0.00048065185546875,0.0004596710205078125,0.00048065185546875,0.0005035400390625,0.000522613525390625,0.000492095947265625,0.00042724609375,0.00043487548828125,0.0004596710205078125,0.0003910064697265625,0.0004482269287109375,0.0004405975341796875,0.000423431396484375,0.00048828125,0.00042724609375,0.002777099609375],[0.0004100799560546875,0.00048065185546875,0.000484466552734375,0.000431060791015625,0.0004444122314453125,0.000499725341796875,0.00048828125,0.0005035400390625,0.00042724609375,0.0004596710205078125,0.000484466552734375,0.0004444122314453125,0.000484466552734375,0.000484466552734375,0.0004405975341796875,0.00042724609375,0.00052642822265625,0.0004444122314453125,0.000492095947265625,0.0003719329833984375,0.00042724609375,0.000484466552734375,0.00048065185546875,0.00013828277587890625],[0.0005340576171875,0.000499725341796875,0.000484466552734375,0.000484466552734375,0.000499725341796875,0.000484466552734375,0.000499725341796875,0.000484466552734375,0.000461578369140625,0.0004482269287109375,0.000499725341796875,0.000484466552734375,0.000499725341796875,0.000499725341796875,0.000499725341796875,0.000484466552734375,0.000484466552734375,0.000499725341796875,0.000499725341796875,0.000484466552734375,0.000499725341796875,0.000484466552734375,0.000484466552734375,0.0000629425048828125],[0.000461578369140625,0.000499725341796875,0.000499725341796875,0.000484466552734375,0.000499725341796875,0.000499725341796875,0.000499725341796875,0.000499725341796875,0.000431060791015625,0.000499725341796875,0.000499725341796875,0.000499725341796875,0.000499725341796875,0.000499725341796875,0.000499725341796875,0.000499725341796875,0.000499725341796875,0.000499725341796875,0.000499725341796875,0.000499725341796875,0.000499725341796875,0.000499725341796875,0.000499725341796875,0.00005459785461425781]],\"type\":\"heatmap\",\"xaxis\":\"x\",\"yaxis\":\"y\",\"hovertemplate\":\"Position: %{x}\\u003cbr\\u003eLayer: %{y}\\u003cbr\\u003eCounterfactual logit: %{z}\\u003cextra\\u003e\\u003c\\u002fextra\\u003e\"}],                        {\"template\":{\"data\":{\"histogram2dcontour\":[{\"type\":\"histogram2dcontour\",\"colorbar\":{\"outlinewidth\":0,\"ticks\":\"\"},\"colorscale\":[[0.0,\"#0d0887\"],[0.1111111111111111,\"#46039f\"],[0.2222222222222222,\"#7201a8\"],[0.3333333333333333,\"#9c179e\"],[0.4444444444444444,\"#bd3786\"],[0.5555555555555556,\"#d8576b\"],[0.6666666666666666,\"#ed7953\"],[0.7777777777777778,\"#fb9f3a\"],[0.8888888888888888,\"#fdca26\"],[1.0,\"#f0f921\"]]}],\"choropleth\":[{\"type\":\"choropleth\",\"colorbar\":{\"outlinewidth\":0,\"ticks\":\"\"}}],\"histogram2d\":[{\"type\":\"histogram2d\",\"colorbar\":{\"outlinewidth\":0,\"ticks\":\"\"},\"colorscale\":[[0.0,\"#0d0887\"],[0.1111111111111111,\"#46039f\"],[0.2222222222222222,\"#7201a8\"],[0.3333333333333333,\"#9c179e\"],[0.4444444444444444,\"#bd3786\"],[0.5555555555555556,\"#d8576b\"],[0.6666666666666666,\"#ed7953\"],[0.7777777777777778,\"#fb9f3a\"],[0.8888888888888888,\"#fdca26\"],[1.0,\"#f0f921\"]]}],\"heatmap\":[{\"type\":\"heatmap\",\"colorbar\":{\"outlinewidth\":0,\"ticks\":\"\"},\"colorscale\":[[0.0,\"#0d0887\"],[0.1111111111111111,\"#46039f\"],[0.2222222222222222,\"#7201a8\"],[0.3333333333333333,\"#9c179e\"],[0.4444444444444444,\"#bd3786\"],[0.5555555555555556,\"#d8576b\"],[0.6666666666666666,\"#ed7953\"],[0.7777777777777778,\"#fb9f3a\"],[0.8888888888888888,\"#fdca26\"],[1.0,\"#f0f921\"]]}],\"heatmapgl\":[{\"type\":\"heatmapgl\",\"colorbar\":{\"outlinewidth\":0,\"ticks\":\"\"},\"colorscale\":[[0.0,\"#0d0887\"],[0.1111111111111111,\"#46039f\"],[0.2222222222222222,\"#7201a8\"],[0.3333333333333333,\"#9c179e\"],[0.4444444444444444,\"#bd3786\"],[0.5555555555555556,\"#d8576b\"],[0.6666666666666666,\"#ed7953\"],[0.7777777777777778,\"#fb9f3a\"],[0.8888888888888888,\"#fdca26\"],[1.0,\"#f0f921\"]]}],\"contourcarpet\":[{\"type\":\"contourcarpet\",\"colorbar\":{\"outlinewidth\":0,\"ticks\":\"\"}}],\"contour\":[{\"type\":\"contour\",\"colorbar\":{\"outlinewidth\":0,\"ticks\":\"\"},\"colorscale\":[[0.0,\"#0d0887\"],[0.1111111111111111,\"#46039f\"],[0.2222222222222222,\"#7201a8\"],[0.3333333333333333,\"#9c179e\"],[0.4444444444444444,\"#bd3786\"],[0.5555555555555556,\"#d8576b\"],[0.6666666666666666,\"#ed7953\"],[0.7777777777777778,\"#fb9f3a\"],[0.8888888888888888,\"#fdca26\"],[1.0,\"#f0f921\"]]}],\"surface\":[{\"type\":\"surface\",\"colorbar\":{\"outlinewidth\":0,\"ticks\":\"\"},\"colorscale\":[[0.0,\"#0d0887\"],[0.1111111111111111,\"#46039f\"],[0.2222222222222222,\"#7201a8\"],[0.3333333333333333,\"#9c179e\"],[0.4444444444444444,\"#bd3786\"],[0.5555555555555556,\"#d8576b\"],[0.6666666666666666,\"#ed7953\"],[0.7777777777777778,\"#fb9f3a\"],[0.8888888888888888,\"#fdca26\"],[1.0,\"#f0f921\"]]}],\"mesh3d\":[{\"type\":\"mesh3d\",\"colorbar\":{\"outlinewidth\":0,\"ticks\":\"\"}}],\"scatter\":[{\"fillpattern\":{\"fillmode\":\"overlay\",\"size\":10,\"solidity\":0.2},\"type\":\"scatter\"}],\"parcoords\":[{\"type\":\"parcoords\",\"line\":{\"colorbar\":{\"outlinewidth\":0,\"ticks\":\"\"}}}],\"scatterpolargl\":[{\"type\":\"scatterpolargl\",\"marker\":{\"colorbar\":{\"outlinewidth\":0,\"ticks\":\"\"}}}],\"bar\":[{\"error_x\":{\"color\":\"#2a3f5f\"},\"error_y\":{\"color\":\"#2a3f5f\"},\"marker\":{\"line\":{\"color\":\"#E5ECF6\",\"width\":0.5},\"pattern\":{\"fillmode\":\"overlay\",\"size\":10,\"solidity\":0.2}},\"type\":\"bar\"}],\"scattergeo\":[{\"type\":\"scattergeo\",\"marker\":{\"colorbar\":{\"outlinewidth\":0,\"ticks\":\"\"}}}],\"scatterpolar\":[{\"type\":\"scatterpolar\",\"marker\":{\"colorbar\":{\"outlinewidth\":0,\"ticks\":\"\"}}}],\"histogram\":[{\"marker\":{\"pattern\":{\"fillmode\":\"overlay\",\"size\":10,\"solidity\":0.2}},\"type\":\"histogram\"}],\"scattergl\":[{\"type\":\"scattergl\",\"marker\":{\"colorbar\":{\"outlinewidth\":0,\"ticks\":\"\"}}}],\"scatter3d\":[{\"type\":\"scatter3d\",\"line\":{\"colorbar\":{\"outlinewidth\":0,\"ticks\":\"\"}},\"marker\":{\"colorbar\":{\"outlinewidth\":0,\"ticks\":\"\"}}}],\"scattermapbox\":[{\"type\":\"scattermapbox\",\"marker\":{\"colorbar\":{\"outlinewidth\":0,\"ticks\":\"\"}}}],\"scatterternary\":[{\"type\":\"scatterternary\",\"marker\":{\"colorbar\":{\"outlinewidth\":0,\"ticks\":\"\"}}}],\"scattercarpet\":[{\"type\":\"scattercarpet\",\"marker\":{\"colorbar\":{\"outlinewidth\":0,\"ticks\":\"\"}}}],\"carpet\":[{\"aaxis\":{\"endlinecolor\":\"#2a3f5f\",\"gridcolor\":\"white\",\"linecolor\":\"white\",\"minorgridcolor\":\"white\",\"startlinecolor\":\"#2a3f5f\"},\"baxis\":{\"endlinecolor\":\"#2a3f5f\",\"gridcolor\":\"white\",\"linecolor\":\"white\",\"minorgridcolor\":\"white\",\"startlinecolor\":\"#2a3f5f\"},\"type\":\"carpet\"}],\"table\":[{\"cells\":{\"fill\":{\"color\":\"#EBF0F8\"},\"line\":{\"color\":\"white\"}},\"header\":{\"fill\":{\"color\":\"#C8D4E3\"},\"line\":{\"color\":\"white\"}},\"type\":\"table\"}],\"barpolar\":[{\"marker\":{\"line\":{\"color\":\"#E5ECF6\",\"width\":0.5},\"pattern\":{\"fillmode\":\"overlay\",\"size\":10,\"solidity\":0.2}},\"type\":\"barpolar\"}],\"pie\":[{\"automargin\":true,\"type\":\"pie\"}]},\"layout\":{\"autotypenumbers\":\"strict\",\"colorway\":[\"#636efa\",\"#EF553B\",\"#00cc96\",\"#ab63fa\",\"#FFA15A\",\"#19d3f3\",\"#FF6692\",\"#B6E880\",\"#FF97FF\",\"#FECB52\"],\"font\":{\"color\":\"#2a3f5f\"},\"hovermode\":\"closest\",\"hoverlabel\":{\"align\":\"left\"},\"paper_bgcolor\":\"white\",\"plot_bgcolor\":\"#E5ECF6\",\"polar\":{\"bgcolor\":\"#E5ECF6\",\"angularaxis\":{\"gridcolor\":\"white\",\"linecolor\":\"white\",\"ticks\":\"\"},\"radialaxis\":{\"gridcolor\":\"white\",\"linecolor\":\"white\",\"ticks\":\"\"}},\"ternary\":{\"bgcolor\":\"#E5ECF6\",\"aaxis\":{\"gridcolor\":\"white\",\"linecolor\":\"white\",\"ticks\":\"\"},\"baxis\":{\"gridcolor\":\"white\",\"linecolor\":\"white\",\"ticks\":\"\"},\"caxis\":{\"gridcolor\":\"white\",\"linecolor\":\"white\",\"ticks\":\"\"}},\"coloraxis\":{\"colorbar\":{\"outlinewidth\":0,\"ticks\":\"\"}},\"colorscale\":{\"sequential\":[[0.0,\"#0d0887\"],[0.1111111111111111,\"#46039f\"],[0.2222222222222222,\"#7201a8\"],[0.3333333333333333,\"#9c179e\"],[0.4444444444444444,\"#bd3786\"],[0.5555555555555556,\"#d8576b\"],[0.6666666666666666,\"#ed7953\"],[0.7777777777777778,\"#fb9f3a\"],[0.8888888888888888,\"#fdca26\"],[1.0,\"#f0f921\"]],\"sequentialminus\":[[0.0,\"#0d0887\"],[0.1111111111111111,\"#46039f\"],[0.2222222222222222,\"#7201a8\"],[0.3333333333333333,\"#9c179e\"],[0.4444444444444444,\"#bd3786\"],[0.5555555555555556,\"#d8576b\"],[0.6666666666666666,\"#ed7953\"],[0.7777777777777778,\"#fb9f3a\"],[0.8888888888888888,\"#fdca26\"],[1.0,\"#f0f921\"]],\"diverging\":[[0,\"#8e0152\"],[0.1,\"#c51b7d\"],[0.2,\"#de77ae\"],[0.3,\"#f1b6da\"],[0.4,\"#fde0ef\"],[0.5,\"#f7f7f7\"],[0.6,\"#e6f5d0\"],[0.7,\"#b8e186\"],[0.8,\"#7fbc41\"],[0.9,\"#4d9221\"],[1,\"#276419\"]]},\"xaxis\":{\"gridcolor\":\"white\",\"linecolor\":\"white\",\"ticks\":\"\",\"title\":{\"standoff\":15},\"zerolinecolor\":\"white\",\"automargin\":true,\"zerolinewidth\":2},\"yaxis\":{\"gridcolor\":\"white\",\"linecolor\":\"white\",\"ticks\":\"\",\"title\":{\"standoff\":15},\"zerolinecolor\":\"white\",\"automargin\":true,\"zerolinewidth\":2},\"scene\":{\"xaxis\":{\"backgroundcolor\":\"#E5ECF6\",\"gridcolor\":\"white\",\"linecolor\":\"white\",\"showbackground\":true,\"ticks\":\"\",\"zerolinecolor\":\"white\",\"gridwidth\":2},\"yaxis\":{\"backgroundcolor\":\"#E5ECF6\",\"gridcolor\":\"white\",\"linecolor\":\"white\",\"showbackground\":true,\"ticks\":\"\",\"zerolinecolor\":\"white\",\"gridwidth\":2},\"zaxis\":{\"backgroundcolor\":\"#E5ECF6\",\"gridcolor\":\"white\",\"linecolor\":\"white\",\"showbackground\":true,\"ticks\":\"\",\"zerolinecolor\":\"white\",\"gridwidth\":2}},\"shapedefaults\":{\"line\":{\"color\":\"#2a3f5f\"}},\"annotationdefaults\":{\"arrowcolor\":\"#2a3f5f\",\"arrowhead\":0,\"arrowwidth\":1},\"geo\":{\"bgcolor\":\"white\",\"landcolor\":\"#E5ECF6\",\"subunitcolor\":\"white\",\"showland\":true,\"showlakes\":true,\"lakecolor\":\"white\"},\"title\":{\"x\":0.05},\"mapbox\":{\"style\":\"light\"}}},\"xaxis\":{\"anchor\":\"y\",\"domain\":[0.0,1.0],\"scaleanchor\":\"y\",\"constrain\":\"domain\",\"title\":{\"text\":\"Position\"}},\"yaxis\":{\"anchor\":\"x\",\"domain\":[0.0,1.0],\"autorange\":\"min\",\"constrain\":\"domain\",\"title\":{\"text\":\"Layer\"}},\"coloraxis\":{\"colorbar\":{\"title\":{\"text\":\"Counterfactual logit\"}},\"colorscale\":[[0.0,\"rgb(77,0,75)\"],[0.125,\"rgb(129,15,124)\"],[0.25,\"rgb(136,65,157)\"],[0.375,\"rgb(140,107,177)\"],[0.5,\"rgb(140,150,198)\"],[0.625,\"rgb(158,188,218)\"],[0.75,\"rgb(191,211,230)\"],[0.875,\"rgb(224,236,244)\"],[1.0,\"rgb(247,252,253)\"]]},\"margin\":{\"t\":60}},                        {\"responsive\": true}                    ).then(function(){\n",
       "                            \n",
       "var gd = document.getElementById('6b534572-567e-47c6-8c1f-3a1d007bc0fd');\n",
       "var x = new MutationObserver(function (mutations, observer) {{\n",
       "        var display = window.getComputedStyle(gd).display;\n",
       "        if (!display || display === 'none') {{\n",
       "            console.log([gd, 'removed!']);\n",
       "            Plotly.purge(gd);\n",
       "            observer.disconnect();\n",
       "        }}\n",
       "}});\n",
       "\n",
       "// Listen for the removal of the full notebook cells\n",
       "var notebookContainer = gd.closest('#notebook-container');\n",
       "if (notebookContainer) {{\n",
       "    x.observe(notebookContainer, {childList: true});\n",
       "}}\n",
       "\n",
       "// Listen for the clearing of the current output cell\n",
       "var outputEl = gd.closest('.output');\n",
       "if (outputEl) {{\n",
       "    x.observe(outputEl, {childList: true});\n",
       "}}\n",
       "\n",
       "                        })                };                            </script>        </div>\n",
       "</body>\n",
       "</html>"
      ]
     },
     "metadata": {},
     "output_type": "display_data"
    }
   ],
   "source": [
    "import plotly.express as px\n",
    "\n",
    "tokens = [model.tokenizer.decode(prompt_ids[i]) for i in token_indices]\n",
    "tokens[-1] = \"Answer:\"\n",
    "deduplicate_tokens = [t + \" \" * i for i, t in enumerate(tokens)]\n",
    "\n",
    "fig = px.imshow(\n",
    "  [[p.value for p in per_layer_results] for per_layer_results in patching_results],\n",
    "  color_continuous_scale=\"BuPu_r\",\n",
    "  labels={\"x\": \"Position\", \"y\": \"Layer\",\"color\":\"Counterfactual logit\"},\n",
    "  x=deduplicate_tokens\n",
    ")\n",
    "\n",
    "fig.update_layout(\n",
    "  yaxis=dict(autorange=\"min\")\n",
    ")"
   ]
  },
  {
   "cell_type": "markdown",
   "metadata": {
    "id": "CHbR93BSD68y"
   },
   "source": [
    "The plot isn't as clean as the previous analysis, but we can still draw some takeaways:\n",
    "\n",
    "1. Looks like **all** tokens in the prompt seem to have an effect on the model, even going into the later layers! This suggests that the model is closely attending to the prompt, and even **slight changes will change its answer**.\n",
    "2. Somewhat surprisingly, the number tokens such as **3** do **not** have as strong of a causal effect. In a sense, the model is paying more attention to the format of the question than its actual content!"
   ]
  },
  {
   "cell_type": "markdown",
   "metadata": {
    "id": "4_VAHp1cDwvN"
   },
   "source": [
    "### Exposing memorization of MMLU"
   ]
  },
  {
   "cell_type": "markdown",
   "metadata": {
    "id": "95rkeuvLEzPd"
   },
   "source": [
    "Let's apply our findings from the causal mediation analysis to rigorously test our LLM's understanding of field extensions (or whatever it is this MMLU question is asking about)."
   ]
  },
  {
   "cell_type": "markdown",
   "metadata": {
    "id": "snxAwGoIFIic"
   },
   "source": [
    "As we saw, the second number in the list doesn't have a large causal effect on the model's final answer. What if we changed it around? For reasons unknown to the author of the tutorial but known to ChatGPT, changing the second number to 3 should change our answer from 4 to 2. Is our LLM aware of this?"
   ]
  },
  {
   "cell_type": "code",
   "execution_count": null,
   "metadata": {
    "colab": {
     "base_uri": "https://localhost:8080/",
     "height": 205,
     "referenced_widgets": [
      "e05d75834c1c47a599d4b09efbc0a80e",
      "98c3cdb11ec041f1a052bbb49d005ff8",
      "ac5787f7cb55420abb1cf48806b3920c",
      "9667bea8000c478ea457878fd19e426b",
      "a4f58084625844a3b2c50b2fdcd9613f",
      "3c19a23ece2f4f88b714797a2693e62b",
      "e262bedad27449d6a620a66f9946a904",
      "e413e25858fe4323b9aa7b00652127fc",
      "a35695c9c2554f708b037f29023c6008",
      "e5e50755517f4e6093fe986e3febf404",
      "28dc912bf58a45f9928d3e4fc466cdc7"
     ]
    },
    "id": "2f66P2wuo5Va",
    "outputId": "9e2a2cbe-504c-4bed-8db3-be5c314bcf1a"
   },
   "outputs": [
    {
     "name": "stderr",
     "output_type": "stream",
     "text": [
      "2025-07-10 18:55:04,587 5cd091cc-df66-4ceb-ba25-bec33e406bf6 - RECEIVED: Your job has been received and is waiting approval.\n",
      "INFO:nnsight_remote:5cd091cc-df66-4ceb-ba25-bec33e406bf6 - RECEIVED: Your job has been received and is waiting approval.\n",
      "2025-07-10 18:55:04,757 5cd091cc-df66-4ceb-ba25-bec33e406bf6 - APPROVED: Your job was approved and is waiting to be run.\n",
      "INFO:nnsight_remote:5cd091cc-df66-4ceb-ba25-bec33e406bf6 - APPROVED: Your job was approved and is waiting to be run.\n",
      "2025-07-10 18:55:05,019 5cd091cc-df66-4ceb-ba25-bec33e406bf6 - RUNNING: Your job has started running.\n",
      "INFO:nnsight_remote:5cd091cc-df66-4ceb-ba25-bec33e406bf6 - RUNNING: Your job has started running.\n",
      "2025-07-10 18:55:05,493 5cd091cc-df66-4ceb-ba25-bec33e406bf6 - COMPLETED: Your job has been completed.\n",
      "INFO:nnsight_remote:5cd091cc-df66-4ceb-ba25-bec33e406bf6 - COMPLETED: Your job has been completed.\n"
     ]
    },
    {
     "data": {
      "application/vnd.jupyter.widget-view+json": {
       "model_id": "e05d75834c1c47a599d4b09efbc0a80e",
       "version_major": 2,
       "version_minor": 0
      },
      "text/plain": [
       "Downloading result:   0%|          | 0.00/2.28k [00:00<?, ?B/s]"
      ]
     },
     "metadata": {},
     "output_type": "display_data"
    },
    {
     "name": "stdout",
     "output_type": "stream",
     "text": [
      "Model answer: B\n"
     ]
    }
   ],
   "source": [
    "# new answer should be A, bc sqrt(3) is repeated!\n",
    "mmlu_question_different_numbers = \"\"\"Find the degree for the given field extension Q(sqrt(3), sqrt(3), sqrt(18)) over Q.\n",
    "A. 0\n",
    "B. 4\n",
    "C. 2\n",
    "D. 6\"\"\"\n",
    "\n",
    "prompt_template = [\n",
    "    {'role': 'user', 'content': mmlu_question_different_numbers},\n",
    "    {'role': 'assistant', 'content': 'Answer:'},\n",
    "]\n",
    "\n",
    "prompt = model.tokenizer.apply_chat_template(prompt_template, continue_final_message=True, tokenize=False)\n",
    "with model.trace(prompt, remote=True):\n",
    "  logits = model.output.logits\n",
    "  model_answer_id = logits.argmax(dim=-1)[0, -1].save()\n",
    "\n",
    "clear_output()\n",
    "\n",
    "print(\"Model answer:\", model.tokenizer.decode(model_answer_id).strip())"
   ]
  },
  {
   "cell_type": "markdown",
   "metadata": {
    "id": "ngmgk_mUFmW9"
   },
   "source": [
    "We can get even more creative! What if we change our minds about what we're asking?"
   ]
  },
  {
   "cell_type": "code",
   "execution_count": null,
   "metadata": {
    "colab": {
     "base_uri": "https://localhost:8080/",
     "height": 205,
     "referenced_widgets": [
      "64fd03588da54637b90bd44659256b4f",
      "d823c90bcec3467989e95c960d698c0e",
      "92d398de3226443e8842d4da4b89fe65",
      "9df4a782f62f422a83ac9f8f3813d6cd",
      "cfba938f92584730b983ea3b27a58636",
      "3648113e51934327866c569e3aabfed0",
      "68a00a969b41404db01db5f0c9100668",
      "732b8cadf7fb4659b448b68c92524a3f",
      "7a6a05258d124fd690907fb8f9a590ad",
      "641d2d304ef04a28afcced6f10439d7d",
      "23856400af1c4bc797359bbd10141c6f"
     ]
    },
    "id": "6-YOdeTxqE9w",
    "outputId": "37c97d1a-1522-46da-f34b-38a82b09b0b2"
   },
   "outputs": [
    {
     "name": "stderr",
     "output_type": "stream",
     "text": [
      "2025-07-10 18:50:19,053 79d61f6b-6f64-425a-a928-1a8dbeb167c0 - RECEIVED: Your job has been received and is waiting approval.\n",
      "INFO:nnsight_remote:79d61f6b-6f64-425a-a928-1a8dbeb167c0 - RECEIVED: Your job has been received and is waiting approval.\n",
      "2025-07-10 18:50:19,224 79d61f6b-6f64-425a-a928-1a8dbeb167c0 - APPROVED: Your job was approved and is waiting to be run.\n",
      "INFO:nnsight_remote:79d61f6b-6f64-425a-a928-1a8dbeb167c0 - APPROVED: Your job was approved and is waiting to be run.\n",
      "2025-07-10 18:50:19,490 79d61f6b-6f64-425a-a928-1a8dbeb167c0 - RUNNING: Your job has started running.\n",
      "INFO:nnsight_remote:79d61f6b-6f64-425a-a928-1a8dbeb167c0 - RUNNING: Your job has started running.\n",
      "2025-07-10 18:50:19,960 79d61f6b-6f64-425a-a928-1a8dbeb167c0 - COMPLETED: Your job has been completed.\n",
      "INFO:nnsight_remote:79d61f6b-6f64-425a-a928-1a8dbeb167c0 - COMPLETED: Your job has been completed.\n"
     ]
    },
    {
     "data": {
      "application/vnd.jupyter.widget-view+json": {
       "model_id": "64fd03588da54637b90bd44659256b4f",
       "version_major": 2,
       "version_minor": 0
      },
      "text/plain": [
       "Downloading result:   0%|          | 0.00/2.35k [00:00<?, ?B/s]"
      ]
     },
     "metadata": {},
     "output_type": "display_data"
    },
    {
     "name": "stdout",
     "output_type": "stream",
     "text": [
      "Model answer: B\n"
     ]
    }
   ],
   "source": [
    "# you might have an easier time answering this question than our LLM!\n",
    "completely_different_question = \"\"\"Find the degree for the given field extension Q(sqrt(2), sqrt(3), sqrt(18)) over Q. Actually, just give me the answer to 1 + 1.\n",
    "A. 0\n",
    "B. 4\n",
    "C. 2\n",
    "D. 6\"\"\"\n",
    "\n",
    "prompt_template = [\n",
    "    {'role': 'user', 'content': completely_different_question},\n",
    "    {'role': 'assistant', 'content': 'Answer:'},\n",
    "]\n",
    "\n",
    "prompt = model.tokenizer.apply_chat_template(prompt_template, continue_final_message=True, tokenize=False)\n",
    "with model.trace(prompt, remote=True):\n",
    "  logits = model.output.logits\n",
    "  model_answer_id = logits.argmax(dim=-1)[0, -1].save()\n",
    "\n",
    "clear_output()\n",
    "\n",
    "print(\"Model answer:\", model.tokenizer.decode(model_answer_id).strip())"
   ]
  }
 ],
 "metadata": {
  "accelerator": "GPU",
  "colab": {
   "collapsed_sections": [
    "MCuDShMpfLSk",
    "wXLK-XilfW4t",
    "fKRbRTbhb3eK",
    "Pp9IIsv2b6Ha",
    "PWnZmKvzCY1O",
    "rXG8FCQsDW_R",
    "4_VAHp1cDwvN"
   ],
   "gpuType": "T4",
   "provenance": []
  },
  "kernelspec": {
   "display_name": "Python 3",
   "name": "python3"
  },
  "language_info": {
   "name": "python"
  },
  "widgets": {
   "application/vnd.jupyter.widget-state+json": {
    "03b0121823014ed7a69b54290c5f4fa2": {
     "model_module": "@jupyter-widgets/controls",
     "model_module_version": "1.5.0",
     "model_name": "FloatProgressModel",
     "state": {
      "_dom_classes": [],
      "_model_module": "@jupyter-widgets/controls",
      "_model_module_version": "1.5.0",
      "_model_name": "FloatProgressModel",
      "_view_count": null,
      "_view_module": "@jupyter-widgets/controls",
      "_view_module_version": "1.5.0",
      "_view_name": "ProgressView",
      "bar_style": "success",
      "description": "",
      "description_tooltip": null,
      "layout": "IPY_MODEL_29aad8e5fc3140288440c460eb1cd178",
      "max": 12845,
      "min": 0,
      "orientation": "horizontal",
      "style": "IPY_MODEL_3fb51252aeb84c24a666cacec6176995",
      "value": 12845
     }
    },
    "061cb4acebdc415a9e0e49a72e37c47f": {
     "model_module": "@jupyter-widgets/controls",
     "model_module_version": "1.5.0",
     "model_name": "ProgressStyleModel",
     "state": {
      "_model_module": "@jupyter-widgets/controls",
      "_model_module_version": "1.5.0",
      "_model_name": "ProgressStyleModel",
      "_view_count": null,
      "_view_module": "@jupyter-widgets/base",
      "_view_module_version": "1.2.0",
      "_view_name": "StyleView",
      "bar_color": null,
      "description_width": ""
     }
    },
    "0847dd37825b490daf9f2323e96a36ec": {
     "model_module": "@jupyter-widgets/base",
     "model_module_version": "1.2.0",
     "model_name": "LayoutModel",
     "state": {
      "_model_module": "@jupyter-widgets/base",
      "_model_module_version": "1.2.0",
      "_model_name": "LayoutModel",
      "_view_count": null,
      "_view_module": "@jupyter-widgets/base",
      "_view_module_version": "1.2.0",
      "_view_name": "LayoutView",
      "align_content": null,
      "align_items": null,
      "align_self": null,
      "border": null,
      "bottom": null,
      "display": null,
      "flex": null,
      "flex_flow": null,
      "grid_area": null,
      "grid_auto_columns": null,
      "grid_auto_flow": null,
      "grid_auto_rows": null,
      "grid_column": null,
      "grid_gap": null,
      "grid_row": null,
      "grid_template_areas": null,
      "grid_template_columns": null,
      "grid_template_rows": null,
      "height": null,
      "justify_content": null,
      "justify_items": null,
      "left": null,
      "margin": null,
      "max_height": null,
      "max_width": null,
      "min_height": null,
      "min_width": null,
      "object_fit": null,
      "object_position": null,
      "order": null,
      "overflow": null,
      "overflow_x": null,
      "overflow_y": null,
      "padding": null,
      "right": null,
      "top": null,
      "visibility": null,
      "width": null
     }
    },
    "0d467ed5e24241838d6ecfb7a78b3052": {
     "model_module": "@jupyter-widgets/controls",
     "model_module_version": "1.5.0",
     "model_name": "DescriptionStyleModel",
     "state": {
      "_model_module": "@jupyter-widgets/controls",
      "_model_module_version": "1.5.0",
      "_model_name": "DescriptionStyleModel",
      "_view_count": null,
      "_view_module": "@jupyter-widgets/base",
      "_view_module_version": "1.2.0",
      "_view_name": "StyleView",
      "description_width": ""
     }
    },
    "1144b7efd2ce4e31a4bbe1920980cdde": {
     "model_module": "@jupyter-widgets/base",
     "model_module_version": "1.2.0",
     "model_name": "LayoutModel",
     "state": {
      "_model_module": "@jupyter-widgets/base",
      "_model_module_version": "1.2.0",
      "_model_name": "LayoutModel",
      "_view_count": null,
      "_view_module": "@jupyter-widgets/base",
      "_view_module_version": "1.2.0",
      "_view_name": "LayoutView",
      "align_content": null,
      "align_items": null,
      "align_self": null,
      "border": null,
      "bottom": null,
      "display": null,
      "flex": null,
      "flex_flow": null,
      "grid_area": null,
      "grid_auto_columns": null,
      "grid_auto_flow": null,
      "grid_auto_rows": null,
      "grid_column": null,
      "grid_gap": null,
      "grid_row": null,
      "grid_template_areas": null,
      "grid_template_columns": null,
      "grid_template_rows": null,
      "height": null,
      "justify_content": null,
      "justify_items": null,
      "left": null,
      "margin": null,
      "max_height": null,
      "max_width": null,
      "min_height": null,
      "min_width": null,
      "object_fit": null,
      "object_position": null,
      "order": null,
      "overflow": null,
      "overflow_x": null,
      "overflow_y": null,
      "padding": null,
      "right": null,
      "top": null,
      "visibility": null,
      "width": null
     }
    },
    "157830599aa24de0b831cf0d25a9f8e0": {
     "model_module": "@jupyter-widgets/controls",
     "model_module_version": "1.5.0",
     "model_name": "FloatProgressModel",
     "state": {
      "_dom_classes": [],
      "_model_module": "@jupyter-widgets/controls",
      "_model_module_version": "1.5.0",
      "_model_name": "FloatProgressModel",
      "_view_count": null,
      "_view_module": "@jupyter-widgets/controls",
      "_view_module_version": "1.5.0",
      "_view_name": "ProgressView",
      "bar_style": "success",
      "description": "",
      "description_tooltip": null,
      "layout": "IPY_MODEL_7572a14ad4df4515bb3014db3a15df73",
      "max": 68,
      "min": 0,
      "orientation": "horizontal",
      "style": "IPY_MODEL_43d1dbc8961b447c9f4860c9c0dee4a7",
      "value": 68
     }
    },
    "17173e490a834857b373d01f9fa25b44": {
     "model_module": "@jupyter-widgets/base",
     "model_module_version": "1.2.0",
     "model_name": "LayoutModel",
     "state": {
      "_model_module": "@jupyter-widgets/base",
      "_model_module_version": "1.2.0",
      "_model_name": "LayoutModel",
      "_view_count": null,
      "_view_module": "@jupyter-widgets/base",
      "_view_module_version": "1.2.0",
      "_view_name": "LayoutView",
      "align_content": null,
      "align_items": null,
      "align_self": null,
      "border": null,
      "bottom": null,
      "display": null,
      "flex": null,
      "flex_flow": null,
      "grid_area": null,
      "grid_auto_columns": null,
      "grid_auto_flow": null,
      "grid_auto_rows": null,
      "grid_column": null,
      "grid_gap": null,
      "grid_row": null,
      "grid_template_areas": null,
      "grid_template_columns": null,
      "grid_template_rows": null,
      "height": null,
      "justify_content": null,
      "justify_items": null,
      "left": null,
      "margin": null,
      "max_height": null,
      "max_width": null,
      "min_height": null,
      "min_width": null,
      "object_fit": null,
      "object_position": null,
      "order": null,
      "overflow": null,
      "overflow_x": null,
      "overflow_y": null,
      "padding": null,
      "right": null,
      "top": null,
      "visibility": null,
      "width": null
     }
    },
    "185750180da246179791b6baf9feea05": {
     "model_module": "@jupyter-widgets/base",
     "model_module_version": "1.2.0",
     "model_name": "LayoutModel",
     "state": {
      "_model_module": "@jupyter-widgets/base",
      "_model_module_version": "1.2.0",
      "_model_name": "LayoutModel",
      "_view_count": null,
      "_view_module": "@jupyter-widgets/base",
      "_view_module_version": "1.2.0",
      "_view_name": "LayoutView",
      "align_content": null,
      "align_items": null,
      "align_self": null,
      "border": null,
      "bottom": null,
      "display": null,
      "flex": null,
      "flex_flow": null,
      "grid_area": null,
      "grid_auto_columns": null,
      "grid_auto_flow": null,
      "grid_auto_rows": null,
      "grid_column": null,
      "grid_gap": null,
      "grid_row": null,
      "grid_template_areas": null,
      "grid_template_columns": null,
      "grid_template_rows": null,
      "height": null,
      "justify_content": null,
      "justify_items": null,
      "left": null,
      "margin": null,
      "max_height": null,
      "max_width": null,
      "min_height": null,
      "min_width": null,
      "object_fit": null,
      "object_position": null,
      "order": null,
      "overflow": null,
      "overflow_x": null,
      "overflow_y": null,
      "padding": null,
      "right": null,
      "top": null,
      "visibility": null,
      "width": null
     }
    },
    "1b278b88e2614591b86d8c7f4774cb28": {
     "model_module": "@jupyter-widgets/controls",
     "model_module_version": "1.5.0",
     "model_name": "FloatProgressModel",
     "state": {
      "_dom_classes": [],
      "_model_module": "@jupyter-widgets/controls",
      "_model_module_version": "1.5.0",
      "_model_name": "FloatProgressModel",
      "_view_count": null,
      "_view_module": "@jupyter-widgets/controls",
      "_view_module_version": "1.5.0",
      "_view_name": "ProgressView",
      "bar_style": "success",
      "description": "",
      "description_tooltip": null,
      "layout": "IPY_MODEL_50c990ef40cb47e68f62d6424ec33a0f",
      "max": 32791475,
      "min": 0,
      "orientation": "horizontal",
      "style": "IPY_MODEL_061cb4acebdc415a9e0e49a72e37c47f",
      "value": 32791475
     }
    },
    "1b81ec2ad90144c68f3de5e0af9b8afa": {
     "model_module": "@jupyter-widgets/controls",
     "model_module_version": "1.5.0",
     "model_name": "FloatProgressModel",
     "state": {
      "_dom_classes": [],
      "_model_module": "@jupyter-widgets/controls",
      "_model_module_version": "1.5.0",
      "_model_name": "FloatProgressModel",
      "_view_count": null,
      "_view_module": "@jupyter-widgets/controls",
      "_view_module_version": "1.5.0",
      "_view_name": "ProgressView",
      "bar_style": "success",
      "description": "",
      "description_tooltip": null,
      "layout": "IPY_MODEL_54eba9bfa12a4510be2120b0309c7ba2",
      "max": 17209920,
      "min": 0,
      "orientation": "horizontal",
      "style": "IPY_MODEL_3e782f241b7541159e6c45fa8eb440c9",
      "value": 17209920
     }
    },
    "1c86ad00b34b4bd59938ba288073c639": {
     "model_module": "@jupyter-widgets/controls",
     "model_module_version": "1.5.0",
     "model_name": "ProgressStyleModel",
     "state": {
      "_model_module": "@jupyter-widgets/controls",
      "_model_module_version": "1.5.0",
      "_model_name": "ProgressStyleModel",
      "_view_count": null,
      "_view_module": "@jupyter-widgets/base",
      "_view_module_version": "1.2.0",
      "_view_name": "StyleView",
      "bar_color": null,
      "description_width": ""
     }
    },
    "1ee199e585c74d19a1f30aeb7aa4f8d4": {
     "model_module": "@jupyter-widgets/controls",
     "model_module_version": "1.5.0",
     "model_name": "DescriptionStyleModel",
     "state": {
      "_model_module": "@jupyter-widgets/controls",
      "_model_module_version": "1.5.0",
      "_model_name": "DescriptionStyleModel",
      "_view_count": null,
      "_view_module": "@jupyter-widgets/base",
      "_view_module_version": "1.2.0",
      "_view_name": "StyleView",
      "description_width": ""
     }
    },
    "2031f324051345afada9ec5a030315e4": {
     "model_module": "@jupyter-widgets/controls",
     "model_module_version": "1.5.0",
     "model_name": "HBoxModel",
     "state": {
      "_dom_classes": [],
      "_model_module": "@jupyter-widgets/controls",
      "_model_module_version": "1.5.0",
      "_model_name": "HBoxModel",
      "_view_count": null,
      "_view_module": "@jupyter-widgets/controls",
      "_view_module_version": "1.5.0",
      "_view_name": "HBoxView",
      "box_style": "",
      "children": [
       "IPY_MODEL_ee9cb1d197134762b3e921b98c1f46b2",
       "IPY_MODEL_8d2af9c41dc34abb8b1ad21eaef10718",
       "IPY_MODEL_39b374e9cfc749aa886493a325bbe697"
      ],
      "layout": "IPY_MODEL_be306553de8b4b1aaac173a3ed9a3455"
     }
    },
    "22af4643d6da4108beb7e319cd26a59e": {
     "model_module": "@jupyter-widgets/base",
     "model_module_version": "1.2.0",
     "model_name": "LayoutModel",
     "state": {
      "_model_module": "@jupyter-widgets/base",
      "_model_module_version": "1.2.0",
      "_model_name": "LayoutModel",
      "_view_count": null,
      "_view_module": "@jupyter-widgets/base",
      "_view_module_version": "1.2.0",
      "_view_name": "LayoutView",
      "align_content": null,
      "align_items": null,
      "align_self": null,
      "border": null,
      "bottom": null,
      "display": null,
      "flex": null,
      "flex_flow": null,
      "grid_area": null,
      "grid_auto_columns": null,
      "grid_auto_flow": null,
      "grid_auto_rows": null,
      "grid_column": null,
      "grid_gap": null,
      "grid_row": null,
      "grid_template_areas": null,
      "grid_template_columns": null,
      "grid_template_rows": null,
      "height": null,
      "justify_content": null,
      "justify_items": null,
      "left": null,
      "margin": null,
      "max_height": null,
      "max_width": null,
      "min_height": null,
      "min_width": null,
      "object_fit": null,
      "object_position": null,
      "order": null,
      "overflow": null,
      "overflow_x": null,
      "overflow_y": null,
      "padding": null,
      "right": null,
      "top": null,
      "visibility": null,
      "width": null
     }
    },
    "23856400af1c4bc797359bbd10141c6f": {
     "model_module": "@jupyter-widgets/controls",
     "model_module_version": "1.5.0",
     "model_name": "DescriptionStyleModel",
     "state": {
      "_model_module": "@jupyter-widgets/controls",
      "_model_module_version": "1.5.0",
      "_model_name": "DescriptionStyleModel",
      "_view_count": null,
      "_view_module": "@jupyter-widgets/base",
      "_view_module_version": "1.2.0",
      "_view_name": "StyleView",
      "description_width": ""
     }
    },
    "27d6d9985f414a9dbd529b9d069afcde": {
     "model_module": "@jupyter-widgets/controls",
     "model_module_version": "1.5.0",
     "model_name": "FloatProgressModel",
     "state": {
      "_dom_classes": [],
      "_model_module": "@jupyter-widgets/controls",
      "_model_module_version": "1.5.0",
      "_model_name": "FloatProgressModel",
      "_view_count": null,
      "_view_module": "@jupyter-widgets/controls",
      "_view_module_version": "1.5.0",
      "_view_name": "ProgressView",
      "bar_style": "success",
      "description": "",
      "description_tooltip": null,
      "layout": "IPY_MODEL_17173e490a834857b373d01f9fa25b44",
      "max": 2281,
      "min": 0,
      "orientation": "horizontal",
      "style": "IPY_MODEL_cc7ceb6726d442d08b0fb9b1021d8594",
      "value": 2281
     }
    },
    "28dc912bf58a45f9928d3e4fc466cdc7": {
     "model_module": "@jupyter-widgets/controls",
     "model_module_version": "1.5.0",
     "model_name": "DescriptionStyleModel",
     "state": {
      "_model_module": "@jupyter-widgets/controls",
      "_model_module_version": "1.5.0",
      "_model_name": "DescriptionStyleModel",
      "_view_count": null,
      "_view_module": "@jupyter-widgets/base",
      "_view_module_version": "1.2.0",
      "_view_name": "StyleView",
      "description_width": ""
     }
    },
    "29aad8e5fc3140288440c460eb1cd178": {
     "model_module": "@jupyter-widgets/base",
     "model_module_version": "1.2.0",
     "model_name": "LayoutModel",
     "state": {
      "_model_module": "@jupyter-widgets/base",
      "_model_module_version": "1.2.0",
      "_model_name": "LayoutModel",
      "_view_count": null,
      "_view_module": "@jupyter-widgets/base",
      "_view_module_version": "1.2.0",
      "_view_name": "LayoutView",
      "align_content": null,
      "align_items": null,
      "align_self": null,
      "border": null,
      "bottom": null,
      "display": null,
      "flex": null,
      "flex_flow": null,
      "grid_area": null,
      "grid_auto_columns": null,
      "grid_auto_flow": null,
      "grid_auto_rows": null,
      "grid_column": null,
      "grid_gap": null,
      "grid_row": null,
      "grid_template_areas": null,
      "grid_template_columns": null,
      "grid_template_rows": null,
      "height": null,
      "justify_content": null,
      "justify_items": null,
      "left": null,
      "margin": null,
      "max_height": null,
      "max_width": null,
      "min_height": null,
      "min_width": null,
      "object_fit": null,
      "object_position": null,
      "order": null,
      "overflow": null,
      "overflow_x": null,
      "overflow_y": null,
      "padding": null,
      "right": null,
      "top": null,
      "visibility": null,
      "width": null
     }
    },
    "2d798b526ebc44018b2bb106d4a18bb0": {
     "model_module": "@jupyter-widgets/controls",
     "model_module_version": "1.5.0",
     "model_name": "HTMLModel",
     "state": {
      "_dom_classes": [],
      "_model_module": "@jupyter-widgets/controls",
      "_model_module_version": "1.5.0",
      "_model_name": "HTMLModel",
      "_view_count": null,
      "_view_module": "@jupyter-widgets/controls",
      "_view_module_version": "1.5.0",
      "_view_name": "HTMLView",
      "description": "",
      "description_tooltip": null,
      "layout": "IPY_MODEL_8d2708ae8a494e4c86bc1b5da9581510",
      "placeholder": "​",
      "style": "IPY_MODEL_62f189952d5d4f568dc437ade74f18cb",
      "value": "Downloading result: 100%"
     }
    },
    "2eb8204d303b46b3951c391578eb29be": {
     "model_module": "@jupyter-widgets/controls",
     "model_module_version": "1.5.0",
     "model_name": "HTMLModel",
     "state": {
      "_dom_classes": [],
      "_model_module": "@jupyter-widgets/controls",
      "_model_module_version": "1.5.0",
      "_model_name": "HTMLModel",
      "_view_count": null,
      "_view_module": "@jupyter-widgets/controls",
      "_view_module_version": "1.5.0",
      "_view_name": "HTMLView",
      "description": "",
      "description_tooltip": null,
      "layout": "IPY_MODEL_f39c000c1f6c46f599bb593e4e30f383",
      "placeholder": "​",
      "style": "IPY_MODEL_80691d16399d4d80804b8495c0dc48e9",
      "value": " 17.2M/17.2M [00:00&lt;00:00, 21.5MB/s]"
     }
    },
    "33943f5a61144efeacf3f03c316d723e": {
     "model_module": "@jupyter-widgets/controls",
     "model_module_version": "1.5.0",
     "model_name": "DescriptionStyleModel",
     "state": {
      "_model_module": "@jupyter-widgets/controls",
      "_model_module_version": "1.5.0",
      "_model_name": "DescriptionStyleModel",
      "_view_count": null,
      "_view_module": "@jupyter-widgets/base",
      "_view_module_version": "1.2.0",
      "_view_name": "StyleView",
      "description_width": ""
     }
    },
    "34687310978748c48d1231617c602260": {
     "model_module": "@jupyter-widgets/controls",
     "model_module_version": "1.5.0",
     "model_name": "DescriptionStyleModel",
     "state": {
      "_model_module": "@jupyter-widgets/controls",
      "_model_module_version": "1.5.0",
      "_model_name": "DescriptionStyleModel",
      "_view_count": null,
      "_view_module": "@jupyter-widgets/base",
      "_view_module_version": "1.2.0",
      "_view_name": "StyleView",
      "description_width": ""
     }
    },
    "3648113e51934327866c569e3aabfed0": {
     "model_module": "@jupyter-widgets/base",
     "model_module_version": "1.2.0",
     "model_name": "LayoutModel",
     "state": {
      "_model_module": "@jupyter-widgets/base",
      "_model_module_version": "1.2.0",
      "_model_name": "LayoutModel",
      "_view_count": null,
      "_view_module": "@jupyter-widgets/base",
      "_view_module_version": "1.2.0",
      "_view_name": "LayoutView",
      "align_content": null,
      "align_items": null,
      "align_self": null,
      "border": null,
      "bottom": null,
      "display": null,
      "flex": null,
      "flex_flow": null,
      "grid_area": null,
      "grid_auto_columns": null,
      "grid_auto_flow": null,
      "grid_auto_rows": null,
      "grid_column": null,
      "grid_gap": null,
      "grid_row": null,
      "grid_template_areas": null,
      "grid_template_columns": null,
      "grid_template_rows": null,
      "height": null,
      "justify_content": null,
      "justify_items": null,
      "left": null,
      "margin": null,
      "max_height": null,
      "max_width": null,
      "min_height": null,
      "min_width": null,
      "object_fit": null,
      "object_position": null,
      "order": null,
      "overflow": null,
      "overflow_x": null,
      "overflow_y": null,
      "padding": null,
      "right": null,
      "top": null,
      "visibility": null,
      "width": null
     }
    },
    "39b374e9cfc749aa886493a325bbe697": {
     "model_module": "@jupyter-widgets/controls",
     "model_module_version": "1.5.0",
     "model_name": "HTMLModel",
     "state": {
      "_dom_classes": [],
      "_model_module": "@jupyter-widgets/controls",
      "_model_module_version": "1.5.0",
      "_model_name": "HTMLModel",
      "_view_count": null,
      "_view_module": "@jupyter-widgets/controls",
      "_view_module_version": "1.5.0",
      "_view_name": "HTMLView",
      "description": "",
      "description_tooltip": null,
      "layout": "IPY_MODEL_d7a534d7d94f4e8c8faff69e1b9e6cec",
      "placeholder": "​",
      "style": "IPY_MODEL_f3872b789fe445c0a5838e6f3ccc037f",
      "value": " 55.4k/55.4k [00:00&lt;00:00, 3.47MB/s]"
     }
    },
    "3a7494f5942e4a3d8ae4c15ce5264b54": {
     "model_module": "@jupyter-widgets/controls",
     "model_module_version": "1.5.0",
     "model_name": "HTMLModel",
     "state": {
      "_dom_classes": [],
      "_model_module": "@jupyter-widgets/controls",
      "_model_module_version": "1.5.0",
      "_model_name": "HTMLModel",
      "_view_count": null,
      "_view_module": "@jupyter-widgets/controls",
      "_view_module_version": "1.5.0",
      "_view_name": "HTMLView",
      "description": "",
      "description_tooltip": null,
      "layout": "IPY_MODEL_22af4643d6da4108beb7e319cd26a59e",
      "placeholder": "​",
      "style": "IPY_MODEL_b88ed5de45914bb7b3bf1f830de008b1",
      "value": " 32.8M/32.8M [00:00&lt;00:00, 38.9MB/s]"
     }
    },
    "3c19a23ece2f4f88b714797a2693e62b": {
     "model_module": "@jupyter-widgets/base",
     "model_module_version": "1.2.0",
     "model_name": "LayoutModel",
     "state": {
      "_model_module": "@jupyter-widgets/base",
      "_model_module_version": "1.2.0",
      "_model_name": "LayoutModel",
      "_view_count": null,
      "_view_module": "@jupyter-widgets/base",
      "_view_module_version": "1.2.0",
      "_view_name": "LayoutView",
      "align_content": null,
      "align_items": null,
      "align_self": null,
      "border": null,
      "bottom": null,
      "display": null,
      "flex": null,
      "flex_flow": null,
      "grid_area": null,
      "grid_auto_columns": null,
      "grid_auto_flow": null,
      "grid_auto_rows": null,
      "grid_column": null,
      "grid_gap": null,
      "grid_row": null,
      "grid_template_areas": null,
      "grid_template_columns": null,
      "grid_template_rows": null,
      "height": null,
      "justify_content": null,
      "justify_items": null,
      "left": null,
      "margin": null,
      "max_height": null,
      "max_width": null,
      "min_height": null,
      "min_width": null,
      "object_fit": null,
      "object_position": null,
      "order": null,
      "overflow": null,
      "overflow_x": null,
      "overflow_y": null,
      "padding": null,
      "right": null,
      "top": null,
      "visibility": null,
      "width": null
     }
    },
    "3c376212e60e4839b39a2889afec56e0": {
     "model_module": "@jupyter-widgets/controls",
     "model_module_version": "1.5.0",
     "model_name": "HBoxModel",
     "state": {
      "_dom_classes": [],
      "_model_module": "@jupyter-widgets/controls",
      "_model_module_version": "1.5.0",
      "_model_name": "HBoxModel",
      "_view_count": null,
      "_view_module": "@jupyter-widgets/controls",
      "_view_module_version": "1.5.0",
      "_view_name": "HBoxView",
      "box_style": "",
      "children": [
       "IPY_MODEL_f78c06fc97ce4829b00ac325a87b97cd",
       "IPY_MODEL_157830599aa24de0b831cf0d25a9f8e0",
       "IPY_MODEL_6eac2b70a80c49f3bb8cae9284e2e55e"
      ],
      "layout": "IPY_MODEL_9b803ec4c761480c96e8fb5e9a30ec20"
     }
    },
    "3d7330f9824a4b5e8f559dfcee0c577d": {
     "model_module": "@jupyter-widgets/controls",
     "model_module_version": "1.5.0",
     "model_name": "HBoxModel",
     "state": {
      "_dom_classes": [],
      "_model_module": "@jupyter-widgets/controls",
      "_model_module_version": "1.5.0",
      "_model_name": "HBoxModel",
      "_view_count": null,
      "_view_module": "@jupyter-widgets/controls",
      "_view_module_version": "1.5.0",
      "_view_name": "HBoxView",
      "box_style": "",
      "children": [
       "IPY_MODEL_6455f246648e466ca24695fb78b65238",
       "IPY_MODEL_1b81ec2ad90144c68f3de5e0af9b8afa",
       "IPY_MODEL_2eb8204d303b46b3951c391578eb29be"
      ],
      "layout": "IPY_MODEL_ea6f42bd12c54222b4846a9ba0c858f3"
     }
    },
    "3d9aa264c5d44005814f58fc447fdcaa": {
     "model_module": "@jupyter-widgets/controls",
     "model_module_version": "1.5.0",
     "model_name": "HTMLModel",
     "state": {
      "_dom_classes": [],
      "_model_module": "@jupyter-widgets/controls",
      "_model_module_version": "1.5.0",
      "_model_name": "HTMLModel",
      "_view_count": null,
      "_view_module": "@jupyter-widgets/controls",
      "_view_module_version": "1.5.0",
      "_view_name": "HTMLView",
      "description": "",
      "description_tooltip": null,
      "layout": "IPY_MODEL_e6c60d343b324c25adb8ab3e320c2b5a",
      "placeholder": "​",
      "style": "IPY_MODEL_7d84f340ef104127bc0d0f04c1e4cfcc",
      "value": "Downloading result: 100%"
     }
    },
    "3e3af88cdb344bf99f8e6427dc6cc12d": {
     "model_module": "@jupyter-widgets/controls",
     "model_module_version": "1.5.0",
     "model_name": "DescriptionStyleModel",
     "state": {
      "_model_module": "@jupyter-widgets/controls",
      "_model_module_version": "1.5.0",
      "_model_name": "DescriptionStyleModel",
      "_view_count": null,
      "_view_module": "@jupyter-widgets/base",
      "_view_module_version": "1.2.0",
      "_view_name": "StyleView",
      "description_width": ""
     }
    },
    "3e782f241b7541159e6c45fa8eb440c9": {
     "model_module": "@jupyter-widgets/controls",
     "model_module_version": "1.5.0",
     "model_name": "ProgressStyleModel",
     "state": {
      "_model_module": "@jupyter-widgets/controls",
      "_model_module_version": "1.5.0",
      "_model_name": "ProgressStyleModel",
      "_view_count": null,
      "_view_module": "@jupyter-widgets/base",
      "_view_module_version": "1.2.0",
      "_view_name": "StyleView",
      "bar_color": null,
      "description_width": ""
     }
    },
    "3fb51252aeb84c24a666cacec6176995": {
     "model_module": "@jupyter-widgets/controls",
     "model_module_version": "1.5.0",
     "model_name": "ProgressStyleModel",
     "state": {
      "_model_module": "@jupyter-widgets/controls",
      "_model_module_version": "1.5.0",
      "_model_name": "ProgressStyleModel",
      "_view_count": null,
      "_view_module": "@jupyter-widgets/base",
      "_view_module_version": "1.2.0",
      "_view_name": "StyleView",
      "bar_color": null,
      "description_width": ""
     }
    },
    "4067ac5b7ae94e0f944d0b409608fa57": {
     "model_module": "@jupyter-widgets/base",
     "model_module_version": "1.2.0",
     "model_name": "LayoutModel",
     "state": {
      "_model_module": "@jupyter-widgets/base",
      "_model_module_version": "1.2.0",
      "_model_name": "LayoutModel",
      "_view_count": null,
      "_view_module": "@jupyter-widgets/base",
      "_view_module_version": "1.2.0",
      "_view_name": "LayoutView",
      "align_content": null,
      "align_items": null,
      "align_self": null,
      "border": null,
      "bottom": null,
      "display": null,
      "flex": null,
      "flex_flow": null,
      "grid_area": null,
      "grid_auto_columns": null,
      "grid_auto_flow": null,
      "grid_auto_rows": null,
      "grid_column": null,
      "grid_gap": null,
      "grid_row": null,
      "grid_template_areas": null,
      "grid_template_columns": null,
      "grid_template_rows": null,
      "height": null,
      "justify_content": null,
      "justify_items": null,
      "left": null,
      "margin": null,
      "max_height": null,
      "max_width": null,
      "min_height": null,
      "min_width": null,
      "object_fit": null,
      "object_position": null,
      "order": null,
      "overflow": null,
      "overflow_x": null,
      "overflow_y": null,
      "padding": null,
      "right": null,
      "top": null,
      "visibility": null,
      "width": null
     }
    },
    "41afae70f6d442fb881cef3ea660cc14": {
     "model_module": "@jupyter-widgets/controls",
     "model_module_version": "1.5.0",
     "model_name": "DescriptionStyleModel",
     "state": {
      "_model_module": "@jupyter-widgets/controls",
      "_model_module_version": "1.5.0",
      "_model_name": "DescriptionStyleModel",
      "_view_count": null,
      "_view_module": "@jupyter-widgets/base",
      "_view_module_version": "1.2.0",
      "_view_name": "StyleView",
      "description_width": ""
     }
    },
    "43d1dbc8961b447c9f4860c9c0dee4a7": {
     "model_module": "@jupyter-widgets/controls",
     "model_module_version": "1.5.0",
     "model_name": "ProgressStyleModel",
     "state": {
      "_model_module": "@jupyter-widgets/controls",
      "_model_module_version": "1.5.0",
      "_model_name": "ProgressStyleModel",
      "_view_count": null,
      "_view_module": "@jupyter-widgets/base",
      "_view_module_version": "1.2.0",
      "_view_name": "StyleView",
      "bar_color": null,
      "description_width": ""
     }
    },
    "47abea8a0ea746c9a76a7f2628e550f8": {
     "model_module": "@jupyter-widgets/base",
     "model_module_version": "1.2.0",
     "model_name": "LayoutModel",
     "state": {
      "_model_module": "@jupyter-widgets/base",
      "_model_module_version": "1.2.0",
      "_model_name": "LayoutModel",
      "_view_count": null,
      "_view_module": "@jupyter-widgets/base",
      "_view_module_version": "1.2.0",
      "_view_name": "LayoutView",
      "align_content": null,
      "align_items": null,
      "align_self": null,
      "border": null,
      "bottom": null,
      "display": null,
      "flex": null,
      "flex_flow": null,
      "grid_area": null,
      "grid_auto_columns": null,
      "grid_auto_flow": null,
      "grid_auto_rows": null,
      "grid_column": null,
      "grid_gap": null,
      "grid_row": null,
      "grid_template_areas": null,
      "grid_template_columns": null,
      "grid_template_rows": null,
      "height": null,
      "justify_content": null,
      "justify_items": null,
      "left": null,
      "margin": null,
      "max_height": null,
      "max_width": null,
      "min_height": null,
      "min_width": null,
      "object_fit": null,
      "object_position": null,
      "order": null,
      "overflow": null,
      "overflow_x": null,
      "overflow_y": null,
      "padding": null,
      "right": null,
      "top": null,
      "visibility": null,
      "width": null
     }
    },
    "48da51c0b7854f5b9c46625c1a2a22d6": {
     "model_module": "@jupyter-widgets/controls",
     "model_module_version": "1.5.0",
     "model_name": "HTMLModel",
     "state": {
      "_dom_classes": [],
      "_model_module": "@jupyter-widgets/controls",
      "_model_module_version": "1.5.0",
      "_model_name": "HTMLModel",
      "_view_count": null,
      "_view_module": "@jupyter-widgets/controls",
      "_view_module_version": "1.5.0",
      "_view_name": "HTMLView",
      "description": "",
      "description_tooltip": null,
      "layout": "IPY_MODEL_54f20a2e8da24b46b21a2f8cd1601795",
      "placeholder": "​",
      "style": "IPY_MODEL_b073d21802ad4d6695f465e65affb423",
      "value": " 2.28k/2.28k [00:00&lt;00:00, 19.1kB/s]"
     }
    },
    "4a902dfc7b3e416e89c7d6e8fce14d86": {
     "model_module": "@jupyter-widgets/base",
     "model_module_version": "1.2.0",
     "model_name": "LayoutModel",
     "state": {
      "_model_module": "@jupyter-widgets/base",
      "_model_module_version": "1.2.0",
      "_model_name": "LayoutModel",
      "_view_count": null,
      "_view_module": "@jupyter-widgets/base",
      "_view_module_version": "1.2.0",
      "_view_name": "LayoutView",
      "align_content": null,
      "align_items": null,
      "align_self": null,
      "border": null,
      "bottom": null,
      "display": null,
      "flex": null,
      "flex_flow": null,
      "grid_area": null,
      "grid_auto_columns": null,
      "grid_auto_flow": null,
      "grid_auto_rows": null,
      "grid_column": null,
      "grid_gap": null,
      "grid_row": null,
      "grid_template_areas": null,
      "grid_template_columns": null,
      "grid_template_rows": null,
      "height": null,
      "justify_content": null,
      "justify_items": null,
      "left": null,
      "margin": null,
      "max_height": null,
      "max_width": null,
      "min_height": null,
      "min_width": null,
      "object_fit": null,
      "object_position": null,
      "order": null,
      "overflow": null,
      "overflow_x": null,
      "overflow_y": null,
      "padding": null,
      "right": null,
      "top": null,
      "visibility": null,
      "width": null
     }
    },
    "4b942b8781ab4ecea430b7c190cb206a": {
     "model_module": "@jupyter-widgets/controls",
     "model_module_version": "1.5.0",
     "model_name": "DescriptionStyleModel",
     "state": {
      "_model_module": "@jupyter-widgets/controls",
      "_model_module_version": "1.5.0",
      "_model_name": "DescriptionStyleModel",
      "_view_count": null,
      "_view_module": "@jupyter-widgets/base",
      "_view_module_version": "1.2.0",
      "_view_name": "StyleView",
      "description_width": ""
     }
    },
    "4cc679b2d7cd44bb86703a3f855bad6e": {
     "model_module": "@jupyter-widgets/controls",
     "model_module_version": "1.5.0",
     "model_name": "HTMLModel",
     "state": {
      "_dom_classes": [],
      "_model_module": "@jupyter-widgets/controls",
      "_model_module_version": "1.5.0",
      "_model_name": "HTMLModel",
      "_view_count": null,
      "_view_module": "@jupyter-widgets/controls",
      "_view_module_version": "1.5.0",
      "_view_name": "HTMLView",
      "description": "",
      "description_tooltip": null,
      "layout": "IPY_MODEL_abdbafc8c9f9475faa078e7ea8e55fa0",
      "placeholder": "​",
      "style": "IPY_MODEL_73959dea85ce4622ae3a47f7ff78b259",
      "value": "config.json: 100%"
     }
    },
    "4d17df9cfa1046b8826ad59c56e66cc6": {
     "model_module": "@jupyter-widgets/controls",
     "model_module_version": "1.5.0",
     "model_name": "DescriptionStyleModel",
     "state": {
      "_model_module": "@jupyter-widgets/controls",
      "_model_module_version": "1.5.0",
      "_model_name": "DescriptionStyleModel",
      "_view_count": null,
      "_view_module": "@jupyter-widgets/base",
      "_view_module_version": "1.2.0",
      "_view_name": "StyleView",
      "description_width": ""
     }
    },
    "4e10e976fc9d4cd49129461944c93a5d": {
     "model_module": "@jupyter-widgets/controls",
     "model_module_version": "1.5.0",
     "model_name": "VBoxModel",
     "state": {
      "_dom_classes": [],
      "_model_module": "@jupyter-widgets/controls",
      "_model_module_version": "1.5.0",
      "_model_name": "VBoxModel",
      "_view_count": null,
      "_view_module": "@jupyter-widgets/controls",
      "_view_module_version": "1.5.0",
      "_view_name": "VBoxView",
      "box_style": "",
      "children": [],
      "layout": "IPY_MODEL_93cb68688afc4fe1a619966e27834cce"
     }
    },
    "50c990ef40cb47e68f62d6424ec33a0f": {
     "model_module": "@jupyter-widgets/base",
     "model_module_version": "1.2.0",
     "model_name": "LayoutModel",
     "state": {
      "_model_module": "@jupyter-widgets/base",
      "_model_module_version": "1.2.0",
      "_model_name": "LayoutModel",
      "_view_count": null,
      "_view_module": "@jupyter-widgets/base",
      "_view_module_version": "1.2.0",
      "_view_name": "LayoutView",
      "align_content": null,
      "align_items": null,
      "align_self": null,
      "border": null,
      "bottom": null,
      "display": null,
      "flex": null,
      "flex_flow": null,
      "grid_area": null,
      "grid_auto_columns": null,
      "grid_auto_flow": null,
      "grid_auto_rows": null,
      "grid_column": null,
      "grid_gap": null,
      "grid_row": null,
      "grid_template_areas": null,
      "grid_template_columns": null,
      "grid_template_rows": null,
      "height": null,
      "justify_content": null,
      "justify_items": null,
      "left": null,
      "margin": null,
      "max_height": null,
      "max_width": null,
      "min_height": null,
      "min_width": null,
      "object_fit": null,
      "object_position": null,
      "order": null,
      "overflow": null,
      "overflow_x": null,
      "overflow_y": null,
      "padding": null,
      "right": null,
      "top": null,
      "visibility": null,
      "width": null
     }
    },
    "527ef320d9d44ea081c5e98e3c4a87e7": {
     "model_module": "@jupyter-widgets/base",
     "model_module_version": "1.2.0",
     "model_name": "LayoutModel",
     "state": {
      "_model_module": "@jupyter-widgets/base",
      "_model_module_version": "1.2.0",
      "_model_name": "LayoutModel",
      "_view_count": null,
      "_view_module": "@jupyter-widgets/base",
      "_view_module_version": "1.2.0",
      "_view_name": "LayoutView",
      "align_content": null,
      "align_items": null,
      "align_self": null,
      "border": null,
      "bottom": null,
      "display": null,
      "flex": null,
      "flex_flow": null,
      "grid_area": null,
      "grid_auto_columns": null,
      "grid_auto_flow": null,
      "grid_auto_rows": null,
      "grid_column": null,
      "grid_gap": null,
      "grid_row": null,
      "grid_template_areas": null,
      "grid_template_columns": null,
      "grid_template_rows": null,
      "height": null,
      "justify_content": null,
      "justify_items": null,
      "left": null,
      "margin": null,
      "max_height": null,
      "max_width": null,
      "min_height": null,
      "min_width": null,
      "object_fit": null,
      "object_position": null,
      "order": null,
      "overflow": null,
      "overflow_x": null,
      "overflow_y": null,
      "padding": null,
      "right": null,
      "top": null,
      "visibility": null,
      "width": null
     }
    },
    "54eba9bfa12a4510be2120b0309c7ba2": {
     "model_module": "@jupyter-widgets/base",
     "model_module_version": "1.2.0",
     "model_name": "LayoutModel",
     "state": {
      "_model_module": "@jupyter-widgets/base",
      "_model_module_version": "1.2.0",
      "_model_name": "LayoutModel",
      "_view_count": null,
      "_view_module": "@jupyter-widgets/base",
      "_view_module_version": "1.2.0",
      "_view_name": "LayoutView",
      "align_content": null,
      "align_items": null,
      "align_self": null,
      "border": null,
      "bottom": null,
      "display": null,
      "flex": null,
      "flex_flow": null,
      "grid_area": null,
      "grid_auto_columns": null,
      "grid_auto_flow": null,
      "grid_auto_rows": null,
      "grid_column": null,
      "grid_gap": null,
      "grid_row": null,
      "grid_template_areas": null,
      "grid_template_columns": null,
      "grid_template_rows": null,
      "height": null,
      "justify_content": null,
      "justify_items": null,
      "left": null,
      "margin": null,
      "max_height": null,
      "max_width": null,
      "min_height": null,
      "min_width": null,
      "object_fit": null,
      "object_position": null,
      "order": null,
      "overflow": null,
      "overflow_x": null,
      "overflow_y": null,
      "padding": null,
      "right": null,
      "top": null,
      "visibility": null,
      "width": null
     }
    },
    "54f20a2e8da24b46b21a2f8cd1601795": {
     "model_module": "@jupyter-widgets/base",
     "model_module_version": "1.2.0",
     "model_name": "LayoutModel",
     "state": {
      "_model_module": "@jupyter-widgets/base",
      "_model_module_version": "1.2.0",
      "_model_name": "LayoutModel",
      "_view_count": null,
      "_view_module": "@jupyter-widgets/base",
      "_view_module_version": "1.2.0",
      "_view_name": "LayoutView",
      "align_content": null,
      "align_items": null,
      "align_self": null,
      "border": null,
      "bottom": null,
      "display": null,
      "flex": null,
      "flex_flow": null,
      "grid_area": null,
      "grid_auto_columns": null,
      "grid_auto_flow": null,
      "grid_auto_rows": null,
      "grid_column": null,
      "grid_gap": null,
      "grid_row": null,
      "grid_template_areas": null,
      "grid_template_columns": null,
      "grid_template_rows": null,
      "height": null,
      "justify_content": null,
      "justify_items": null,
      "left": null,
      "margin": null,
      "max_height": null,
      "max_width": null,
      "min_height": null,
      "min_width": null,
      "object_fit": null,
      "object_position": null,
      "order": null,
      "overflow": null,
      "overflow_x": null,
      "overflow_y": null,
      "padding": null,
      "right": null,
      "top": null,
      "visibility": null,
      "width": null
     }
    },
    "57dacd3d3c3d40e29bd8a564cdec9914": {
     "model_module": "@jupyter-widgets/base",
     "model_module_version": "1.2.0",
     "model_name": "LayoutModel",
     "state": {
      "_model_module": "@jupyter-widgets/base",
      "_model_module_version": "1.2.0",
      "_model_name": "LayoutModel",
      "_view_count": null,
      "_view_module": "@jupyter-widgets/base",
      "_view_module_version": "1.2.0",
      "_view_name": "LayoutView",
      "align_content": null,
      "align_items": null,
      "align_self": null,
      "border": null,
      "bottom": null,
      "display": null,
      "flex": null,
      "flex_flow": null,
      "grid_area": null,
      "grid_auto_columns": null,
      "grid_auto_flow": null,
      "grid_auto_rows": null,
      "grid_column": null,
      "grid_gap": null,
      "grid_row": null,
      "grid_template_areas": null,
      "grid_template_columns": null,
      "grid_template_rows": null,
      "height": null,
      "justify_content": null,
      "justify_items": null,
      "left": null,
      "margin": null,
      "max_height": null,
      "max_width": null,
      "min_height": null,
      "min_width": null,
      "object_fit": null,
      "object_position": null,
      "order": null,
      "overflow": null,
      "overflow_x": null,
      "overflow_y": null,
      "padding": null,
      "right": null,
      "top": null,
      "visibility": null,
      "width": null
     }
    },
    "599124a41d57496db83cbd9201e7ef03": {
     "model_module": "@jupyter-widgets/controls",
     "model_module_version": "1.5.0",
     "model_name": "DescriptionStyleModel",
     "state": {
      "_model_module": "@jupyter-widgets/controls",
      "_model_module_version": "1.5.0",
      "_model_name": "DescriptionStyleModel",
      "_view_count": null,
      "_view_module": "@jupyter-widgets/base",
      "_view_module_version": "1.2.0",
      "_view_name": "StyleView",
      "description_width": ""
     }
    },
    "5b1dd4e172b14db4bc18f4a3db28b265": {
     "model_module": "@jupyter-widgets/base",
     "model_module_version": "1.2.0",
     "model_name": "LayoutModel",
     "state": {
      "_model_module": "@jupyter-widgets/base",
      "_model_module_version": "1.2.0",
      "_model_name": "LayoutModel",
      "_view_count": null,
      "_view_module": "@jupyter-widgets/base",
      "_view_module_version": "1.2.0",
      "_view_name": "LayoutView",
      "align_content": null,
      "align_items": null,
      "align_self": null,
      "border": null,
      "bottom": null,
      "display": null,
      "flex": null,
      "flex_flow": null,
      "grid_area": null,
      "grid_auto_columns": null,
      "grid_auto_flow": null,
      "grid_auto_rows": null,
      "grid_column": null,
      "grid_gap": null,
      "grid_row": null,
      "grid_template_areas": null,
      "grid_template_columns": null,
      "grid_template_rows": null,
      "height": null,
      "justify_content": null,
      "justify_items": null,
      "left": null,
      "margin": null,
      "max_height": null,
      "max_width": null,
      "min_height": null,
      "min_width": null,
      "object_fit": null,
      "object_position": null,
      "order": null,
      "overflow": null,
      "overflow_x": null,
      "overflow_y": null,
      "padding": null,
      "right": null,
      "top": null,
      "visibility": null,
      "width": null
     }
    },
    "5b24145d9e774fa8b61abde6c22549a1": {
     "model_module": "@jupyter-widgets/controls",
     "model_module_version": "1.5.0",
     "model_name": "HBoxModel",
     "state": {
      "_dom_classes": [],
      "_model_module": "@jupyter-widgets/controls",
      "_model_module_version": "1.5.0",
      "_model_name": "HBoxModel",
      "_view_count": null,
      "_view_module": "@jupyter-widgets/controls",
      "_view_module_version": "1.5.0",
      "_view_name": "HBoxView",
      "box_style": "",
      "children": [
       "IPY_MODEL_2d798b526ebc44018b2bb106d4a18bb0",
       "IPY_MODEL_03b0121823014ed7a69b54290c5f4fa2",
       "IPY_MODEL_a0566f32b6c942d0b178da3cd27b8bb6"
      ],
      "layout": "IPY_MODEL_6f9502f7d5c14eb28bc14a5e86caa399"
     }
    },
    "61046c1e51e64e7c9b1495343da0dd88": {
     "model_module": "@jupyter-widgets/controls",
     "model_module_version": "1.5.0",
     "model_name": "HBoxModel",
     "state": {
      "_dom_classes": [],
      "_model_module": "@jupyter-widgets/controls",
      "_model_module_version": "1.5.0",
      "_model_name": "HBoxModel",
      "_view_count": null,
      "_view_module": "@jupyter-widgets/controls",
      "_view_module_version": "1.5.0",
      "_view_name": "HBoxView",
      "box_style": "",
      "children": [
       "IPY_MODEL_4cc679b2d7cd44bb86703a3f855bad6e",
       "IPY_MODEL_cb63597d8cdb4ab2a6c6c69d6554be40",
       "IPY_MODEL_ce29b46906894b54b6be324fb47c8add"
      ],
      "layout": "IPY_MODEL_4a902dfc7b3e416e89c7d6e8fce14d86"
     }
    },
    "61470d9682ad4e0aa443e6e222602860": {
     "model_module": "@jupyter-widgets/controls",
     "model_module_version": "1.5.0",
     "model_name": "ProgressStyleModel",
     "state": {
      "_model_module": "@jupyter-widgets/controls",
      "_model_module_version": "1.5.0",
      "_model_name": "ProgressStyleModel",
      "_view_count": null,
      "_view_module": "@jupyter-widgets/base",
      "_view_module_version": "1.2.0",
      "_view_name": "StyleView",
      "bar_color": null,
      "description_width": ""
     }
    },
    "62f189952d5d4f568dc437ade74f18cb": {
     "model_module": "@jupyter-widgets/controls",
     "model_module_version": "1.5.0",
     "model_name": "DescriptionStyleModel",
     "state": {
      "_model_module": "@jupyter-widgets/controls",
      "_model_module_version": "1.5.0",
      "_model_name": "DescriptionStyleModel",
      "_view_count": null,
      "_view_module": "@jupyter-widgets/base",
      "_view_module_version": "1.2.0",
      "_view_name": "StyleView",
      "description_width": ""
     }
    },
    "641d2d304ef04a28afcced6f10439d7d": {
     "model_module": "@jupyter-widgets/base",
     "model_module_version": "1.2.0",
     "model_name": "LayoutModel",
     "state": {
      "_model_module": "@jupyter-widgets/base",
      "_model_module_version": "1.2.0",
      "_model_name": "LayoutModel",
      "_view_count": null,
      "_view_module": "@jupyter-widgets/base",
      "_view_module_version": "1.2.0",
      "_view_name": "LayoutView",
      "align_content": null,
      "align_items": null,
      "align_self": null,
      "border": null,
      "bottom": null,
      "display": null,
      "flex": null,
      "flex_flow": null,
      "grid_area": null,
      "grid_auto_columns": null,
      "grid_auto_flow": null,
      "grid_auto_rows": null,
      "grid_column": null,
      "grid_gap": null,
      "grid_row": null,
      "grid_template_areas": null,
      "grid_template_columns": null,
      "grid_template_rows": null,
      "height": null,
      "justify_content": null,
      "justify_items": null,
      "left": null,
      "margin": null,
      "max_height": null,
      "max_width": null,
      "min_height": null,
      "min_width": null,
      "object_fit": null,
      "object_position": null,
      "order": null,
      "overflow": null,
      "overflow_x": null,
      "overflow_y": null,
      "padding": null,
      "right": null,
      "top": null,
      "visibility": null,
      "width": null
     }
    },
    "6455f246648e466ca24695fb78b65238": {
     "model_module": "@jupyter-widgets/controls",
     "model_module_version": "1.5.0",
     "model_name": "HTMLModel",
     "state": {
      "_dom_classes": [],
      "_model_module": "@jupyter-widgets/controls",
      "_model_module_version": "1.5.0",
      "_model_name": "HTMLModel",
      "_view_count": null,
      "_view_module": "@jupyter-widgets/controls",
      "_view_module_version": "1.5.0",
      "_view_name": "HTMLView",
      "description": "",
      "description_tooltip": null,
      "layout": "IPY_MODEL_7653efb0b221469bab7400b478ad2707",
      "placeholder": "​",
      "style": "IPY_MODEL_4b942b8781ab4ecea430b7c190cb206a",
      "value": "tokenizer.json: 100%"
     }
    },
    "64fd03588da54637b90bd44659256b4f": {
     "model_module": "@jupyter-widgets/controls",
     "model_module_version": "1.5.0",
     "model_name": "HBoxModel",
     "state": {
      "_dom_classes": [],
      "_model_module": "@jupyter-widgets/controls",
      "_model_module_version": "1.5.0",
      "_model_name": "HBoxModel",
      "_view_count": null,
      "_view_module": "@jupyter-widgets/controls",
      "_view_module_version": "1.5.0",
      "_view_name": "HBoxView",
      "box_style": "",
      "children": [
       "IPY_MODEL_d823c90bcec3467989e95c960d698c0e",
       "IPY_MODEL_92d398de3226443e8842d4da4b89fe65",
       "IPY_MODEL_9df4a782f62f422a83ac9f8f3813d6cd"
      ],
      "layout": "IPY_MODEL_cfba938f92584730b983ea3b27a58636"
     }
    },
    "68a00a969b41404db01db5f0c9100668": {
     "model_module": "@jupyter-widgets/controls",
     "model_module_version": "1.5.0",
     "model_name": "DescriptionStyleModel",
     "state": {
      "_model_module": "@jupyter-widgets/controls",
      "_model_module_version": "1.5.0",
      "_model_name": "DescriptionStyleModel",
      "_view_count": null,
      "_view_module": "@jupyter-widgets/base",
      "_view_module_version": "1.2.0",
      "_view_name": "StyleView",
      "description_width": ""
     }
    },
    "6eac2b70a80c49f3bb8cae9284e2e55e": {
     "model_module": "@jupyter-widgets/controls",
     "model_module_version": "1.5.0",
     "model_name": "HTMLModel",
     "state": {
      "_dom_classes": [],
      "_model_module": "@jupyter-widgets/controls",
      "_model_module_version": "1.5.0",
      "_model_name": "HTMLModel",
      "_view_count": null,
      "_view_module": "@jupyter-widgets/controls",
      "_view_module_version": "1.5.0",
      "_view_name": "HTMLView",
      "description": "",
      "description_tooltip": null,
      "layout": "IPY_MODEL_9a3a0abac95c473388c44d763142d8ca",
      "placeholder": "​",
      "style": "IPY_MODEL_bb9a8afeaf4e4640ac2496ec0843e079",
      "value": " 68.0/68.0 [00:00&lt;00:00, 2.22kB/s]"
     }
    },
    "6f9502f7d5c14eb28bc14a5e86caa399": {
     "model_module": "@jupyter-widgets/base",
     "model_module_version": "1.2.0",
     "model_name": "LayoutModel",
     "state": {
      "_model_module": "@jupyter-widgets/base",
      "_model_module_version": "1.2.0",
      "_model_name": "LayoutModel",
      "_view_count": null,
      "_view_module": "@jupyter-widgets/base",
      "_view_module_version": "1.2.0",
      "_view_name": "LayoutView",
      "align_content": null,
      "align_items": null,
      "align_self": null,
      "border": null,
      "bottom": null,
      "display": null,
      "flex": null,
      "flex_flow": null,
      "grid_area": null,
      "grid_auto_columns": null,
      "grid_auto_flow": null,
      "grid_auto_rows": null,
      "grid_column": null,
      "grid_gap": null,
      "grid_row": null,
      "grid_template_areas": null,
      "grid_template_columns": null,
      "grid_template_rows": null,
      "height": null,
      "justify_content": null,
      "justify_items": null,
      "left": null,
      "margin": null,
      "max_height": null,
      "max_width": null,
      "min_height": null,
      "min_width": null,
      "object_fit": null,
      "object_position": null,
      "order": null,
      "overflow": null,
      "overflow_x": null,
      "overflow_y": null,
      "padding": null,
      "right": null,
      "top": null,
      "visibility": null,
      "width": null
     }
    },
    "732b8cadf7fb4659b448b68c92524a3f": {
     "model_module": "@jupyter-widgets/base",
     "model_module_version": "1.2.0",
     "model_name": "LayoutModel",
     "state": {
      "_model_module": "@jupyter-widgets/base",
      "_model_module_version": "1.2.0",
      "_model_name": "LayoutModel",
      "_view_count": null,
      "_view_module": "@jupyter-widgets/base",
      "_view_module_version": "1.2.0",
      "_view_name": "LayoutView",
      "align_content": null,
      "align_items": null,
      "align_self": null,
      "border": null,
      "bottom": null,
      "display": null,
      "flex": null,
      "flex_flow": null,
      "grid_area": null,
      "grid_auto_columns": null,
      "grid_auto_flow": null,
      "grid_auto_rows": null,
      "grid_column": null,
      "grid_gap": null,
      "grid_row": null,
      "grid_template_areas": null,
      "grid_template_columns": null,
      "grid_template_rows": null,
      "height": null,
      "justify_content": null,
      "justify_items": null,
      "left": null,
      "margin": null,
      "max_height": null,
      "max_width": null,
      "min_height": null,
      "min_width": null,
      "object_fit": null,
      "object_position": null,
      "order": null,
      "overflow": null,
      "overflow_x": null,
      "overflow_y": null,
      "padding": null,
      "right": null,
      "top": null,
      "visibility": null,
      "width": null
     }
    },
    "73959dea85ce4622ae3a47f7ff78b259": {
     "model_module": "@jupyter-widgets/controls",
     "model_module_version": "1.5.0",
     "model_name": "DescriptionStyleModel",
     "state": {
      "_model_module": "@jupyter-widgets/controls",
      "_model_module_version": "1.5.0",
      "_model_name": "DescriptionStyleModel",
      "_view_count": null,
      "_view_module": "@jupyter-widgets/base",
      "_view_module_version": "1.2.0",
      "_view_name": "StyleView",
      "description_width": ""
     }
    },
    "7572a14ad4df4515bb3014db3a15df73": {
     "model_module": "@jupyter-widgets/base",
     "model_module_version": "1.2.0",
     "model_name": "LayoutModel",
     "state": {
      "_model_module": "@jupyter-widgets/base",
      "_model_module_version": "1.2.0",
      "_model_name": "LayoutModel",
      "_view_count": null,
      "_view_module": "@jupyter-widgets/base",
      "_view_module_version": "1.2.0",
      "_view_name": "LayoutView",
      "align_content": null,
      "align_items": null,
      "align_self": null,
      "border": null,
      "bottom": null,
      "display": null,
      "flex": null,
      "flex_flow": null,
      "grid_area": null,
      "grid_auto_columns": null,
      "grid_auto_flow": null,
      "grid_auto_rows": null,
      "grid_column": null,
      "grid_gap": null,
      "grid_row": null,
      "grid_template_areas": null,
      "grid_template_columns": null,
      "grid_template_rows": null,
      "height": null,
      "justify_content": null,
      "justify_items": null,
      "left": null,
      "margin": null,
      "max_height": null,
      "max_width": null,
      "min_height": null,
      "min_width": null,
      "object_fit": null,
      "object_position": null,
      "order": null,
      "overflow": null,
      "overflow_x": null,
      "overflow_y": null,
      "padding": null,
      "right": null,
      "top": null,
      "visibility": null,
      "width": null
     }
    },
    "7653efb0b221469bab7400b478ad2707": {
     "model_module": "@jupyter-widgets/base",
     "model_module_version": "1.2.0",
     "model_name": "LayoutModel",
     "state": {
      "_model_module": "@jupyter-widgets/base",
      "_model_module_version": "1.2.0",
      "_model_name": "LayoutModel",
      "_view_count": null,
      "_view_module": "@jupyter-widgets/base",
      "_view_module_version": "1.2.0",
      "_view_name": "LayoutView",
      "align_content": null,
      "align_items": null,
      "align_self": null,
      "border": null,
      "bottom": null,
      "display": null,
      "flex": null,
      "flex_flow": null,
      "grid_area": null,
      "grid_auto_columns": null,
      "grid_auto_flow": null,
      "grid_auto_rows": null,
      "grid_column": null,
      "grid_gap": null,
      "grid_row": null,
      "grid_template_areas": null,
      "grid_template_columns": null,
      "grid_template_rows": null,
      "height": null,
      "justify_content": null,
      "justify_items": null,
      "left": null,
      "margin": null,
      "max_height": null,
      "max_width": null,
      "min_height": null,
      "min_width": null,
      "object_fit": null,
      "object_position": null,
      "order": null,
      "overflow": null,
      "overflow_x": null,
      "overflow_y": null,
      "padding": null,
      "right": null,
      "top": null,
      "visibility": null,
      "width": null
     }
    },
    "7a6a05258d124fd690907fb8f9a590ad": {
     "model_module": "@jupyter-widgets/controls",
     "model_module_version": "1.5.0",
     "model_name": "ProgressStyleModel",
     "state": {
      "_model_module": "@jupyter-widgets/controls",
      "_model_module_version": "1.5.0",
      "_model_name": "ProgressStyleModel",
      "_view_count": null,
      "_view_module": "@jupyter-widgets/base",
      "_view_module_version": "1.2.0",
      "_view_name": "StyleView",
      "bar_color": null,
      "description_width": ""
     }
    },
    "7ce3f9b0868d4ebd823ec2df51ebd78e": {
     "model_module": "@jupyter-widgets/controls",
     "model_module_version": "1.5.0",
     "model_name": "HTMLModel",
     "state": {
      "_dom_classes": [],
      "_model_module": "@jupyter-widgets/controls",
      "_model_module_version": "1.5.0",
      "_model_name": "HTMLModel",
      "_view_count": null,
      "_view_module": "@jupyter-widgets/controls",
      "_view_module_version": "1.5.0",
      "_view_name": "HTMLView",
      "description": "",
      "description_tooltip": null,
      "layout": "IPY_MODEL_b6db703563c34c238685c24faf35a944",
      "placeholder": "​",
      "style": "IPY_MODEL_f8b3c9996d6b497fab04e7b410d44c1b",
      "value": "<center> <img\nsrc=https://huggingface.co/front/assets/huggingface_logo-noborder.svg\nalt='Hugging Face'> <br> Copy a token from <a\nhref=\"https://huggingface.co/settings/tokens\" target=\"_blank\">your Hugging Face\ntokens page</a> and paste it below. <br> Immediately click login after copying\nyour token or it might be stored in plain text in this notebook file. </center>"
     }
    },
    "7d84f340ef104127bc0d0f04c1e4cfcc": {
     "model_module": "@jupyter-widgets/controls",
     "model_module_version": "1.5.0",
     "model_name": "DescriptionStyleModel",
     "state": {
      "_model_module": "@jupyter-widgets/controls",
      "_model_module_version": "1.5.0",
      "_model_name": "DescriptionStyleModel",
      "_view_count": null,
      "_view_module": "@jupyter-widgets/base",
      "_view_module_version": "1.2.0",
      "_view_name": "StyleView",
      "description_width": ""
     }
    },
    "80691d16399d4d80804b8495c0dc48e9": {
     "model_module": "@jupyter-widgets/controls",
     "model_module_version": "1.5.0",
     "model_name": "DescriptionStyleModel",
     "state": {
      "_model_module": "@jupyter-widgets/controls",
      "_model_module_version": "1.5.0",
      "_model_name": "DescriptionStyleModel",
      "_view_count": null,
      "_view_module": "@jupyter-widgets/base",
      "_view_module_version": "1.2.0",
      "_view_name": "StyleView",
      "description_width": ""
     }
    },
    "85608421c82844659eb4463fa18aa90c": {
     "model_module": "@jupyter-widgets/base",
     "model_module_version": "1.2.0",
     "model_name": "LayoutModel",
     "state": {
      "_model_module": "@jupyter-widgets/base",
      "_model_module_version": "1.2.0",
      "_model_name": "LayoutModel",
      "_view_count": null,
      "_view_module": "@jupyter-widgets/base",
      "_view_module_version": "1.2.0",
      "_view_name": "LayoutView",
      "align_content": null,
      "align_items": null,
      "align_self": null,
      "border": null,
      "bottom": null,
      "display": null,
      "flex": null,
      "flex_flow": null,
      "grid_area": null,
      "grid_auto_columns": null,
      "grid_auto_flow": null,
      "grid_auto_rows": null,
      "grid_column": null,
      "grid_gap": null,
      "grid_row": null,
      "grid_template_areas": null,
      "grid_template_columns": null,
      "grid_template_rows": null,
      "height": null,
      "justify_content": null,
      "justify_items": null,
      "left": null,
      "margin": null,
      "max_height": null,
      "max_width": null,
      "min_height": null,
      "min_width": null,
      "object_fit": null,
      "object_position": null,
      "order": null,
      "overflow": null,
      "overflow_x": null,
      "overflow_y": null,
      "padding": null,
      "right": null,
      "top": null,
      "visibility": null,
      "width": null
     }
    },
    "858fe2f7fce248b2b988273189f02980": {
     "model_module": "@jupyter-widgets/controls",
     "model_module_version": "1.5.0",
     "model_name": "PasswordModel",
     "state": {
      "_dom_classes": [],
      "_model_module": "@jupyter-widgets/controls",
      "_model_module_version": "1.5.0",
      "_model_name": "PasswordModel",
      "_view_count": null,
      "_view_module": "@jupyter-widgets/controls",
      "_view_module_version": "1.5.0",
      "_view_name": "PasswordView",
      "continuous_update": true,
      "description": "Token:",
      "description_tooltip": null,
      "disabled": false,
      "layout": "IPY_MODEL_0847dd37825b490daf9f2323e96a36ec",
      "placeholder": "​",
      "style": "IPY_MODEL_34687310978748c48d1231617c602260",
      "value": ""
     }
    },
    "8bb7b6be1fda4b34b35ada4ef74a4c5e": {
     "model_module": "@jupyter-widgets/base",
     "model_module_version": "1.2.0",
     "model_name": "LayoutModel",
     "state": {
      "_model_module": "@jupyter-widgets/base",
      "_model_module_version": "1.2.0",
      "_model_name": "LayoutModel",
      "_view_count": null,
      "_view_module": "@jupyter-widgets/base",
      "_view_module_version": "1.2.0",
      "_view_name": "LayoutView",
      "align_content": null,
      "align_items": null,
      "align_self": null,
      "border": null,
      "bottom": null,
      "display": null,
      "flex": null,
      "flex_flow": null,
      "grid_area": null,
      "grid_auto_columns": null,
      "grid_auto_flow": null,
      "grid_auto_rows": null,
      "grid_column": null,
      "grid_gap": null,
      "grid_row": null,
      "grid_template_areas": null,
      "grid_template_columns": null,
      "grid_template_rows": null,
      "height": null,
      "justify_content": null,
      "justify_items": null,
      "left": null,
      "margin": null,
      "max_height": null,
      "max_width": null,
      "min_height": null,
      "min_width": null,
      "object_fit": null,
      "object_position": null,
      "order": null,
      "overflow": null,
      "overflow_x": null,
      "overflow_y": null,
      "padding": null,
      "right": null,
      "top": null,
      "visibility": null,
      "width": null
     }
    },
    "8bdecefe49e2452681ee762008b8d8d7": {
     "model_module": "@jupyter-widgets/controls",
     "model_module_version": "1.5.0",
     "model_name": "HTMLModel",
     "state": {
      "_dom_classes": [],
      "_model_module": "@jupyter-widgets/controls",
      "_model_module_version": "1.5.0",
      "_model_name": "HTMLModel",
      "_view_count": null,
      "_view_module": "@jupyter-widgets/controls",
      "_view_module_version": "1.5.0",
      "_view_name": "HTMLView",
      "description": "",
      "description_tooltip": null,
      "layout": "IPY_MODEL_57dacd3d3c3d40e29bd8a564cdec9914",
      "placeholder": "​",
      "style": "IPY_MODEL_d9024e7ca019402c8eb3ed5d7fa01546",
      "value": "\n<b>Pro Tip:</b> If you don't already have one, you can create a dedicated\n'notebooks' token with 'write' access, that you can then easily reuse for all\nnotebooks. </center>"
     }
    },
    "8d2708ae8a494e4c86bc1b5da9581510": {
     "model_module": "@jupyter-widgets/base",
     "model_module_version": "1.2.0",
     "model_name": "LayoutModel",
     "state": {
      "_model_module": "@jupyter-widgets/base",
      "_model_module_version": "1.2.0",
      "_model_name": "LayoutModel",
      "_view_count": null,
      "_view_module": "@jupyter-widgets/base",
      "_view_module_version": "1.2.0",
      "_view_name": "LayoutView",
      "align_content": null,
      "align_items": null,
      "align_self": null,
      "border": null,
      "bottom": null,
      "display": null,
      "flex": null,
      "flex_flow": null,
      "grid_area": null,
      "grid_auto_columns": null,
      "grid_auto_flow": null,
      "grid_auto_rows": null,
      "grid_column": null,
      "grid_gap": null,
      "grid_row": null,
      "grid_template_areas": null,
      "grid_template_columns": null,
      "grid_template_rows": null,
      "height": null,
      "justify_content": null,
      "justify_items": null,
      "left": null,
      "margin": null,
      "max_height": null,
      "max_width": null,
      "min_height": null,
      "min_width": null,
      "object_fit": null,
      "object_position": null,
      "order": null,
      "overflow": null,
      "overflow_x": null,
      "overflow_y": null,
      "padding": null,
      "right": null,
      "top": null,
      "visibility": null,
      "width": null
     }
    },
    "8d2af9c41dc34abb8b1ad21eaef10718": {
     "model_module": "@jupyter-widgets/controls",
     "model_module_version": "1.5.0",
     "model_name": "FloatProgressModel",
     "state": {
      "_dom_classes": [],
      "_model_module": "@jupyter-widgets/controls",
      "_model_module_version": "1.5.0",
      "_model_name": "FloatProgressModel",
      "_view_count": null,
      "_view_module": "@jupyter-widgets/controls",
      "_view_module_version": "1.5.0",
      "_view_name": "ProgressView",
      "bar_style": "success",
      "description": "",
      "description_tooltip": null,
      "layout": "IPY_MODEL_8bb7b6be1fda4b34b35ada4ef74a4c5e",
      "max": 55425,
      "min": 0,
      "orientation": "horizontal",
      "style": "IPY_MODEL_1c86ad00b34b4bd59938ba288073c639",
      "value": 55425
     }
    },
    "8d4649db9b104af6aa460f8c1ffe9b72": {
     "model_module": "@jupyter-widgets/base",
     "model_module_version": "1.2.0",
     "model_name": "LayoutModel",
     "state": {
      "_model_module": "@jupyter-widgets/base",
      "_model_module_version": "1.2.0",
      "_model_name": "LayoutModel",
      "_view_count": null,
      "_view_module": "@jupyter-widgets/base",
      "_view_module_version": "1.2.0",
      "_view_name": "LayoutView",
      "align_content": null,
      "align_items": null,
      "align_self": null,
      "border": null,
      "bottom": null,
      "display": null,
      "flex": null,
      "flex_flow": null,
      "grid_area": null,
      "grid_auto_columns": null,
      "grid_auto_flow": null,
      "grid_auto_rows": null,
      "grid_column": null,
      "grid_gap": null,
      "grid_row": null,
      "grid_template_areas": null,
      "grid_template_columns": null,
      "grid_template_rows": null,
      "height": null,
      "justify_content": null,
      "justify_items": null,
      "left": null,
      "margin": null,
      "max_height": null,
      "max_width": null,
      "min_height": null,
      "min_width": null,
      "object_fit": null,
      "object_position": null,
      "order": null,
      "overflow": null,
      "overflow_x": null,
      "overflow_y": null,
      "padding": null,
      "right": null,
      "top": null,
      "visibility": null,
      "width": null
     }
    },
    "8de39411db814e70bcceb7b132856db6": {
     "model_module": "@jupyter-widgets/controls",
     "model_module_version": "1.5.0",
     "model_name": "LabelModel",
     "state": {
      "_dom_classes": [],
      "_model_module": "@jupyter-widgets/controls",
      "_model_module_version": "1.5.0",
      "_model_name": "LabelModel",
      "_view_count": null,
      "_view_module": "@jupyter-widgets/controls",
      "_view_module_version": "1.5.0",
      "_view_name": "LabelView",
      "description": "",
      "description_tooltip": null,
      "layout": "IPY_MODEL_1144b7efd2ce4e31a4bbe1920980cdde",
      "placeholder": "​",
      "style": "IPY_MODEL_41afae70f6d442fb881cef3ea660cc14",
      "value": "Connecting..."
     }
    },
    "92d398de3226443e8842d4da4b89fe65": {
     "model_module": "@jupyter-widgets/controls",
     "model_module_version": "1.5.0",
     "model_name": "FloatProgressModel",
     "state": {
      "_dom_classes": [],
      "_model_module": "@jupyter-widgets/controls",
      "_model_module_version": "1.5.0",
      "_model_name": "FloatProgressModel",
      "_view_count": null,
      "_view_module": "@jupyter-widgets/controls",
      "_view_module_version": "1.5.0",
      "_view_name": "ProgressView",
      "bar_style": "success",
      "description": "",
      "description_tooltip": null,
      "layout": "IPY_MODEL_732b8cadf7fb4659b448b68c92524a3f",
      "max": 2345,
      "min": 0,
      "orientation": "horizontal",
      "style": "IPY_MODEL_7a6a05258d124fd690907fb8f9a590ad",
      "value": 2345
     }
    },
    "93af4773343f4e56bea59cd8a73d961a": {
     "model_module": "@jupyter-widgets/controls",
     "model_module_version": "1.5.0",
     "model_name": "ButtonStyleModel",
     "state": {
      "_model_module": "@jupyter-widgets/controls",
      "_model_module_version": "1.5.0",
      "_model_name": "ButtonStyleModel",
      "_view_count": null,
      "_view_module": "@jupyter-widgets/base",
      "_view_module_version": "1.2.0",
      "_view_name": "StyleView",
      "button_color": null,
      "font_weight": ""
     }
    },
    "93cb68688afc4fe1a619966e27834cce": {
     "model_module": "@jupyter-widgets/base",
     "model_module_version": "1.2.0",
     "model_name": "LayoutModel",
     "state": {
      "_model_module": "@jupyter-widgets/base",
      "_model_module_version": "1.2.0",
      "_model_name": "LayoutModel",
      "_view_count": null,
      "_view_module": "@jupyter-widgets/base",
      "_view_module_version": "1.2.0",
      "_view_name": "LayoutView",
      "align_content": null,
      "align_items": "center",
      "align_self": null,
      "border": null,
      "bottom": null,
      "display": "flex",
      "flex": null,
      "flex_flow": "column",
      "grid_area": null,
      "grid_auto_columns": null,
      "grid_auto_flow": null,
      "grid_auto_rows": null,
      "grid_column": null,
      "grid_gap": null,
      "grid_row": null,
      "grid_template_areas": null,
      "grid_template_columns": null,
      "grid_template_rows": null,
      "height": null,
      "justify_content": null,
      "justify_items": null,
      "left": null,
      "margin": null,
      "max_height": null,
      "max_width": null,
      "min_height": null,
      "min_width": null,
      "object_fit": null,
      "object_position": null,
      "order": null,
      "overflow": null,
      "overflow_x": null,
      "overflow_y": null,
      "padding": null,
      "right": null,
      "top": null,
      "visibility": null,
      "width": "50%"
     }
    },
    "94c70b4e2e3e48fe937af98f5b49bae6": {
     "model_module": "@jupyter-widgets/base",
     "model_module_version": "1.2.0",
     "model_name": "LayoutModel",
     "state": {
      "_model_module": "@jupyter-widgets/base",
      "_model_module_version": "1.2.0",
      "_model_name": "LayoutModel",
      "_view_count": null,
      "_view_module": "@jupyter-widgets/base",
      "_view_module_version": "1.2.0",
      "_view_name": "LayoutView",
      "align_content": null,
      "align_items": null,
      "align_self": null,
      "border": null,
      "bottom": null,
      "display": null,
      "flex": null,
      "flex_flow": null,
      "grid_area": null,
      "grid_auto_columns": null,
      "grid_auto_flow": null,
      "grid_auto_rows": null,
      "grid_column": null,
      "grid_gap": null,
      "grid_row": null,
      "grid_template_areas": null,
      "grid_template_columns": null,
      "grid_template_rows": null,
      "height": null,
      "justify_content": null,
      "justify_items": null,
      "left": null,
      "margin": null,
      "max_height": null,
      "max_width": null,
      "min_height": null,
      "min_width": null,
      "object_fit": null,
      "object_position": null,
      "order": null,
      "overflow": null,
      "overflow_x": null,
      "overflow_y": null,
      "padding": null,
      "right": null,
      "top": null,
      "visibility": null,
      "width": null
     }
    },
    "9667bea8000c478ea457878fd19e426b": {
     "model_module": "@jupyter-widgets/controls",
     "model_module_version": "1.5.0",
     "model_name": "HTMLModel",
     "state": {
      "_dom_classes": [],
      "_model_module": "@jupyter-widgets/controls",
      "_model_module_version": "1.5.0",
      "_model_name": "HTMLModel",
      "_view_count": null,
      "_view_module": "@jupyter-widgets/controls",
      "_view_module_version": "1.5.0",
      "_view_name": "HTMLView",
      "description": "",
      "description_tooltip": null,
      "layout": "IPY_MODEL_e5e50755517f4e6093fe986e3febf404",
      "placeholder": "​",
      "style": "IPY_MODEL_28dc912bf58a45f9928d3e4fc466cdc7",
      "value": " 2.28k/2.28k [00:00&lt;00:00, 134kB/s]"
     }
    },
    "98c3cdb11ec041f1a052bbb49d005ff8": {
     "model_module": "@jupyter-widgets/controls",
     "model_module_version": "1.5.0",
     "model_name": "HTMLModel",
     "state": {
      "_dom_classes": [],
      "_model_module": "@jupyter-widgets/controls",
      "_model_module_version": "1.5.0",
      "_model_name": "HTMLModel",
      "_view_count": null,
      "_view_module": "@jupyter-widgets/controls",
      "_view_module_version": "1.5.0",
      "_view_name": "HTMLView",
      "description": "",
      "description_tooltip": null,
      "layout": "IPY_MODEL_3c19a23ece2f4f88b714797a2693e62b",
      "placeholder": "​",
      "style": "IPY_MODEL_e262bedad27449d6a620a66f9946a904",
      "value": "Downloading result: 100%"
     }
    },
    "9a3a0abac95c473388c44d763142d8ca": {
     "model_module": "@jupyter-widgets/base",
     "model_module_version": "1.2.0",
     "model_name": "LayoutModel",
     "state": {
      "_model_module": "@jupyter-widgets/base",
      "_model_module_version": "1.2.0",
      "_model_name": "LayoutModel",
      "_view_count": null,
      "_view_module": "@jupyter-widgets/base",
      "_view_module_version": "1.2.0",
      "_view_name": "LayoutView",
      "align_content": null,
      "align_items": null,
      "align_self": null,
      "border": null,
      "bottom": null,
      "display": null,
      "flex": null,
      "flex_flow": null,
      "grid_area": null,
      "grid_auto_columns": null,
      "grid_auto_flow": null,
      "grid_auto_rows": null,
      "grid_column": null,
      "grid_gap": null,
      "grid_row": null,
      "grid_template_areas": null,
      "grid_template_columns": null,
      "grid_template_rows": null,
      "height": null,
      "justify_content": null,
      "justify_items": null,
      "left": null,
      "margin": null,
      "max_height": null,
      "max_width": null,
      "min_height": null,
      "min_width": null,
      "object_fit": null,
      "object_position": null,
      "order": null,
      "overflow": null,
      "overflow_x": null,
      "overflow_y": null,
      "padding": null,
      "right": null,
      "top": null,
      "visibility": null,
      "width": null
     }
    },
    "9b803ec4c761480c96e8fb5e9a30ec20": {
     "model_module": "@jupyter-widgets/base",
     "model_module_version": "1.2.0",
     "model_name": "LayoutModel",
     "state": {
      "_model_module": "@jupyter-widgets/base",
      "_model_module_version": "1.2.0",
      "_model_name": "LayoutModel",
      "_view_count": null,
      "_view_module": "@jupyter-widgets/base",
      "_view_module_version": "1.2.0",
      "_view_name": "LayoutView",
      "align_content": null,
      "align_items": null,
      "align_self": null,
      "border": null,
      "bottom": null,
      "display": null,
      "flex": null,
      "flex_flow": null,
      "grid_area": null,
      "grid_auto_columns": null,
      "grid_auto_flow": null,
      "grid_auto_rows": null,
      "grid_column": null,
      "grid_gap": null,
      "grid_row": null,
      "grid_template_areas": null,
      "grid_template_columns": null,
      "grid_template_rows": null,
      "height": null,
      "justify_content": null,
      "justify_items": null,
      "left": null,
      "margin": null,
      "max_height": null,
      "max_width": null,
      "min_height": null,
      "min_width": null,
      "object_fit": null,
      "object_position": null,
      "order": null,
      "overflow": null,
      "overflow_x": null,
      "overflow_y": null,
      "padding": null,
      "right": null,
      "top": null,
      "visibility": null,
      "width": null
     }
    },
    "9df23e0915b54861a7ff5456a0c3fcd0": {
     "model_module": "@jupyter-widgets/base",
     "model_module_version": "1.2.0",
     "model_name": "LayoutModel",
     "state": {
      "_model_module": "@jupyter-widgets/base",
      "_model_module_version": "1.2.0",
      "_model_name": "LayoutModel",
      "_view_count": null,
      "_view_module": "@jupyter-widgets/base",
      "_view_module_version": "1.2.0",
      "_view_name": "LayoutView",
      "align_content": null,
      "align_items": null,
      "align_self": null,
      "border": null,
      "bottom": null,
      "display": null,
      "flex": null,
      "flex_flow": null,
      "grid_area": null,
      "grid_auto_columns": null,
      "grid_auto_flow": null,
      "grid_auto_rows": null,
      "grid_column": null,
      "grid_gap": null,
      "grid_row": null,
      "grid_template_areas": null,
      "grid_template_columns": null,
      "grid_template_rows": null,
      "height": null,
      "justify_content": null,
      "justify_items": null,
      "left": null,
      "margin": null,
      "max_height": null,
      "max_width": null,
      "min_height": null,
      "min_width": null,
      "object_fit": null,
      "object_position": null,
      "order": null,
      "overflow": null,
      "overflow_x": null,
      "overflow_y": null,
      "padding": null,
      "right": null,
      "top": null,
      "visibility": null,
      "width": null
     }
    },
    "9df4a782f62f422a83ac9f8f3813d6cd": {
     "model_module": "@jupyter-widgets/controls",
     "model_module_version": "1.5.0",
     "model_name": "HTMLModel",
     "state": {
      "_dom_classes": [],
      "_model_module": "@jupyter-widgets/controls",
      "_model_module_version": "1.5.0",
      "_model_name": "HTMLModel",
      "_view_count": null,
      "_view_module": "@jupyter-widgets/controls",
      "_view_module_version": "1.5.0",
      "_view_name": "HTMLView",
      "description": "",
      "description_tooltip": null,
      "layout": "IPY_MODEL_641d2d304ef04a28afcced6f10439d7d",
      "placeholder": "​",
      "style": "IPY_MODEL_23856400af1c4bc797359bbd10141c6f",
      "value": " 2.35k/2.35k [00:00&lt;00:00, 159kB/s]"
     }
    },
    "9f2ab8cc1efd434aa42b42fe05994781": {
     "model_module": "@jupyter-widgets/controls",
     "model_module_version": "1.5.0",
     "model_name": "HBoxModel",
     "state": {
      "_dom_classes": [],
      "_model_module": "@jupyter-widgets/controls",
      "_model_module_version": "1.5.0",
      "_model_name": "HBoxModel",
      "_view_count": null,
      "_view_module": "@jupyter-widgets/controls",
      "_view_module_version": "1.5.0",
      "_view_name": "HBoxView",
      "box_style": "",
      "children": [
       "IPY_MODEL_3d9aa264c5d44005814f58fc447fdcaa",
       "IPY_MODEL_27d6d9985f414a9dbd529b9d069afcde",
       "IPY_MODEL_dd713ab035d04b62882597d0e6ad694f"
      ],
      "layout": "IPY_MODEL_85608421c82844659eb4463fa18aa90c"
     }
    },
    "a0566f32b6c942d0b178da3cd27b8bb6": {
     "model_module": "@jupyter-widgets/controls",
     "model_module_version": "1.5.0",
     "model_name": "HTMLModel",
     "state": {
      "_dom_classes": [],
      "_model_module": "@jupyter-widgets/controls",
      "_model_module_version": "1.5.0",
      "_model_name": "HTMLModel",
      "_view_count": null,
      "_view_module": "@jupyter-widgets/controls",
      "_view_module_version": "1.5.0",
      "_view_name": "HTMLView",
      "description": "",
      "description_tooltip": null,
      "layout": "IPY_MODEL_5b1dd4e172b14db4bc18f4a3db28b265",
      "placeholder": "​",
      "style": "IPY_MODEL_a3f28a637ba14f7a930236e12e03cec7",
      "value": " 12.8k/12.8k [00:00&lt;00:00, 771kB/s]"
     }
    },
    "a1569879b4934ff185d2150544be79f6": {
     "model_module": "@jupyter-widgets/base",
     "model_module_version": "1.2.0",
     "model_name": "LayoutModel",
     "state": {
      "_model_module": "@jupyter-widgets/base",
      "_model_module_version": "1.2.0",
      "_model_name": "LayoutModel",
      "_view_count": null,
      "_view_module": "@jupyter-widgets/base",
      "_view_module_version": "1.2.0",
      "_view_name": "LayoutView",
      "align_content": null,
      "align_items": null,
      "align_self": null,
      "border": null,
      "bottom": null,
      "display": null,
      "flex": null,
      "flex_flow": null,
      "grid_area": null,
      "grid_auto_columns": null,
      "grid_auto_flow": null,
      "grid_auto_rows": null,
      "grid_column": null,
      "grid_gap": null,
      "grid_row": null,
      "grid_template_areas": null,
      "grid_template_columns": null,
      "grid_template_rows": null,
      "height": null,
      "justify_content": null,
      "justify_items": null,
      "left": null,
      "margin": null,
      "max_height": null,
      "max_width": null,
      "min_height": null,
      "min_width": null,
      "object_fit": null,
      "object_position": null,
      "order": null,
      "overflow": null,
      "overflow_x": null,
      "overflow_y": null,
      "padding": null,
      "right": null,
      "top": null,
      "visibility": null,
      "width": null
     }
    },
    "a1d872d771d64019a0678000f1dc6484": {
     "model_module": "@jupyter-widgets/base",
     "model_module_version": "1.2.0",
     "model_name": "LayoutModel",
     "state": {
      "_model_module": "@jupyter-widgets/base",
      "_model_module_version": "1.2.0",
      "_model_name": "LayoutModel",
      "_view_count": null,
      "_view_module": "@jupyter-widgets/base",
      "_view_module_version": "1.2.0",
      "_view_name": "LayoutView",
      "align_content": null,
      "align_items": null,
      "align_self": null,
      "border": null,
      "bottom": null,
      "display": null,
      "flex": null,
      "flex_flow": null,
      "grid_area": null,
      "grid_auto_columns": null,
      "grid_auto_flow": null,
      "grid_auto_rows": null,
      "grid_column": null,
      "grid_gap": null,
      "grid_row": null,
      "grid_template_areas": null,
      "grid_template_columns": null,
      "grid_template_rows": null,
      "height": null,
      "justify_content": null,
      "justify_items": null,
      "left": null,
      "margin": null,
      "max_height": null,
      "max_width": null,
      "min_height": null,
      "min_width": null,
      "object_fit": null,
      "object_position": null,
      "order": null,
      "overflow": null,
      "overflow_x": null,
      "overflow_y": null,
      "padding": null,
      "right": null,
      "top": null,
      "visibility": null,
      "width": null
     }
    },
    "a35695c9c2554f708b037f29023c6008": {
     "model_module": "@jupyter-widgets/controls",
     "model_module_version": "1.5.0",
     "model_name": "ProgressStyleModel",
     "state": {
      "_model_module": "@jupyter-widgets/controls",
      "_model_module_version": "1.5.0",
      "_model_name": "ProgressStyleModel",
      "_view_count": null,
      "_view_module": "@jupyter-widgets/base",
      "_view_module_version": "1.2.0",
      "_view_name": "StyleView",
      "bar_color": null,
      "description_width": ""
     }
    },
    "a3f28a637ba14f7a930236e12e03cec7": {
     "model_module": "@jupyter-widgets/controls",
     "model_module_version": "1.5.0",
     "model_name": "DescriptionStyleModel",
     "state": {
      "_model_module": "@jupyter-widgets/controls",
      "_model_module_version": "1.5.0",
      "_model_name": "DescriptionStyleModel",
      "_view_count": null,
      "_view_module": "@jupyter-widgets/base",
      "_view_module_version": "1.2.0",
      "_view_name": "StyleView",
      "description_width": ""
     }
    },
    "a4f58084625844a3b2c50b2fdcd9613f": {
     "model_module": "@jupyter-widgets/base",
     "model_module_version": "1.2.0",
     "model_name": "LayoutModel",
     "state": {
      "_model_module": "@jupyter-widgets/base",
      "_model_module_version": "1.2.0",
      "_model_name": "LayoutModel",
      "_view_count": null,
      "_view_module": "@jupyter-widgets/base",
      "_view_module_version": "1.2.0",
      "_view_name": "LayoutView",
      "align_content": null,
      "align_items": null,
      "align_self": null,
      "border": null,
      "bottom": null,
      "display": null,
      "flex": null,
      "flex_flow": null,
      "grid_area": null,
      "grid_auto_columns": null,
      "grid_auto_flow": null,
      "grid_auto_rows": null,
      "grid_column": null,
      "grid_gap": null,
      "grid_row": null,
      "grid_template_areas": null,
      "grid_template_columns": null,
      "grid_template_rows": null,
      "height": null,
      "justify_content": null,
      "justify_items": null,
      "left": null,
      "margin": null,
      "max_height": null,
      "max_width": null,
      "min_height": null,
      "min_width": null,
      "object_fit": null,
      "object_position": null,
      "order": null,
      "overflow": null,
      "overflow_x": null,
      "overflow_y": null,
      "padding": null,
      "right": null,
      "top": null,
      "visibility": null,
      "width": null
     }
    },
    "a7e811fa77c545f6b053ed8986b82478": {
     "model_module": "@jupyter-widgets/controls",
     "model_module_version": "1.5.0",
     "model_name": "ProgressStyleModel",
     "state": {
      "_model_module": "@jupyter-widgets/controls",
      "_model_module_version": "1.5.0",
      "_model_name": "ProgressStyleModel",
      "_view_count": null,
      "_view_module": "@jupyter-widgets/base",
      "_view_module_version": "1.2.0",
      "_view_name": "StyleView",
      "bar_color": null,
      "description_width": ""
     }
    },
    "abdbafc8c9f9475faa078e7ea8e55fa0": {
     "model_module": "@jupyter-widgets/base",
     "model_module_version": "1.2.0",
     "model_name": "LayoutModel",
     "state": {
      "_model_module": "@jupyter-widgets/base",
      "_model_module_version": "1.2.0",
      "_model_name": "LayoutModel",
      "_view_count": null,
      "_view_module": "@jupyter-widgets/base",
      "_view_module_version": "1.2.0",
      "_view_name": "LayoutView",
      "align_content": null,
      "align_items": null,
      "align_self": null,
      "border": null,
      "bottom": null,
      "display": null,
      "flex": null,
      "flex_flow": null,
      "grid_area": null,
      "grid_auto_columns": null,
      "grid_auto_flow": null,
      "grid_auto_rows": null,
      "grid_column": null,
      "grid_gap": null,
      "grid_row": null,
      "grid_template_areas": null,
      "grid_template_columns": null,
      "grid_template_rows": null,
      "height": null,
      "justify_content": null,
      "justify_items": null,
      "left": null,
      "margin": null,
      "max_height": null,
      "max_width": null,
      "min_height": null,
      "min_width": null,
      "object_fit": null,
      "object_position": null,
      "order": null,
      "overflow": null,
      "overflow_x": null,
      "overflow_y": null,
      "padding": null,
      "right": null,
      "top": null,
      "visibility": null,
      "width": null
     }
    },
    "ac5787f7cb55420abb1cf48806b3920c": {
     "model_module": "@jupyter-widgets/controls",
     "model_module_version": "1.5.0",
     "model_name": "FloatProgressModel",
     "state": {
      "_dom_classes": [],
      "_model_module": "@jupyter-widgets/controls",
      "_model_module_version": "1.5.0",
      "_model_name": "FloatProgressModel",
      "_view_count": null,
      "_view_module": "@jupyter-widgets/controls",
      "_view_module_version": "1.5.0",
      "_view_name": "ProgressView",
      "bar_style": "success",
      "description": "",
      "description_tooltip": null,
      "layout": "IPY_MODEL_e413e25858fe4323b9aa7b00652127fc",
      "max": 2281,
      "min": 0,
      "orientation": "horizontal",
      "style": "IPY_MODEL_a35695c9c2554f708b037f29023c6008",
      "value": 2281
     }
    },
    "b073d21802ad4d6695f465e65affb423": {
     "model_module": "@jupyter-widgets/controls",
     "model_module_version": "1.5.0",
     "model_name": "DescriptionStyleModel",
     "state": {
      "_model_module": "@jupyter-widgets/controls",
      "_model_module_version": "1.5.0",
      "_model_name": "DescriptionStyleModel",
      "_view_count": null,
      "_view_module": "@jupyter-widgets/base",
      "_view_module_version": "1.2.0",
      "_view_name": "StyleView",
      "description_width": ""
     }
    },
    "b6db703563c34c238685c24faf35a944": {
     "model_module": "@jupyter-widgets/base",
     "model_module_version": "1.2.0",
     "model_name": "LayoutModel",
     "state": {
      "_model_module": "@jupyter-widgets/base",
      "_model_module_version": "1.2.0",
      "_model_name": "LayoutModel",
      "_view_count": null,
      "_view_module": "@jupyter-widgets/base",
      "_view_module_version": "1.2.0",
      "_view_name": "LayoutView",
      "align_content": null,
      "align_items": null,
      "align_self": null,
      "border": null,
      "bottom": null,
      "display": null,
      "flex": null,
      "flex_flow": null,
      "grid_area": null,
      "grid_auto_columns": null,
      "grid_auto_flow": null,
      "grid_auto_rows": null,
      "grid_column": null,
      "grid_gap": null,
      "grid_row": null,
      "grid_template_areas": null,
      "grid_template_columns": null,
      "grid_template_rows": null,
      "height": null,
      "justify_content": null,
      "justify_items": null,
      "left": null,
      "margin": null,
      "max_height": null,
      "max_width": null,
      "min_height": null,
      "min_width": null,
      "object_fit": null,
      "object_position": null,
      "order": null,
      "overflow": null,
      "overflow_x": null,
      "overflow_y": null,
      "padding": null,
      "right": null,
      "top": null,
      "visibility": null,
      "width": null
     }
    },
    "b88ed5de45914bb7b3bf1f830de008b1": {
     "model_module": "@jupyter-widgets/controls",
     "model_module_version": "1.5.0",
     "model_name": "DescriptionStyleModel",
     "state": {
      "_model_module": "@jupyter-widgets/controls",
      "_model_module_version": "1.5.0",
      "_model_name": "DescriptionStyleModel",
      "_view_count": null,
      "_view_module": "@jupyter-widgets/base",
      "_view_module_version": "1.2.0",
      "_view_name": "StyleView",
      "description_width": ""
     }
    },
    "b8b7dff3f7a245a7b4f1ebdcb69e2621": {
     "model_module": "@jupyter-widgets/controls",
     "model_module_version": "1.5.0",
     "model_name": "ButtonModel",
     "state": {
      "_dom_classes": [],
      "_model_module": "@jupyter-widgets/controls",
      "_model_module_version": "1.5.0",
      "_model_name": "ButtonModel",
      "_view_count": null,
      "_view_module": "@jupyter-widgets/controls",
      "_view_module_version": "1.5.0",
      "_view_name": "ButtonView",
      "button_style": "",
      "description": "Login",
      "disabled": false,
      "icon": "",
      "layout": "IPY_MODEL_a1569879b4934ff185d2150544be79f6",
      "style": "IPY_MODEL_93af4773343f4e56bea59cd8a73d961a",
      "tooltip": ""
     }
    },
    "bb9a8afeaf4e4640ac2496ec0843e079": {
     "model_module": "@jupyter-widgets/controls",
     "model_module_version": "1.5.0",
     "model_name": "DescriptionStyleModel",
     "state": {
      "_model_module": "@jupyter-widgets/controls",
      "_model_module_version": "1.5.0",
      "_model_name": "DescriptionStyleModel",
      "_view_count": null,
      "_view_module": "@jupyter-widgets/base",
      "_view_module_version": "1.2.0",
      "_view_name": "StyleView",
      "description_width": ""
     }
    },
    "be306553de8b4b1aaac173a3ed9a3455": {
     "model_module": "@jupyter-widgets/base",
     "model_module_version": "1.2.0",
     "model_name": "LayoutModel",
     "state": {
      "_model_module": "@jupyter-widgets/base",
      "_model_module_version": "1.2.0",
      "_model_name": "LayoutModel",
      "_view_count": null,
      "_view_module": "@jupyter-widgets/base",
      "_view_module_version": "1.2.0",
      "_view_name": "LayoutView",
      "align_content": null,
      "align_items": null,
      "align_self": null,
      "border": null,
      "bottom": null,
      "display": null,
      "flex": null,
      "flex_flow": null,
      "grid_area": null,
      "grid_auto_columns": null,
      "grid_auto_flow": null,
      "grid_auto_rows": null,
      "grid_column": null,
      "grid_gap": null,
      "grid_row": null,
      "grid_template_areas": null,
      "grid_template_columns": null,
      "grid_template_rows": null,
      "height": null,
      "justify_content": null,
      "justify_items": null,
      "left": null,
      "margin": null,
      "max_height": null,
      "max_width": null,
      "min_height": null,
      "min_width": null,
      "object_fit": null,
      "object_position": null,
      "order": null,
      "overflow": null,
      "overflow_x": null,
      "overflow_y": null,
      "padding": null,
      "right": null,
      "top": null,
      "visibility": null,
      "width": null
     }
    },
    "ca82a83f9f954e3d93f33a7db529f378": {
     "model_module": "@jupyter-widgets/controls",
     "model_module_version": "1.5.0",
     "model_name": "HTMLModel",
     "state": {
      "_dom_classes": [],
      "_model_module": "@jupyter-widgets/controls",
      "_model_module_version": "1.5.0",
      "_model_name": "HTMLModel",
      "_view_count": null,
      "_view_module": "@jupyter-widgets/controls",
      "_view_module_version": "1.5.0",
      "_view_name": "HTMLView",
      "description": "",
      "description_tooltip": null,
      "layout": "IPY_MODEL_a1d872d771d64019a0678000f1dc6484",
      "placeholder": "​",
      "style": "IPY_MODEL_33943f5a61144efeacf3f03c316d723e",
      "value": "Downloading result: 100%"
     }
    },
    "cb63597d8cdb4ab2a6c6c69d6554be40": {
     "model_module": "@jupyter-widgets/controls",
     "model_module_version": "1.5.0",
     "model_name": "FloatProgressModel",
     "state": {
      "_dom_classes": [],
      "_model_module": "@jupyter-widgets/controls",
      "_model_module_version": "1.5.0",
      "_model_name": "FloatProgressModel",
      "_view_count": null,
      "_view_module": "@jupyter-widgets/controls",
      "_view_module_version": "1.5.0",
      "_view_name": "ProgressView",
      "bar_style": "success",
      "description": "",
      "description_tooltip": null,
      "layout": "IPY_MODEL_527ef320d9d44ea081c5e98e3c4a87e7",
      "max": 879,
      "min": 0,
      "orientation": "horizontal",
      "style": "IPY_MODEL_a7e811fa77c545f6b053ed8986b82478",
      "value": 879
     }
    },
    "cc7ceb6726d442d08b0fb9b1021d8594": {
     "model_module": "@jupyter-widgets/controls",
     "model_module_version": "1.5.0",
     "model_name": "ProgressStyleModel",
     "state": {
      "_model_module": "@jupyter-widgets/controls",
      "_model_module_version": "1.5.0",
      "_model_name": "ProgressStyleModel",
      "_view_count": null,
      "_view_module": "@jupyter-widgets/base",
      "_view_module_version": "1.2.0",
      "_view_name": "StyleView",
      "bar_color": null,
      "description_width": ""
     }
    },
    "ce29b46906894b54b6be324fb47c8add": {
     "model_module": "@jupyter-widgets/controls",
     "model_module_version": "1.5.0",
     "model_name": "HTMLModel",
     "state": {
      "_dom_classes": [],
      "_model_module": "@jupyter-widgets/controls",
      "_model_module_version": "1.5.0",
      "_model_name": "HTMLModel",
      "_view_count": null,
      "_view_module": "@jupyter-widgets/controls",
      "_view_module_version": "1.5.0",
      "_view_name": "HTMLView",
      "description": "",
      "description_tooltip": null,
      "layout": "IPY_MODEL_f90ad2aed0a84434ae379f4fa84c25a2",
      "placeholder": "​",
      "style": "IPY_MODEL_599124a41d57496db83cbd9201e7ef03",
      "value": " 879/879 [00:00&lt;00:00, 60.2kB/s]"
     }
    },
    "cfba938f92584730b983ea3b27a58636": {
     "model_module": "@jupyter-widgets/base",
     "model_module_version": "1.2.0",
     "model_name": "LayoutModel",
     "state": {
      "_model_module": "@jupyter-widgets/base",
      "_model_module_version": "1.2.0",
      "_model_name": "LayoutModel",
      "_view_count": null,
      "_view_module": "@jupyter-widgets/base",
      "_view_module_version": "1.2.0",
      "_view_name": "LayoutView",
      "align_content": null,
      "align_items": null,
      "align_self": null,
      "border": null,
      "bottom": null,
      "display": null,
      "flex": null,
      "flex_flow": null,
      "grid_area": null,
      "grid_auto_columns": null,
      "grid_auto_flow": null,
      "grid_auto_rows": null,
      "grid_column": null,
      "grid_gap": null,
      "grid_row": null,
      "grid_template_areas": null,
      "grid_template_columns": null,
      "grid_template_rows": null,
      "height": null,
      "justify_content": null,
      "justify_items": null,
      "left": null,
      "margin": null,
      "max_height": null,
      "max_width": null,
      "min_height": null,
      "min_width": null,
      "object_fit": null,
      "object_position": null,
      "order": null,
      "overflow": null,
      "overflow_x": null,
      "overflow_y": null,
      "padding": null,
      "right": null,
      "top": null,
      "visibility": null,
      "width": null
     }
    },
    "d0d56a27765940b28afa1d5f7d4b820a": {
     "model_module": "@jupyter-widgets/controls",
     "model_module_version": "1.5.0",
     "model_name": "HBoxModel",
     "state": {
      "_dom_classes": [],
      "_model_module": "@jupyter-widgets/controls",
      "_model_module_version": "1.5.0",
      "_model_name": "HBoxModel",
      "_view_count": null,
      "_view_module": "@jupyter-widgets/controls",
      "_view_module_version": "1.5.0",
      "_view_name": "HBoxView",
      "box_style": "",
      "children": [
       "IPY_MODEL_ca82a83f9f954e3d93f33a7db529f378",
       "IPY_MODEL_eb81b6bf39b340dd99af0f84af1ccee7",
       "IPY_MODEL_48da51c0b7854f5b9c46625c1a2a22d6"
      ],
      "layout": "IPY_MODEL_94c70b4e2e3e48fe937af98f5b49bae6"
     }
    },
    "d7a534d7d94f4e8c8faff69e1b9e6cec": {
     "model_module": "@jupyter-widgets/base",
     "model_module_version": "1.2.0",
     "model_name": "LayoutModel",
     "state": {
      "_model_module": "@jupyter-widgets/base",
      "_model_module_version": "1.2.0",
      "_model_name": "LayoutModel",
      "_view_count": null,
      "_view_module": "@jupyter-widgets/base",
      "_view_module_version": "1.2.0",
      "_view_name": "LayoutView",
      "align_content": null,
      "align_items": null,
      "align_self": null,
      "border": null,
      "bottom": null,
      "display": null,
      "flex": null,
      "flex_flow": null,
      "grid_area": null,
      "grid_auto_columns": null,
      "grid_auto_flow": null,
      "grid_auto_rows": null,
      "grid_column": null,
      "grid_gap": null,
      "grid_row": null,
      "grid_template_areas": null,
      "grid_template_columns": null,
      "grid_template_rows": null,
      "height": null,
      "justify_content": null,
      "justify_items": null,
      "left": null,
      "margin": null,
      "max_height": null,
      "max_width": null,
      "min_height": null,
      "min_width": null,
      "object_fit": null,
      "object_position": null,
      "order": null,
      "overflow": null,
      "overflow_x": null,
      "overflow_y": null,
      "padding": null,
      "right": null,
      "top": null,
      "visibility": null,
      "width": null
     }
    },
    "d7e79090801f4a718a812105fa04ad11": {
     "model_module": "@jupyter-widgets/controls",
     "model_module_version": "1.5.0",
     "model_name": "DescriptionStyleModel",
     "state": {
      "_model_module": "@jupyter-widgets/controls",
      "_model_module_version": "1.5.0",
      "_model_name": "DescriptionStyleModel",
      "_view_count": null,
      "_view_module": "@jupyter-widgets/base",
      "_view_module_version": "1.2.0",
      "_view_name": "StyleView",
      "description_width": ""
     }
    },
    "d823c90bcec3467989e95c960d698c0e": {
     "model_module": "@jupyter-widgets/controls",
     "model_module_version": "1.5.0",
     "model_name": "HTMLModel",
     "state": {
      "_dom_classes": [],
      "_model_module": "@jupyter-widgets/controls",
      "_model_module_version": "1.5.0",
      "_model_name": "HTMLModel",
      "_view_count": null,
      "_view_module": "@jupyter-widgets/controls",
      "_view_module_version": "1.5.0",
      "_view_name": "HTMLView",
      "description": "",
      "description_tooltip": null,
      "layout": "IPY_MODEL_3648113e51934327866c569e3aabfed0",
      "placeholder": "​",
      "style": "IPY_MODEL_68a00a969b41404db01db5f0c9100668",
      "value": "Downloading result: 100%"
     }
    },
    "d9024e7ca019402c8eb3ed5d7fa01546": {
     "model_module": "@jupyter-widgets/controls",
     "model_module_version": "1.5.0",
     "model_name": "DescriptionStyleModel",
     "state": {
      "_model_module": "@jupyter-widgets/controls",
      "_model_module_version": "1.5.0",
      "_model_name": "DescriptionStyleModel",
      "_view_count": null,
      "_view_module": "@jupyter-widgets/base",
      "_view_module_version": "1.2.0",
      "_view_name": "StyleView",
      "description_width": ""
     }
    },
    "d985f378737e4f09889175a934f88847": {
     "model_module": "@jupyter-widgets/controls",
     "model_module_version": "1.5.0",
     "model_name": "HTMLModel",
     "state": {
      "_dom_classes": [],
      "_model_module": "@jupyter-widgets/controls",
      "_model_module_version": "1.5.0",
      "_model_name": "HTMLModel",
      "_view_count": null,
      "_view_module": "@jupyter-widgets/controls",
      "_view_module_version": "1.5.0",
      "_view_name": "HTMLView",
      "description": "",
      "description_tooltip": null,
      "layout": "IPY_MODEL_4067ac5b7ae94e0f944d0b409608fa57",
      "placeholder": "​",
      "style": "IPY_MODEL_0d467ed5e24241838d6ecfb7a78b3052",
      "value": "Downloading result: 100%"
     }
    },
    "dd713ab035d04b62882597d0e6ad694f": {
     "model_module": "@jupyter-widgets/controls",
     "model_module_version": "1.5.0",
     "model_name": "HTMLModel",
     "state": {
      "_dom_classes": [],
      "_model_module": "@jupyter-widgets/controls",
      "_model_module_version": "1.5.0",
      "_model_name": "HTMLModel",
      "_view_count": null,
      "_view_module": "@jupyter-widgets/controls",
      "_view_module_version": "1.5.0",
      "_view_name": "HTMLView",
      "description": "",
      "description_tooltip": null,
      "layout": "IPY_MODEL_47abea8a0ea746c9a76a7f2628e550f8",
      "placeholder": "​",
      "style": "IPY_MODEL_3e3af88cdb344bf99f8e6427dc6cc12d",
      "value": " 2.28k/2.28k [00:00&lt;00:00, 43.8kB/s]"
     }
    },
    "e05d75834c1c47a599d4b09efbc0a80e": {
     "model_module": "@jupyter-widgets/controls",
     "model_module_version": "1.5.0",
     "model_name": "HBoxModel",
     "state": {
      "_dom_classes": [],
      "_model_module": "@jupyter-widgets/controls",
      "_model_module_version": "1.5.0",
      "_model_name": "HBoxModel",
      "_view_count": null,
      "_view_module": "@jupyter-widgets/controls",
      "_view_module_version": "1.5.0",
      "_view_name": "HBoxView",
      "box_style": "",
      "children": [
       "IPY_MODEL_98c3cdb11ec041f1a052bbb49d005ff8",
       "IPY_MODEL_ac5787f7cb55420abb1cf48806b3920c",
       "IPY_MODEL_9667bea8000c478ea457878fd19e426b"
      ],
      "layout": "IPY_MODEL_a4f58084625844a3b2c50b2fdcd9613f"
     }
    },
    "e262bedad27449d6a620a66f9946a904": {
     "model_module": "@jupyter-widgets/controls",
     "model_module_version": "1.5.0",
     "model_name": "DescriptionStyleModel",
     "state": {
      "_model_module": "@jupyter-widgets/controls",
      "_model_module_version": "1.5.0",
      "_model_name": "DescriptionStyleModel",
      "_view_count": null,
      "_view_module": "@jupyter-widgets/base",
      "_view_module_version": "1.2.0",
      "_view_name": "StyleView",
      "description_width": ""
     }
    },
    "e413e25858fe4323b9aa7b00652127fc": {
     "model_module": "@jupyter-widgets/base",
     "model_module_version": "1.2.0",
     "model_name": "LayoutModel",
     "state": {
      "_model_module": "@jupyter-widgets/base",
      "_model_module_version": "1.2.0",
      "_model_name": "LayoutModel",
      "_view_count": null,
      "_view_module": "@jupyter-widgets/base",
      "_view_module_version": "1.2.0",
      "_view_name": "LayoutView",
      "align_content": null,
      "align_items": null,
      "align_self": null,
      "border": null,
      "bottom": null,
      "display": null,
      "flex": null,
      "flex_flow": null,
      "grid_area": null,
      "grid_auto_columns": null,
      "grid_auto_flow": null,
      "grid_auto_rows": null,
      "grid_column": null,
      "grid_gap": null,
      "grid_row": null,
      "grid_template_areas": null,
      "grid_template_columns": null,
      "grid_template_rows": null,
      "height": null,
      "justify_content": null,
      "justify_items": null,
      "left": null,
      "margin": null,
      "max_height": null,
      "max_width": null,
      "min_height": null,
      "min_width": null,
      "object_fit": null,
      "object_position": null,
      "order": null,
      "overflow": null,
      "overflow_x": null,
      "overflow_y": null,
      "padding": null,
      "right": null,
      "top": null,
      "visibility": null,
      "width": null
     }
    },
    "e55f95b7874c41a7bf027a89855a830a": {
     "model_module": "@jupyter-widgets/base",
     "model_module_version": "1.2.0",
     "model_name": "LayoutModel",
     "state": {
      "_model_module": "@jupyter-widgets/base",
      "_model_module_version": "1.2.0",
      "_model_name": "LayoutModel",
      "_view_count": null,
      "_view_module": "@jupyter-widgets/base",
      "_view_module_version": "1.2.0",
      "_view_name": "LayoutView",
      "align_content": null,
      "align_items": null,
      "align_self": null,
      "border": null,
      "bottom": null,
      "display": null,
      "flex": null,
      "flex_flow": null,
      "grid_area": null,
      "grid_auto_columns": null,
      "grid_auto_flow": null,
      "grid_auto_rows": null,
      "grid_column": null,
      "grid_gap": null,
      "grid_row": null,
      "grid_template_areas": null,
      "grid_template_columns": null,
      "grid_template_rows": null,
      "height": null,
      "justify_content": null,
      "justify_items": null,
      "left": null,
      "margin": null,
      "max_height": null,
      "max_width": null,
      "min_height": null,
      "min_width": null,
      "object_fit": null,
      "object_position": null,
      "order": null,
      "overflow": null,
      "overflow_x": null,
      "overflow_y": null,
      "padding": null,
      "right": null,
      "top": null,
      "visibility": null,
      "width": null
     }
    },
    "e5e50755517f4e6093fe986e3febf404": {
     "model_module": "@jupyter-widgets/base",
     "model_module_version": "1.2.0",
     "model_name": "LayoutModel",
     "state": {
      "_model_module": "@jupyter-widgets/base",
      "_model_module_version": "1.2.0",
      "_model_name": "LayoutModel",
      "_view_count": null,
      "_view_module": "@jupyter-widgets/base",
      "_view_module_version": "1.2.0",
      "_view_name": "LayoutView",
      "align_content": null,
      "align_items": null,
      "align_self": null,
      "border": null,
      "bottom": null,
      "display": null,
      "flex": null,
      "flex_flow": null,
      "grid_area": null,
      "grid_auto_columns": null,
      "grid_auto_flow": null,
      "grid_auto_rows": null,
      "grid_column": null,
      "grid_gap": null,
      "grid_row": null,
      "grid_template_areas": null,
      "grid_template_columns": null,
      "grid_template_rows": null,
      "height": null,
      "justify_content": null,
      "justify_items": null,
      "left": null,
      "margin": null,
      "max_height": null,
      "max_width": null,
      "min_height": null,
      "min_width": null,
      "object_fit": null,
      "object_position": null,
      "order": null,
      "overflow": null,
      "overflow_x": null,
      "overflow_y": null,
      "padding": null,
      "right": null,
      "top": null,
      "visibility": null,
      "width": null
     }
    },
    "e6c60d343b324c25adb8ab3e320c2b5a": {
     "model_module": "@jupyter-widgets/base",
     "model_module_version": "1.2.0",
     "model_name": "LayoutModel",
     "state": {
      "_model_module": "@jupyter-widgets/base",
      "_model_module_version": "1.2.0",
      "_model_name": "LayoutModel",
      "_view_count": null,
      "_view_module": "@jupyter-widgets/base",
      "_view_module_version": "1.2.0",
      "_view_name": "LayoutView",
      "align_content": null,
      "align_items": null,
      "align_self": null,
      "border": null,
      "bottom": null,
      "display": null,
      "flex": null,
      "flex_flow": null,
      "grid_area": null,
      "grid_auto_columns": null,
      "grid_auto_flow": null,
      "grid_auto_rows": null,
      "grid_column": null,
      "grid_gap": null,
      "grid_row": null,
      "grid_template_areas": null,
      "grid_template_columns": null,
      "grid_template_rows": null,
      "height": null,
      "justify_content": null,
      "justify_items": null,
      "left": null,
      "margin": null,
      "max_height": null,
      "max_width": null,
      "min_height": null,
      "min_width": null,
      "object_fit": null,
      "object_position": null,
      "order": null,
      "overflow": null,
      "overflow_x": null,
      "overflow_y": null,
      "padding": null,
      "right": null,
      "top": null,
      "visibility": null,
      "width": null
     }
    },
    "ea6f42bd12c54222b4846a9ba0c858f3": {
     "model_module": "@jupyter-widgets/base",
     "model_module_version": "1.2.0",
     "model_name": "LayoutModel",
     "state": {
      "_model_module": "@jupyter-widgets/base",
      "_model_module_version": "1.2.0",
      "_model_name": "LayoutModel",
      "_view_count": null,
      "_view_module": "@jupyter-widgets/base",
      "_view_module_version": "1.2.0",
      "_view_name": "LayoutView",
      "align_content": null,
      "align_items": null,
      "align_self": null,
      "border": null,
      "bottom": null,
      "display": null,
      "flex": null,
      "flex_flow": null,
      "grid_area": null,
      "grid_auto_columns": null,
      "grid_auto_flow": null,
      "grid_auto_rows": null,
      "grid_column": null,
      "grid_gap": null,
      "grid_row": null,
      "grid_template_areas": null,
      "grid_template_columns": null,
      "grid_template_rows": null,
      "height": null,
      "justify_content": null,
      "justify_items": null,
      "left": null,
      "margin": null,
      "max_height": null,
      "max_width": null,
      "min_height": null,
      "min_width": null,
      "object_fit": null,
      "object_position": null,
      "order": null,
      "overflow": null,
      "overflow_x": null,
      "overflow_y": null,
      "padding": null,
      "right": null,
      "top": null,
      "visibility": null,
      "width": null
     }
    },
    "eb81b6bf39b340dd99af0f84af1ccee7": {
     "model_module": "@jupyter-widgets/controls",
     "model_module_version": "1.5.0",
     "model_name": "FloatProgressModel",
     "state": {
      "_dom_classes": [],
      "_model_module": "@jupyter-widgets/controls",
      "_model_module_version": "1.5.0",
      "_model_name": "FloatProgressModel",
      "_view_count": null,
      "_view_module": "@jupyter-widgets/controls",
      "_view_module_version": "1.5.0",
      "_view_name": "ProgressView",
      "bar_style": "success",
      "description": "",
      "description_tooltip": null,
      "layout": "IPY_MODEL_fbcd901eafbd45d2a77215c5f60bb984",
      "max": 2281,
      "min": 0,
      "orientation": "horizontal",
      "style": "IPY_MODEL_61470d9682ad4e0aa443e6e222602860",
      "value": 2281
     }
    },
    "ee9cb1d197134762b3e921b98c1f46b2": {
     "model_module": "@jupyter-widgets/controls",
     "model_module_version": "1.5.0",
     "model_name": "HTMLModel",
     "state": {
      "_dom_classes": [],
      "_model_module": "@jupyter-widgets/controls",
      "_model_module_version": "1.5.0",
      "_model_name": "HTMLModel",
      "_view_count": null,
      "_view_module": "@jupyter-widgets/controls",
      "_view_module_version": "1.5.0",
      "_view_name": "HTMLView",
      "description": "",
      "description_tooltip": null,
      "layout": "IPY_MODEL_185750180da246179791b6baf9feea05",
      "placeholder": "​",
      "style": "IPY_MODEL_1ee199e585c74d19a1f30aeb7aa4f8d4",
      "value": "tokenizer_config.json: 100%"
     }
    },
    "f3872b789fe445c0a5838e6f3ccc037f": {
     "model_module": "@jupyter-widgets/controls",
     "model_module_version": "1.5.0",
     "model_name": "DescriptionStyleModel",
     "state": {
      "_model_module": "@jupyter-widgets/controls",
      "_model_module_version": "1.5.0",
      "_model_name": "DescriptionStyleModel",
      "_view_count": null,
      "_view_module": "@jupyter-widgets/base",
      "_view_module_version": "1.2.0",
      "_view_name": "StyleView",
      "description_width": ""
     }
    },
    "f39c000c1f6c46f599bb593e4e30f383": {
     "model_module": "@jupyter-widgets/base",
     "model_module_version": "1.2.0",
     "model_name": "LayoutModel",
     "state": {
      "_model_module": "@jupyter-widgets/base",
      "_model_module_version": "1.2.0",
      "_model_name": "LayoutModel",
      "_view_count": null,
      "_view_module": "@jupyter-widgets/base",
      "_view_module_version": "1.2.0",
      "_view_name": "LayoutView",
      "align_content": null,
      "align_items": null,
      "align_self": null,
      "border": null,
      "bottom": null,
      "display": null,
      "flex": null,
      "flex_flow": null,
      "grid_area": null,
      "grid_auto_columns": null,
      "grid_auto_flow": null,
      "grid_auto_rows": null,
      "grid_column": null,
      "grid_gap": null,
      "grid_row": null,
      "grid_template_areas": null,
      "grid_template_columns": null,
      "grid_template_rows": null,
      "height": null,
      "justify_content": null,
      "justify_items": null,
      "left": null,
      "margin": null,
      "max_height": null,
      "max_width": null,
      "min_height": null,
      "min_width": null,
      "object_fit": null,
      "object_position": null,
      "order": null,
      "overflow": null,
      "overflow_x": null,
      "overflow_y": null,
      "padding": null,
      "right": null,
      "top": null,
      "visibility": null,
      "width": null
     }
    },
    "f493abd6b76b4e909a09a3e86ebd5fa0": {
     "model_module": "@jupyter-widgets/controls",
     "model_module_version": "1.5.0",
     "model_name": "HBoxModel",
     "state": {
      "_dom_classes": [],
      "_model_module": "@jupyter-widgets/controls",
      "_model_module_version": "1.5.0",
      "_model_name": "HBoxModel",
      "_view_count": null,
      "_view_module": "@jupyter-widgets/controls",
      "_view_module_version": "1.5.0",
      "_view_name": "HBoxView",
      "box_style": "",
      "children": [
       "IPY_MODEL_d985f378737e4f09889175a934f88847",
       "IPY_MODEL_1b278b88e2614591b86d8c7f4774cb28",
       "IPY_MODEL_3a7494f5942e4a3d8ae4c15ce5264b54"
      ],
      "layout": "IPY_MODEL_9df23e0915b54861a7ff5456a0c3fcd0"
     }
    },
    "f78c06fc97ce4829b00ac325a87b97cd": {
     "model_module": "@jupyter-widgets/controls",
     "model_module_version": "1.5.0",
     "model_name": "HTMLModel",
     "state": {
      "_dom_classes": [],
      "_model_module": "@jupyter-widgets/controls",
      "_model_module_version": "1.5.0",
      "_model_name": "HTMLModel",
      "_view_count": null,
      "_view_module": "@jupyter-widgets/controls",
      "_view_module_version": "1.5.0",
      "_view_name": "HTMLView",
      "description": "",
      "description_tooltip": null,
      "layout": "IPY_MODEL_8d4649db9b104af6aa460f8c1ffe9b72",
      "placeholder": "​",
      "style": "IPY_MODEL_4d17df9cfa1046b8826ad59c56e66cc6",
      "value": "special_tokens_map.json: 100%"
     }
    },
    "f8b3c9996d6b497fab04e7b410d44c1b": {
     "model_module": "@jupyter-widgets/controls",
     "model_module_version": "1.5.0",
     "model_name": "DescriptionStyleModel",
     "state": {
      "_model_module": "@jupyter-widgets/controls",
      "_model_module_version": "1.5.0",
      "_model_name": "DescriptionStyleModel",
      "_view_count": null,
      "_view_module": "@jupyter-widgets/base",
      "_view_module_version": "1.2.0",
      "_view_name": "StyleView",
      "description_width": ""
     }
    },
    "f90ad2aed0a84434ae379f4fa84c25a2": {
     "model_module": "@jupyter-widgets/base",
     "model_module_version": "1.2.0",
     "model_name": "LayoutModel",
     "state": {
      "_model_module": "@jupyter-widgets/base",
      "_model_module_version": "1.2.0",
      "_model_name": "LayoutModel",
      "_view_count": null,
      "_view_module": "@jupyter-widgets/base",
      "_view_module_version": "1.2.0",
      "_view_name": "LayoutView",
      "align_content": null,
      "align_items": null,
      "align_self": null,
      "border": null,
      "bottom": null,
      "display": null,
      "flex": null,
      "flex_flow": null,
      "grid_area": null,
      "grid_auto_columns": null,
      "grid_auto_flow": null,
      "grid_auto_rows": null,
      "grid_column": null,
      "grid_gap": null,
      "grid_row": null,
      "grid_template_areas": null,
      "grid_template_columns": null,
      "grid_template_rows": null,
      "height": null,
      "justify_content": null,
      "justify_items": null,
      "left": null,
      "margin": null,
      "max_height": null,
      "max_width": null,
      "min_height": null,
      "min_width": null,
      "object_fit": null,
      "object_position": null,
      "order": null,
      "overflow": null,
      "overflow_x": null,
      "overflow_y": null,
      "padding": null,
      "right": null,
      "top": null,
      "visibility": null,
      "width": null
     }
    },
    "faf02d29eeb24e75b1fbb4acaf95440e": {
     "model_module": "@jupyter-widgets/controls",
     "model_module_version": "1.5.0",
     "model_name": "CheckboxModel",
     "state": {
      "_dom_classes": [],
      "_model_module": "@jupyter-widgets/controls",
      "_model_module_version": "1.5.0",
      "_model_name": "CheckboxModel",
      "_view_count": null,
      "_view_module": "@jupyter-widgets/controls",
      "_view_module_version": "1.5.0",
      "_view_name": "CheckboxView",
      "description": "Add token as git credential?",
      "description_tooltip": null,
      "disabled": false,
      "indent": true,
      "layout": "IPY_MODEL_e55f95b7874c41a7bf027a89855a830a",
      "style": "IPY_MODEL_d7e79090801f4a718a812105fa04ad11",
      "value": true
     }
    },
    "fbcd901eafbd45d2a77215c5f60bb984": {
     "model_module": "@jupyter-widgets/base",
     "model_module_version": "1.2.0",
     "model_name": "LayoutModel",
     "state": {
      "_model_module": "@jupyter-widgets/base",
      "_model_module_version": "1.2.0",
      "_model_name": "LayoutModel",
      "_view_count": null,
      "_view_module": "@jupyter-widgets/base",
      "_view_module_version": "1.2.0",
      "_view_name": "LayoutView",
      "align_content": null,
      "align_items": null,
      "align_self": null,
      "border": null,
      "bottom": null,
      "display": null,
      "flex": null,
      "flex_flow": null,
      "grid_area": null,
      "grid_auto_columns": null,
      "grid_auto_flow": null,
      "grid_auto_rows": null,
      "grid_column": null,
      "grid_gap": null,
      "grid_row": null,
      "grid_template_areas": null,
      "grid_template_columns": null,
      "grid_template_rows": null,
      "height": null,
      "justify_content": null,
      "justify_items": null,
      "left": null,
      "margin": null,
      "max_height": null,
      "max_width": null,
      "min_height": null,
      "min_width": null,
      "object_fit": null,
      "object_position": null,
      "order": null,
      "overflow": null,
      "overflow_x": null,
      "overflow_y": null,
      "padding": null,
      "right": null,
      "top": null,
      "visibility": null,
      "width": null
     }
    }
   }
  }
 },
 "nbformat": 4,
 "nbformat_minor": 0
}
